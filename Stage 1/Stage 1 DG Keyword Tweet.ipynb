{
 "cells": [
  {
   "cell_type": "markdown",
   "id": "d4ee3e02",
   "metadata": {},
   "source": [
    "### Stage 1 DG <br>\n",
    "\n",
    "Collect 5000 user that contain the keyword <br><br>\n",
    "1. diagnosed with depression <br>\n",
    "2. i have depression <br>\n",
    "3. i am depressed <br>\n",
    "4. diagnosed for depression <br> \n",
    "5. clinical depression <br>"
   ]
  },
  {
   "cell_type": "code",
   "execution_count": null,
   "id": "1a94d763",
   "metadata": {},
   "outputs": [],
   "source": [
    "import snscrape.modules.twitter as sntwitter\n",
    "import pandas as pd\n",
    "import datetime\n",
    "from datetime import date\n",
    "from datetime import datetime"
   ]
  },
  {
   "cell_type": "code",
   "execution_count": null,
   "id": "7abfeb98",
   "metadata": {},
   "outputs": [],
   "source": [
    "keywords = ['diagnosed with depression','i have depression','i am depressed','diagnosed for depression','clinical depression']\n",
    "\n",
    "# Created a list to append all tweet attributes(data)\n",
    "\n",
    "for keyword in keywords:\n",
    "    \n",
    "    attributes_container = []\n",
    "    key = '\"' + keyword + '\"'\n",
    "    \n",
    "    # Using TwitterSearchScraper to scrape data and append tweets to list\n",
    "    for i,tweet in enumerate(sntwitter.TwitterSearchScraper(key).get_items()):\n",
    "\n",
    "        if i==5000:\n",
    "            break\n",
    "        attributes_container.append({\"TwitterID\":tweet.user.username, \"Username\":tweet.user.displayname, \n",
    "                                     \"Keyword\":keyword, \"DateDepressionReported\":str(tweet.date.day)+\"-\"+str(tweet.date.month)+\"-\"+str(tweet.date.year), \n",
    "                                     \"ActualTweet\":tweet.url,\"TweetContent\":tweet.rawContent})\n",
    "\n",
    "\n",
    "    # Creating a dataframe from the tweets list above \n",
    "    tweets_df = pd.DataFrame(attributes_container, columns=[\"TwitterID\", \"Username\", \"Keyword\", \"DateDepressionReported\",\"ActualTweet\",\"TweetContent\"])\n",
    "\n",
    "    file_name = \"depressionKeyword_\"+keyword+\".csv\"\n",
    "    tweets_df.to_csv(file_name,index=False)\n",
    "    print(\"Done for \" + keyword)"
   ]
  }
 ],
 "metadata": {
  "kernelspec": {
   "display_name": "Python 3 (ipykernel)",
   "language": "python",
   "name": "python3"
  },
  "language_info": {
   "codemirror_mode": {
    "name": "ipython",
    "version": 3
   },
   "file_extension": ".py",
   "mimetype": "text/x-python",
   "name": "python",
   "nbconvert_exporter": "python",
   "pygments_lexer": "ipython3",
   "version": "3.9.7"
  }
 },
 "nbformat": 4,
 "nbformat_minor": 5
}
