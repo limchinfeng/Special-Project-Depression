{
 "cells": [
  {
   "cell_type": "markdown",
   "id": "a77022d1",
   "metadata": {},
   "source": [
    "### Stage 2 NDG <br>\n",
    "\n",
    "Randomize the 5000 ND users in 10 groups  \n",
    "\n",
    "1. the <br>\n",
    "2. i <br>\n",
    "3. to <br>\n",
    "4. a <br> \n",
    "5. and <br>\n",
    "6. is <br>\n",
    "7. in <br>\n",
    "8. it <br>\n",
    "9. you <br>\n",
    "10. of <br>"
   ]
  },
  {
   "cell_type": "code",
   "execution_count": 1,
   "id": "cbc4411b",
   "metadata": {},
   "outputs": [],
   "source": [
    "import numpy as np\n",
    "import pandas as pd\n",
    "import random\n",
    "import json"
   ]
  },
  {
   "cell_type": "code",
   "execution_count": 74,
   "id": "0ec94596",
   "metadata": {},
   "outputs": [],
   "source": [
    "data_a = pd.read_csv(\"nonDepressionKeyword_a.csv\")"
   ]
  },
  {
   "cell_type": "code",
   "execution_count": 75,
   "id": "7f68917a",
   "metadata": {
    "scrolled": true
   },
   "outputs": [
    {
     "data": {
      "text/html": [
       "<div>\n",
       "<style scoped>\n",
       "    .dataframe tbody tr th:only-of-type {\n",
       "        vertical-align: middle;\n",
       "    }\n",
       "\n",
       "    .dataframe tbody tr th {\n",
       "        vertical-align: top;\n",
       "    }\n",
       "\n",
       "    .dataframe thead th {\n",
       "        text-align: right;\n",
       "    }\n",
       "</style>\n",
       "<table border=\"1\" class=\"dataframe\">\n",
       "  <thead>\n",
       "    <tr style=\"text-align: right;\">\n",
       "      <th></th>\n",
       "      <th>TwitterID</th>\n",
       "      <th>Username</th>\n",
       "      <th>Keyword</th>\n",
       "      <th>DateDepressionReported</th>\n",
       "      <th>ActualTweet</th>\n",
       "      <th>TweetContent</th>\n",
       "    </tr>\n",
       "  </thead>\n",
       "  <tbody>\n",
       "    <tr>\n",
       "      <th>0</th>\n",
       "      <td>diaryofawhorror</td>\n",
       "      <td>🧍🏽‍♀️</td>\n",
       "      <td>a</td>\n",
       "      <td>13-3-2023</td>\n",
       "      <td>https://twitter.com/diaryofawhorror/status/163...</td>\n",
       "      <td>Chad is the first guy in the #Scream franchise...</td>\n",
       "    </tr>\n",
       "    <tr>\n",
       "      <th>1</th>\n",
       "      <td>gingerthemenace</td>\n",
       "      <td>Cherokee Princess.</td>\n",
       "      <td>a</td>\n",
       "      <td>13-3-2023</td>\n",
       "      <td>https://twitter.com/gingerthemenace/status/163...</td>\n",
       "      <td>Let me remind you that I don't even talk to my...</td>\n",
       "    </tr>\n",
       "    <tr>\n",
       "      <th>2</th>\n",
       "      <td>jksinterlude_</td>\n",
       "      <td>namjoon (avril)⁷ TLOU SPOILERS🪞</td>\n",
       "      <td>a</td>\n",
       "      <td>13-3-2023</td>\n",
       "      <td>https://twitter.com/jksinterlude_/status/16351...</td>\n",
       "      <td>SHE GAVE BIRTH WHILE SHE WAS KILLING A ZOMBIE????</td>\n",
       "    </tr>\n",
       "    <tr>\n",
       "      <th>3</th>\n",
       "      <td>_Emma_Crewe</td>\n",
       "      <td>Emma Crewe</td>\n",
       "      <td>a</td>\n",
       "      <td>13-3-2023</td>\n",
       "      <td>https://twitter.com/_Emma_Crewe/status/1635136...</td>\n",
       "      <td>A potential surprise from Texas with support f...</td>\n",
       "    </tr>\n",
       "    <tr>\n",
       "      <th>4</th>\n",
       "      <td>McguirePetrov</td>\n",
       "      <td>Petrov McGuire</td>\n",
       "      <td>a</td>\n",
       "      <td>13-3-2023</td>\n",
       "      <td>https://twitter.com/McguirePetrov/status/16351...</td>\n",
       "      <td>Lauren Gardner with the Oscars puns on NHL Net...</td>\n",
       "    </tr>\n",
       "  </tbody>\n",
       "</table>\n",
       "</div>"
      ],
      "text/plain": [
       "         TwitterID                         Username Keyword  \\\n",
       "0  diaryofawhorror                            🧍🏽‍♀️       a   \n",
       "1  gingerthemenace               Cherokee Princess.       a   \n",
       "2    jksinterlude_  namjoon (avril)⁷ TLOU SPOILERS🪞       a   \n",
       "3      _Emma_Crewe                       Emma Crewe       a   \n",
       "4    McguirePetrov                   Petrov McGuire       a   \n",
       "\n",
       "  DateDepressionReported                                        ActualTweet  \\\n",
       "0              13-3-2023  https://twitter.com/diaryofawhorror/status/163...   \n",
       "1              13-3-2023  https://twitter.com/gingerthemenace/status/163...   \n",
       "2              13-3-2023  https://twitter.com/jksinterlude_/status/16351...   \n",
       "3              13-3-2023  https://twitter.com/_Emma_Crewe/status/1635136...   \n",
       "4              13-3-2023  https://twitter.com/McguirePetrov/status/16351...   \n",
       "\n",
       "                                        TweetContent  \n",
       "0  Chad is the first guy in the #Scream franchise...  \n",
       "1  Let me remind you that I don't even talk to my...  \n",
       "2  SHE GAVE BIRTH WHILE SHE WAS KILLING A ZOMBIE????  \n",
       "3  A potential surprise from Texas with support f...  \n",
       "4  Lauren Gardner with the Oscars puns on NHL Net...  "
      ]
     },
     "execution_count": 75,
     "metadata": {},
     "output_type": "execute_result"
    }
   ],
   "source": [
    "data_a.head()"
   ]
  },
  {
   "cell_type": "code",
   "execution_count": 76,
   "id": "36a2851f",
   "metadata": {},
   "outputs": [
    {
     "data": {
      "text/plain": [
       "TwitterID                                                   diaryofawhorror\n",
       "Username                                                              🧍🏽‍♀️\n",
       "Keyword                                                                   a\n",
       "DateDepressionReported                                            13-3-2023\n",
       "ActualTweet               https://twitter.com/diaryofawhorror/status/163...\n",
       "TweetContent              Chad is the first guy in the #Scream franchise...\n",
       "Name: 0, dtype: object"
      ]
     },
     "execution_count": 76,
     "metadata": {},
     "output_type": "execute_result"
    }
   ],
   "source": [
    "data_a.iloc[0]"
   ]
  },
  {
   "cell_type": "code",
   "execution_count": 77,
   "id": "d2f9fd45",
   "metadata": {},
   "outputs": [],
   "source": [
    "random_a_TwitterID = data_a.TwitterID"
   ]
  },
  {
   "cell_type": "code",
   "execution_count": 78,
   "id": "61a5c053",
   "metadata": {},
   "outputs": [
    {
     "name": "stdout",
     "output_type": "stream",
     "text": [
      "0       diaryofawhorror\n",
      "1       gingerthemenace\n",
      "2         jksinterlude_\n",
      "3           _Emma_Crewe\n",
      "4         McguirePetrov\n",
      "             ...       \n",
      "4995      ToPayGodsDebt\n",
      "4996         drvarma_ak\n",
      "4997    Saanchit_sharma\n",
      "4998    TheElectorateWI\n",
      "4999         pepperowan\n",
      "Name: TwitterID, Length: 5000, dtype: object\n"
     ]
    }
   ],
   "source": [
    "print(random_a_TwitterID)"
   ]
  },
  {
   "cell_type": "code",
   "execution_count": 79,
   "id": "6f54767c",
   "metadata": {},
   "outputs": [],
   "source": [
    "random.shuffle(random_a_TwitterID)"
   ]
  },
  {
   "cell_type": "code",
   "execution_count": 80,
   "id": "9b1e0597",
   "metadata": {
    "scrolled": true
   },
   "outputs": [
    {
     "name": "stdout",
     "output_type": "stream",
     "text": [
      "0            CoopDuBois\n",
      "1       DragonImagining\n",
      "2            AnaaSilvia\n",
      "3           BABYCNBOARD\n",
      "4               swfs4x4\n",
      "             ...       \n",
      "4995         wheesexual\n",
      "4996         damnedith_\n",
      "4997         2SportsNut\n",
      "4998            larry0x\n",
      "4999          Kie6a6y60\n",
      "Name: TwitterID, Length: 5000, dtype: object\n"
     ]
    }
   ],
   "source": [
    "print(random_a_TwitterID)"
   ]
  },
  {
   "cell_type": "code",
   "execution_count": 58,
   "id": "b9419856",
   "metadata": {},
   "outputs": [
    {
     "name": "stdout",
     "output_type": "stream",
     "text": [
      "0          edwinxsilva\n",
      "1          BraydenChal\n",
      "2             multivax\n",
      "3           danyashere\n",
      "4         RPAN_Itachi_\n",
      "             ...      \n",
      "4995         _pipol123\n",
      "4996    SmallsGamingTM\n",
      "4997         honeyscps\n",
      "4998    spoopyspaniard\n",
      "4999        miketgould\n",
      "Name: TwitterID, Length: 5000, dtype: object\n"
     ]
    }
   ],
   "source": [
    "print(random_a_TwitterID)"
   ]
  },
  {
   "cell_type": "code",
   "execution_count": 84,
   "id": "92922ce1",
   "metadata": {},
   "outputs": [
    {
     "name": "stdout",
     "output_type": "stream",
     "text": [
      "Done for RandonNonDepression_a.csv\n"
     ]
    }
   ],
   "source": [
    "tweets_df = pd.DataFrame(random_a_TwitterID, columns=[\"TwitterID\"])\n",
    "\n",
    "file_name = \"RandonNonDepression_a.csv\"\n",
    "tweets_df.to_csv(file_name,index=False)\n",
    "print(\"Done for \" + file_name)"
   ]
  },
  {
   "cell_type": "code",
   "execution_count": 86,
   "id": "903cd14b",
   "metadata": {},
   "outputs": [
    {
     "name": "stdout",
     "output_type": "stream",
     "text": [
      "Done for RandonNonDepression_and.csv\n"
     ]
    }
   ],
   "source": [
    "data_and = pd.read_csv(\"nonDepressionKeyword_and.csv\")\n",
    "random_and_TwitterID = data_and.TwitterID\n",
    "random.shuffle(random_and_TwitterID)\n",
    "\n",
    "tweets_df = pd.DataFrame(random_and_TwitterID, columns=[\"TwitterID\"])\n",
    "\n",
    "file_name = \"RandonNonDepression_and.csv\"\n",
    "tweets_df.to_csv(file_name,index=False)\n",
    "print(\"Done for \" + file_name)"
   ]
  },
  {
   "cell_type": "code",
   "execution_count": 87,
   "id": "478adb7f",
   "metadata": {},
   "outputs": [
    {
     "name": "stdout",
     "output_type": "stream",
     "text": [
      "Done for RandonNonDepression_i.csv\n"
     ]
    }
   ],
   "source": [
    "data_i = pd.read_csv(\"nonDepressionKeyword_i.csv\")\n",
    "random_i_TwitterID = data_i.TwitterID\n",
    "random.shuffle(random_i_TwitterID)\n",
    "\n",
    "tweets_df = pd.DataFrame(random_i_TwitterID, columns=[\"TwitterID\"])\n",
    "\n",
    "file_name = \"RandonNonDepression_i.csv\"\n",
    "tweets_df.to_csv(file_name,index=False)\n",
    "print(\"Done for \" + file_name)"
   ]
  },
  {
   "cell_type": "code",
   "execution_count": 88,
   "id": "3ab7938a",
   "metadata": {},
   "outputs": [
    {
     "name": "stdout",
     "output_type": "stream",
     "text": [
      "Done for RandonNonDepression_in.csv\n"
     ]
    }
   ],
   "source": [
    "data_in = pd.read_csv(\"nonDepressionKeyword_in.csv\")\n",
    "random_in_TwitterID = data_in.TwitterID\n",
    "random.shuffle(random_in_TwitterID)\n",
    "\n",
    "tweets_df = pd.DataFrame(random_in_TwitterID, columns=[\"TwitterID\"])\n",
    "\n",
    "file_name = \"RandonNonDepression_in.csv\"\n",
    "tweets_df.to_csv(file_name,index=False)\n",
    "print(\"Done for \" + file_name)"
   ]
  },
  {
   "cell_type": "code",
   "execution_count": 89,
   "id": "72206777",
   "metadata": {},
   "outputs": [
    {
     "name": "stdout",
     "output_type": "stream",
     "text": [
      "Done for RandonNonDepression_is.csv\n"
     ]
    }
   ],
   "source": [
    "data_is = pd.read_csv(\"nonDepressionKeyword_is.csv\")\n",
    "random_is_TwitterID = data_is.TwitterID\n",
    "random.shuffle(random_is_TwitterID)\n",
    "\n",
    "tweets_df = pd.DataFrame(random_is_TwitterID, columns=[\"TwitterID\"])\n",
    "\n",
    "file_name = \"RandonNonDepression_is.csv\"\n",
    "tweets_df.to_csv(file_name,index=False)\n",
    "print(\"Done for \" + file_name)"
   ]
  },
  {
   "cell_type": "code",
   "execution_count": 90,
   "id": "66f04d5d",
   "metadata": {},
   "outputs": [
    {
     "name": "stdout",
     "output_type": "stream",
     "text": [
      "Done for RandonNonDepression_it.csv\n"
     ]
    }
   ],
   "source": [
    "data_it = pd.read_csv(\"nonDepressionKeyword_it.csv\")\n",
    "random_it_TwitterID = data_it.TwitterID\n",
    "random.shuffle(random_it_TwitterID)\n",
    "\n",
    "tweets_df = pd.DataFrame(random_it_TwitterID, columns=[\"TwitterID\"])\n",
    "\n",
    "file_name = \"RandonNonDepression_it.csv\"\n",
    "tweets_df.to_csv(file_name,index=False)\n",
    "print(\"Done for \" + file_name)"
   ]
  },
  {
   "cell_type": "code",
   "execution_count": 91,
   "id": "7bd69f86",
   "metadata": {},
   "outputs": [
    {
     "name": "stdout",
     "output_type": "stream",
     "text": [
      "Done for RandonNonDepression_of.csv\n"
     ]
    }
   ],
   "source": [
    "data_of = pd.read_csv(\"nonDepressionKeyword_of.csv\")\n",
    "random_of_TwitterID = data_of.TwitterID\n",
    "random.shuffle(random_of_TwitterID)\n",
    "\n",
    "tweets_df = pd.DataFrame(random_of_TwitterID, columns=[\"TwitterID\"])\n",
    "\n",
    "file_name = \"RandonNonDepression_of.csv\"\n",
    "tweets_df.to_csv(file_name,index=False)\n",
    "print(\"Done for \" + file_name)"
   ]
  },
  {
   "cell_type": "code",
   "execution_count": 92,
   "id": "a5930219",
   "metadata": {},
   "outputs": [
    {
     "name": "stdout",
     "output_type": "stream",
     "text": [
      "Done for RandonNonDepression_the.csv\n"
     ]
    }
   ],
   "source": [
    "data_the = pd.read_csv(\"nonDepressionKeyword_the.csv\")\n",
    "random_the_TwitterID = data_the.TwitterID\n",
    "random.shuffle(random_the_TwitterID)\n",
    "\n",
    "tweets_df = pd.DataFrame(random_the_TwitterID, columns=[\"TwitterID\"])\n",
    "\n",
    "file_name = \"RandonNonDepression_the.csv\"\n",
    "tweets_df.to_csv(file_name,index=False)\n",
    "print(\"Done for \" + file_name)"
   ]
  },
  {
   "cell_type": "code",
   "execution_count": 93,
   "id": "a187fb32",
   "metadata": {},
   "outputs": [
    {
     "name": "stdout",
     "output_type": "stream",
     "text": [
      "Done for RandonNonDepression_to.csv\n"
     ]
    }
   ],
   "source": [
    "data_to = pd.read_csv(\"nonDepressionKeyword_to.csv\")\n",
    "random_to_TwitterID = data_to.TwitterID\n",
    "random.shuffle(random_to_TwitterID)\n",
    "\n",
    "tweets_df = pd.DataFrame(random_to_TwitterID, columns=[\"TwitterID\"])\n",
    "\n",
    "file_name = \"RandonNonDepression_to.csv\"\n",
    "tweets_df.to_csv(file_name,index=False)\n",
    "print(\"Done for \" + file_name)"
   ]
  },
  {
   "cell_type": "code",
   "execution_count": 94,
   "id": "f04b506c",
   "metadata": {},
   "outputs": [
    {
     "name": "stdout",
     "output_type": "stream",
     "text": [
      "Done for RandonNonDepression_you.csv\n"
     ]
    }
   ],
   "source": [
    "data_you = pd.read_csv(\"nonDepressionKeyword_you.csv\")\n",
    "random_you_TwitterID = data_you.TwitterID\n",
    "random.shuffle(random_you_TwitterID)\n",
    "\n",
    "tweets_df = pd.DataFrame(random_you_TwitterID, columns=[\"TwitterID\"])\n",
    "\n",
    "file_name = \"RandonNonDepression_you.csv\"\n",
    "tweets_df.to_csv(file_name,index=False)\n",
    "print(\"Done for \" + file_name)"
   ]
  },
  {
   "cell_type": "code",
   "execution_count": null,
   "id": "6969aa1f",
   "metadata": {},
   "outputs": [],
   "source": []
  },
  {
   "cell_type": "markdown",
   "id": "4da70362",
   "metadata": {},
   "source": [
    "### Check whether the users in DG are in NDG <br>\n",
    "\n",
    "remove it if the code prints the uesr twitterid"
   ]
  },
  {
   "cell_type": "code",
   "execution_count": 5,
   "id": "2c1b179c",
   "metadata": {},
   "outputs": [
    {
     "name": "stdout",
     "output_type": "stream",
     "text": [
      "0    de4thlyalluring\n",
      "1          sokkasdad\n",
      "2          koowoozoo\n",
      "3          thejhambs\n",
      "4      NOELLESTHETIC\n",
      "Name: TwitterID, dtype: object\n",
      "0         CoopDuBois\n",
      "1    DragonImagining\n",
      "2         AnaaSilvia\n",
      "3        BABYCNBOARD\n",
      "4            swfs4x4\n",
      "Name: TwitterID, dtype: object\n"
     ]
    }
   ],
   "source": [
    "NonDepressionGroup = pd.read_csv(\"Stage 2 NonDepressionGroup.csv\")\n",
    "DepressionGroup = pd.read_csv(\"Depression Stage 2_V2.csv\")\n",
    "\n",
    "print(DepressionGroup.TwitterID.head())\n",
    "print(NonDepressionGroup.TwitterID.head())"
   ]
  },
  {
   "cell_type": "code",
   "execution_count": 6,
   "id": "4d8ecf91",
   "metadata": {},
   "outputs": [],
   "source": [
    "NonDepressionGroupID = NonDepressionGroup.TwitterID\n",
    "DepressionGroupID = DepressionGroup.TwitterID"
   ]
  },
  {
   "cell_type": "code",
   "execution_count": 9,
   "id": "5cc7e95a",
   "metadata": {},
   "outputs": [
    {
     "name": "stdout",
     "output_type": "stream",
     "text": [
      "Done\n"
     ]
    }
   ],
   "source": [
    "for NDid in NonDepressionGroupID:\n",
    "    \n",
    "#     print(NDid)\n",
    "    \n",
    "    for Did in DepressionGroupID:\n",
    "        \n",
    "        if(Did == NDid):\n",
    "            print(Did)\n",
    "               \n",
    "        \n",
    "print(\"Done\")"
   ]
  },
  {
   "cell_type": "code",
   "execution_count": null,
   "id": "49419744",
   "metadata": {},
   "outputs": [],
   "source": []
  }
 ],
 "metadata": {
  "kernelspec": {
   "display_name": "Python 3 (ipykernel)",
   "language": "python",
   "name": "python3"
  },
  "language_info": {
   "codemirror_mode": {
    "name": "ipython",
    "version": 3
   },
   "file_extension": ".py",
   "mimetype": "text/x-python",
   "name": "python",
   "nbconvert_exporter": "python",
   "pygments_lexer": "ipython3",
   "version": "3.9.7"
  }
 },
 "nbformat": 4,
 "nbformat_minor": 5
}
