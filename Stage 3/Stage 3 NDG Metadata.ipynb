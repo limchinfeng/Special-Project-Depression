{
 "cells": [
  {
   "cell_type": "markdown",
   "id": "f36af21e",
   "metadata": {},
   "source": [
    "### Stage 3 NDG <br>\n",
    "\n",
    "Check the metadata of 100 users in NDG and DG"
   ]
  },
  {
   "cell_type": "code",
   "execution_count": 3,
   "id": "75bb5749",
   "metadata": {},
   "outputs": [],
   "source": [
    "import pandas as pd\n",
    "data = pd.read_csv(\"Stage 2 NonDepressionGroup_V4.csv\")\n",
    "twitterid = data.TwitterID"
   ]
  },
  {
   "cell_type": "code",
   "execution_count": 4,
   "id": "ff0ee424",
   "metadata": {},
   "outputs": [
    {
     "name": "stdout",
     "output_type": "stream",
     "text": [
      "Done for NDG Metadata_V4.csv\n"
     ]
    }
   ],
   "source": [
    "attributes_container = []\n",
    "\n",
    "for index,id in enumerate(twitterid):\n",
    "    filename = \"V4/NDG_\" + str(index) + \"_\" + id +\".csv\"\n",
    "    \n",
    "    NDGUser = pd.read_csv(filename)\n",
    "#     print(filename)\n",
    "    \n",
    "    NDGUser['DateDepressionReported'] = pd.to_datetime(NDGUser['DateDepressionReported'], format='%d-%m-%Y')\n",
    "    \n",
    "    numTweet = len(NDGUser.ActualTweet)\n",
    "    minDate = NDGUser['DateDepressionReported'].min()\n",
    "    maxDate = NDGUser['DateDepressionReported'].max()\n",
    "    \n",
    "    attributes_container.append({\"ID\":index,\"Username\":id,\"NumTweet\":numTweet, \"MinDate\":minDate, \"MaxDate\":maxDate})\n",
    "\n",
    "                                 \n",
    "\n",
    "# Creating a dataframe from the tweets list above \n",
    "tweets_df = pd.DataFrame(attributes_container, columns=[\"ID\",\"Username\",\"NumTweet\", \"MinDate\", \"MaxDate\"])\n",
    "\n",
    "file_name = \"NDG Metadata_V4.csv\"\n",
    "tweets_df.to_csv(file_name,index=False)\n",
    "print(\"Done for \" + file_name)"
   ]
  },
  {
   "cell_type": "code",
   "execution_count": null,
   "id": "377e37bb",
   "metadata": {},
   "outputs": [],
   "source": []
  }
 ],
 "metadata": {
  "kernelspec": {
   "display_name": "Python 3 (ipykernel)",
   "language": "python",
   "name": "python3"
  },
  "language_info": {
   "codemirror_mode": {
    "name": "ipython",
    "version": 3
   },
   "file_extension": ".py",
   "mimetype": "text/x-python",
   "name": "python",
   "nbconvert_exporter": "python",
   "pygments_lexer": "ipython3",
   "version": "3.9.7"
  }
 },
 "nbformat": 4,
 "nbformat_minor": 5
}
