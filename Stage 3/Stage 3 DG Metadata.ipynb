{
 "cells": [
  {
   "cell_type": "markdown",
   "id": "1271edbe",
   "metadata": {},
   "source": [
    "### Stage 3 DG <br>\n",
    "\n",
    "Check the metadata and english percentage of 100 users in DG "
   ]
  },
  {
   "cell_type": "code",
   "execution_count": 1,
   "id": "4e57b158",
   "metadata": {},
   "outputs": [],
   "source": [
    "import pandas as pd\n",
    "data = pd.read_csv(\"Depression Stage 2_V3.csv\")"
   ]
  },
  {
   "cell_type": "code",
   "execution_count": 2,
   "id": "b2144586",
   "metadata": {},
   "outputs": [
    {
     "name": "stdout",
     "output_type": "stream",
     "text": [
      "0     de4thlyalluring\n",
      "1           sokkasdad\n",
      "2           koowoozoo\n",
      "3           thejhambs\n",
      "4       NOELLESTHETIC\n",
      "           ...       \n",
      "95              KSWoj\n",
      "96       hannamashima\n",
      "97          MISTERPDW\n",
      "98       peachifaerie\n",
      "99      grump_of_lump\n",
      "Name: TwitterID, Length: 100, dtype: object\n"
     ]
    }
   ],
   "source": [
    "print(data.TwitterID)"
   ]
  },
  {
   "cell_type": "code",
   "execution_count": 3,
   "id": "8d842277",
   "metadata": {},
   "outputs": [],
   "source": [
    "twitterid = data.TwitterID"
   ]
  },
  {
   "cell_type": "code",
   "execution_count": 6,
   "id": "9c4f0d2c",
   "metadata": {},
   "outputs": [
    {
     "name": "stdout",
     "output_type": "stream",
     "text": [
      "Done for DG Metadata_V3.csv\n"
     ]
    }
   ],
   "source": [
    "attributes_container = []\n",
    "\n",
    "for index,id in enumerate(twitterid):\n",
    "    filename = \"DG_\" + str(index) + \"_\" + id +\".csv\"\n",
    "    \n",
    "    DGUser = pd.read_csv(filename)\n",
    "#     print(filename)\n",
    "    \n",
    "    DGUser['DateDepressionReported'] = pd.to_datetime(DGUser['DateDepressionReported'], format='%d-%m-%Y')\n",
    "    \n",
    "    numTweet = len(DGUser.ActualTweet)\n",
    "    minDate = DGUser['DateDepressionReported'].min()\n",
    "    maxDate = DGUser['DateDepressionReported'].max()\n",
    "    \n",
    "    attributes_container.append({\"ID\":index,\"Username\":id,\"NumTweet\":numTweet, \"MinDate\":minDate, \"MaxDate\":maxDate})\n",
    "\n",
    "                                 \n",
    "\n",
    "# Creating a dataframe from the tweets list above \n",
    "tweets_df = pd.DataFrame(attributes_container, columns=[\"ID\",\"Username\",\"NumTweet\", \"MinDate\", \"MaxDate\"])\n",
    "\n",
    "file_name = \"DG Metadata_V3.csv\"\n",
    "tweets_df.to_csv(file_name,index=False)\n",
    "print(\"Done for \" + file_name)"
   ]
  },
  {
   "cell_type": "code",
   "execution_count": 5,
   "id": "dc48d463",
   "metadata": {},
   "outputs": [],
   "source": [
    "DGUser = pd.read_csv(\"DG_0_de4thlyalluring.csv\")"
   ]
  },
  {
   "cell_type": "code",
   "execution_count": 7,
   "id": "09a7b159",
   "metadata": {},
   "outputs": [
    {
     "name": "stdout",
     "output_type": "stream",
     "text": [
      "682\n"
     ]
    }
   ],
   "source": [
    "print(len(DGUser.ActualTweet))"
   ]
  },
  {
   "cell_type": "code",
   "execution_count": 8,
   "id": "aa21d7e7",
   "metadata": {},
   "outputs": [
    {
     "name": "stdout",
     "output_type": "stream",
     "text": [
      "9-2-2023\n"
     ]
    }
   ],
   "source": [
    "print(max(DGUser.DateDepressionReported))"
   ]
  },
  {
   "cell_type": "code",
   "execution_count": 9,
   "id": "2d82ceaf",
   "metadata": {},
   "outputs": [
    {
     "name": "stdout",
     "output_type": "stream",
     "text": [
      "1-2-2023\n"
     ]
    }
   ],
   "source": [
    "print(min(DGUser.DateDepressionReported))"
   ]
  },
  {
   "cell_type": "code",
   "execution_count": 10,
   "id": "3a1d564d",
   "metadata": {},
   "outputs": [
    {
     "name": "stdout",
     "output_type": "stream",
     "text": [
      "1-2-2023\n"
     ]
    }
   ],
   "source": [
    "print(DGUser.DateDepressionReported.min())"
   ]
  },
  {
   "cell_type": "code",
   "execution_count": 11,
   "id": "9881bf50",
   "metadata": {},
   "outputs": [
    {
     "name": "stdout",
     "output_type": "stream",
     "text": [
      "0       3-3-2023\n",
      "1       2-3-2023\n",
      "2       1-3-2023\n",
      "3       1-3-2023\n",
      "4       1-3-2023\n",
      "         ...    \n",
      "677    16-1-2023\n",
      "678    16-1-2023\n",
      "679    16-1-2023\n",
      "680    16-1-2023\n",
      "681    16-1-2023\n",
      "Name: DateDepressionReported, Length: 682, dtype: object\n"
     ]
    }
   ],
   "source": [
    "print(DGUser.DateDepressionReported)"
   ]
  },
  {
   "cell_type": "code",
   "execution_count": 14,
   "id": "5988fb19",
   "metadata": {},
   "outputs": [],
   "source": [
    "if 16-1-2023 < 3-3-2023:\n",
    "    print(\"True\")"
   ]
  },
  {
   "cell_type": "code",
   "execution_count": 16,
   "id": "8cf99061",
   "metadata": {},
   "outputs": [],
   "source": [
    "DGUser['DateDepressionReported'] = pd.to_datetime(DGUser['DateDepressionReported'], format='%d-%m-%Y')"
   ]
  },
  {
   "cell_type": "code",
   "execution_count": 17,
   "id": "7702a7bb",
   "metadata": {},
   "outputs": [
    {
     "name": "stdout",
     "output_type": "stream",
     "text": [
      "0     2023-03-03\n",
      "1     2023-03-02\n",
      "2     2023-03-01\n",
      "3     2023-03-01\n",
      "4     2023-03-01\n",
      "         ...    \n",
      "677   2023-01-16\n",
      "678   2023-01-16\n",
      "679   2023-01-16\n",
      "680   2023-01-16\n",
      "681   2023-01-16\n",
      "Name: DateDepressionReported, Length: 682, dtype: datetime64[ns]\n"
     ]
    }
   ],
   "source": [
    "print(DGUser['DateDepressionReported'])"
   ]
  },
  {
   "cell_type": "code",
   "execution_count": 19,
   "id": "7f1b8f49",
   "metadata": {},
   "outputs": [
    {
     "data": {
      "text/plain": [
       "Timestamp('2023-03-03 00:00:00')"
      ]
     },
     "execution_count": 19,
     "metadata": {},
     "output_type": "execute_result"
    }
   ],
   "source": [
    "DGUser['DateDepressionReported'].max()"
   ]
  },
  {
   "cell_type": "code",
   "execution_count": null,
   "id": "28037209",
   "metadata": {},
   "outputs": [],
   "source": []
  }
 ],
 "metadata": {
  "kernelspec": {
   "display_name": "Python 3 (ipykernel)",
   "language": "python",
   "name": "python3"
  },
  "language_info": {
   "codemirror_mode": {
    "name": "ipython",
    "version": 3
   },
   "file_extension": ".py",
   "mimetype": "text/x-python",
   "name": "python",
   "nbconvert_exporter": "python",
   "pygments_lexer": "ipython3",
   "version": "3.9.7"
  }
 },
 "nbformat": 4,
 "nbformat_minor": 5
}
