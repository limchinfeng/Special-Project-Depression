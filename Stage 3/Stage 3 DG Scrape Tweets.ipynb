{
 "cells": [
  {
   "cell_type": "markdown",
   "id": "356d4b24",
   "metadata": {},
   "source": [
    "### Stage 3 DG <br>\n",
    "\n",
    "Scrape the tweets for 100 users in DG"
   ]
  },
  {
   "cell_type": "code",
   "execution_count": 1,
   "id": "df7bbb49",
   "metadata": {},
   "outputs": [],
   "source": [
    "import snscrape.modules.twitter as sntwitter\n",
    "import pandas as pd\n"
   ]
  },
  {
   "cell_type": "code",
   "execution_count": null,
   "id": "a4a6cfaf",
   "metadata": {},
   "outputs": [],
   "source": [
    "depression_group = pd.read_csv('D:\\Coding Projects\\snscrape-Depression-Tweet-Data-Collection\\Depression Stage 2_V2.csv', encoding = \"ISO-8859-1\")"
   ]
  },
  {
   "cell_type": "code",
   "execution_count": null,
   "id": "33af5c05",
   "metadata": {
    "scrolled": true
   },
   "outputs": [],
   "source": [
    "TwitterId = depression_group.TwitterID"
   ]
  },
  {
   "cell_type": "code",
   "execution_count": null,
   "id": "aeab2c78",
   "metadata": {
    "scrolled": true
   },
   "outputs": [
    {
     "name": "stdout",
     "output_type": "stream",
     "text": [
      "---Done DG_0_de4thlyalluring.csv---\n",
      "---Done DG_1_sokkasdad.csv---\n",
      "---Done DG_2_koowoozoo.csv---\n",
      "---Done DG_3_thejhambs.csv---\n",
      "---Done DG_4_NOELLESTHETIC.csv---\n",
      "---Done DG_5_brianaxmb.csv---\n",
      "---Done DG_6_dietsodasapphic.csv---\n",
      "---Done DG_7_deep_emotion_s.csv---\n",
      "---Done DG_8_RaneofSoTN.csv---\n",
      "---Done DG_9_randomzeroar.csv---\n",
      "---Done DG_10_Awakelol_.csv---\n",
      "---Done DG_11_badbakrii.csv---\n",
      "---Done DG_12_matpatxdream.csv---\n",
      "---Done DG_13_gamersforlife30.csv---\n",
      "---Done DG_14_Jonatha21091917.csv---\n",
      "---Done DG_15_twdsfee.csv---\n",
      "---Done DG_16_dotherawr_xd.csv---\n",
      "---Done DG_17_StargateNerrrrd.csv---\n",
      "---Done DG_18_cowlonfull.csv---\n",
      "---Done DG_19_brie_kun.csv---\n",
      "---Done DG_20_racefan4855.csv---\n",
      "---Done DG_21_KellyK24601.csv---\n",
      "---Done DG_22_lynssss3125.csv---\n",
      "---Done DG_23_RossGTSykes.csv---\n",
      "---Done DG_24_auntbeast.csv---\n",
      "---Done DG_25_valleyofmummies.csv---\n",
      "---Done DG_26_JustinShitposts.csv---\n",
      "---Done DG_27_Dvisyisgone.csv---\n",
      "---Done DG_28_EllietheCourier.csv---\n",
      "---Done DG_29_anorexicgirl444.csv---\n",
      "---Done DG_30_keybrackson.csv---\n",
      "---Done DG_31_browardboyyy.csv---\n",
      "---Done DG_32_eloiselyr2.csv---\n",
      "---Done DG_33_langtree_lillie.csv---\n",
      "---Done DG_34_LeosBoots.csv---\n",
      "---Done DG_35_cee_cxth_cee.csv---\n",
      "---Done DG_36_SammyIacob.csv---\n",
      "---Done DG_37_CarolMIck54.csv---\n",
      "---Done DG_38_NigelQuartey.csv---\n",
      "---Done DG_39_strwb3rryg4shes.csv---\n",
      "---Done DG_40_Phara0h__.csv---\n",
      "---Done DG_41_Sarabaraboos.csv---\n",
      "---Done DG_42_alxsfbnn.csv---\n",
      "---Done DG_43_TayeLastborn.csv---\n",
      "---Done DG_44_CrackieLiken.csv---\n",
      "---Done DG_45_cesca_uk.csv---\n",
      "---Done DG_46_thehoneykumar.csv---\n",
      "---Done DG_47_LECHAUFFEUR3.csv---\n",
      "---Done DG_48_Taiwotemitope01.csv---\n",
      "---Done DG_49_bah_dih.csv---\n",
      "---Done DG_50_helloimlemon.csv---\n",
      "---Done DG_51_hannamashima.csv---\n"
     ]
    }
   ],
   "source": [
    "TwitterId = depression_group.TwitterID\n",
    "data = []\n",
    "row = []\n",
    "\n",
    "for index,id in enumerate(TwitterId):\n",
    "    \n",
    "    DepressionGroupUserTweet = []\n",
    "\n",
    "    #search for user's data\n",
    "    for i,tweet in enumerate(sntwitter.TwitterUserScraper(id).get_items()):\n",
    "\n",
    "    \n",
    "        DepressionGroupUserTweet.append({\"ActualTweet\":tweet.url, \"DateDepressionReported\":str(tweet.date.day)+\"-\"+str(tweet.date.month)+\"-\"+str(tweet.date.year),\"TweetContent\":tweet.rawContent})\n",
    "    \n",
    "    \n",
    "    DepressionGroupUserTweet_df = pd.DataFrame(DepressionGroupUserTweet, columns=[\"ActualTweet\", \"DateDepressionReported\",\"TweetContent\"])\n",
    "    UserTweetFileName = \"DG_\"+ str(index) + \"_\" + tweet.user.username +\".csv\"   \n",
    "    DepressionGroupUserTweet_df.to_csv(UserTweetFileName,index=False)  \n",
    "    print(\"---Done \"+ UserTweetFileName +\"---\")"
   ]
  },
  {
   "cell_type": "code",
   "execution_count": null,
   "id": "2181aa69",
   "metadata": {},
   "outputs": [
    {
     "data": {
      "text/plain": [
       "61        kellstelles\n",
       "62     KissLikeHockey\n",
       "63    fuforthoughtpod\n",
       "64     seungoverlo_de\n",
       "65        RedYourBoi1\n",
       "66    DragonballEnte1\n",
       "67     LarryGenovese1\n",
       "68    sorrowpaintears\n",
       "69            leosrkt\n",
       "70       AuntieMimi99\n",
       "71       Thetarawrist\n",
       "72         XL3Crafter\n",
       "73    pardinhadasilva\n",
       "74         Minabear23\n",
       "75          sunokujin\n",
       "76       dawnryan1228\n",
       "77        sungchanbar\n",
       "78        HuskyKota90\n",
       "79      odddaysgeorge\n",
       "80    floridagirl0071\n",
       "81        MindRequiem\n",
       "82       cooperownbey\n",
       "83          farh6666n\n",
       "84          MISTERPDW\n",
       "85      ezzanahazirah\n",
       "86       Curse_of_Ham\n",
       "87            Lafmp__\n",
       "88      thatwitchkore\n",
       "89        TendoDdoggo\n",
       "90    IntrovertedGems\n",
       "91     AdultingIsEasy\n",
       "92    JessPlayinGamez\n",
       "93      karafilizophy\n",
       "94         UFO_Design\n",
       "95              KSWoj\n",
       "96      Jericolangot1\n",
       "97          MISTERPDW\n",
       "98       peachifaerie\n",
       "99      grump_of_lump\n",
       "Name: TwitterID, dtype: object"
      ]
     },
     "execution_count": 7,
     "metadata": {},
     "output_type": "execute_result"
    }
   ],
   "source": [
    "TwitterId[61:]"
   ]
  },
  {
   "cell_type": "code",
   "execution_count": null,
   "id": "31cb0ce3",
   "metadata": {},
   "outputs": [
    {
     "name": "stdout",
     "output_type": "stream",
     "text": [
      "---Done DG_61_kellstelles.csv---\n",
      "---Done DG_62_KissLikeHockey.csv---\n",
      "---Done DG_63_fuforthoughtpod.csv---\n",
      "---Done DG_64_seungoverlo_de.csv---\n",
      "---Done DG_65_RedYourBoi1.csv---\n",
      "---Done DG_66_DragonballEnte1.csv---\n",
      "---Done DG_67_LarryGenovese1.csv---\n",
      "---Done DG_68_LarryGenovese1.csv---\n",
      "---Done DG_69_leosspro.csv---\n",
      "---Done DG_70_AuntieMimi99.csv---\n"
     ]
    },
    {
     "name": "stderr",
     "output_type": "stream",
     "text": [
      "Stopping after 20 empty pages\n"
     ]
    },
    {
     "name": "stdout",
     "output_type": "stream",
     "text": [
      "---Done DG_71_Thetarawrist.csv---\n",
      "---Done DG_72_XL3Crafter.csv---\n",
      "---Done DG_73_pardinhadasilva.csv---\n",
      "---Done DG_74_Minabear23.csv---\n",
      "---Done DG_75_sunokujin.csv---\n",
      "---Done DG_76_dawnryan1228.csv---\n",
      "---Done DG_77_sungchanbar.csv---\n",
      "---Done DG_78_HuskyKota90.csv---\n",
      "---Done DG_79_odddaysgeorge.csv---\n",
      "---Done DG_80_floridagirl0071.csv---\n",
      "---Done DG_81_MindRequiem.csv---\n",
      "---Done DG_82_cooperownbey.csv---\n",
      "---Done DG_83_farh6666n.csv---\n",
      "---Done DG_84_MISTERPDW.csv---\n",
      "---Done DG_85_ezzanahazirah.csv---\n",
      "---Done DG_86_Curse_of_Ham.csv---\n",
      "---Done DG_87_Lafmp__.csv---\n",
      "---Done DG_88_thatwitchkore.csv---\n",
      "---Done DG_89_TendoDdoggo.csv---\n",
      "---Done DG_90_IntrovertedGems.csv---\n",
      "---Done DG_91_AdultingIsEasy.csv---\n",
      "---Done DG_92_JessPlayinGamez.csv---\n",
      "---Done DG_93_karafilizophy.csv---\n",
      "---Done DG_94_UFO_Design.csv---\n",
      "---Done DG_95_KSWoj.csv---\n",
      "---Done DG_96_Jericolangot1.csv---\n",
      "---Done DG_97_MISTERPDW.csv---\n",
      "---Done DG_98_psychicsinnoh.csv---\n",
      "---Done DG_99_grump_of_lump.csv---\n"
     ]
    }
   ],
   "source": [
    "TwitterId_61 = TwitterId[61:]\n",
    "data = []\n",
    "row = []\n",
    "\n",
    "for index,id in enumerate(TwitterId_61):\n",
    "    \n",
    "    DepressionGroupUserTweet = []\n",
    "\n",
    "    #search for user's data\n",
    "    for tweet in sntwitter.TwitterUserScraper(id).get_items():\n",
    "        DepressionGroupUserTweet.append({\"ActualTweet\":tweet.url, \"DateDepressionReported\":str(tweet.date.day)+\"-\"+str(tweet.date.month)+\"-\"+str(tweet.date.year),\"TweetContent\":tweet.rawContent})\n",
    "    \n",
    "    \n",
    "    DepressionGroupUserTweet_df = pd.DataFrame(DepressionGroupUserTweet, columns=[\"ActualTweet\", \"DateDepressionReported\",\"TweetContent\"])\n",
    "    UserTweetFileName = \"DG_\"+ str(index+61) + \"_\" + tweet.user.username +\".csv\"   \n",
    "    DepressionGroupUserTweet_df.to_csv(UserTweetFileName,index=False)  \n",
    "    print(\"---Done \"+ UserTweetFileName +\"---\")"
   ]
  },
  {
   "cell_type": "code",
   "execution_count": 6,
   "id": "a6acac56",
   "metadata": {
    "scrolled": true
   },
   "outputs": [
    {
     "name": "stdout",
     "output_type": "stream",
     "text": [
      "---Done DG_20_CarolMIck54.csv---\n",
      "---Done DG_49_nilamariee1.csv---\n",
      "---Done DG_58_lushseoul.csv---\n",
      "---Done DG_61_D10S1TA.csv---\n",
      "---Done DG_75_LaurenW72020400.csv---\n",
      "---Done DG_96_hannamashima.csv---\n"
     ]
    }
   ],
   "source": [
    "TwitterId_Replace = [\"CarolMIck54\",\"nilamariee1\",\"lushseoul\",\"D10S1TA\",\"LaurenW72020400\",\"hannamashima\"]\n",
    "TwitterIndex_Replace = [\"20\",\"49\",\"58\",\"61\",\"75\",\"96\"]\n",
    "\n",
    "for index,id in enumerate(TwitterId_Replace):\n",
    "    \n",
    "    DepressionGroupUserTweet = []\n",
    "\n",
    "    #search for user's data\n",
    "    for tweet in sntwitter.TwitterUserScraper(id).get_items():\n",
    "        DepressionGroupUserTweet.append({\"ActualTweet\":tweet.url, \"DateDepressionReported\":str(tweet.date.day)+\"-\"+str(tweet.date.month)+\"-\"+str(tweet.date.year),\"TweetContent\":tweet.rawContent})\n",
    "    \n",
    "    \n",
    "    DepressionGroupUserTweet_df = pd.DataFrame(DepressionGroupUserTweet, columns=[\"ActualTweet\", \"DateDepressionReported\",\"TweetContent\"])\n",
    "    UserTweetFileName = \"DG_\" + TwitterIndex_Replace[index] + \"_\" + id +\".csv\"   \n",
    "    DepressionGroupUserTweet_df.to_csv(UserTweetFileName,index=False)  \n",
    "    print(\"---Done \"+ UserTweetFileName +\"---\")"
   ]
  },
  {
   "cell_type": "code",
   "execution_count": 8,
   "id": "46e2891b",
   "metadata": {},
   "outputs": [
    {
     "name": "stdout",
     "output_type": "stream",
     "text": [
      "---Done DG_68_kingxiuminy.csv---\n"
     ]
    }
   ],
   "source": [
    "TwitterId_Replace = [\"kingxiuminy\"]\n",
    "TwitterIndex_Replace = [\"68\"]\n",
    "\n",
    "for index,id in enumerate(TwitterId_Replace):\n",
    "    \n",
    "    DepressionGroupUserTweet = []\n",
    "\n",
    "    #search for user's data\n",
    "    for tweet in sntwitter.TwitterUserScraper(id).get_items():\n",
    "        DepressionGroupUserTweet.append({\"ActualTweet\":tweet.url, \"DateDepressionReported\":str(tweet.date.day)+\"-\"+str(tweet.date.month)+\"-\"+str(tweet.date.year),\"TweetContent\":tweet.rawContent})\n",
    "    \n",
    "    \n",
    "    DepressionGroupUserTweet_df = pd.DataFrame(DepressionGroupUserTweet, columns=[\"ActualTweet\", \"DateDepressionReported\",\"TweetContent\"])\n",
    "    UserTweetFileName = \"DG_\" + TwitterIndex_Replace[index] + \"_\" + id +\".csv\"   \n",
    "    DepressionGroupUserTweet_df.to_csv(UserTweetFileName,index=False)  \n",
    "    print(\"---Done \"+ UserTweetFileName +\"---\")"
   ]
  },
  {
   "cell_type": "code",
   "execution_count": null,
   "id": "073afafa",
   "metadata": {},
   "outputs": [],
   "source": []
  }
 ],
 "metadata": {
  "kernelspec": {
   "display_name": "Python 3 (ipykernel)",
   "language": "python",
   "name": "python3"
  },
  "language_info": {
   "codemirror_mode": {
    "name": "ipython",
    "version": 3
   },
   "file_extension": ".py",
   "mimetype": "text/x-python",
   "name": "python",
   "nbconvert_exporter": "python",
   "pygments_lexer": "ipython3",
   "version": "3.9.7"
  }
 },
 "nbformat": 4,
 "nbformat_minor": 5
}
