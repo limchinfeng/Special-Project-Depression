{
 "cells": [
  {
   "cell_type": "markdown",
   "id": "aa21165c",
   "metadata": {},
   "source": [
    "### Stage 3 NDG <br>\n",
    "\n",
    "Scrape the tweets for the users from 10 groups in NDG to replace the user which have the word 'depress' in their tweets"
   ]
  },
  {
   "cell_type": "code",
   "execution_count": 1,
   "id": "6cdd467c",
   "metadata": {},
   "outputs": [],
   "source": [
    "import snscrape.modules.twitter as sntwitter\n",
    "import pandas as pd\n",
    "\n",
    "NonDepression_group = pd.read_csv('D:\\Coding Projects\\snscrape V2\\RandonNonDepression_you.csv', encoding = \"ISO-8859-1\")\n",
    "TwitterId = NonDepression_group.TwitterID"
   ]
  },
  {
   "cell_type": "code",
   "execution_count": 8,
   "id": "30bf5772",
   "metadata": {},
   "outputs": [
    {
     "name": "stdout",
     "output_type": "stream",
     "text": [
      "10       parkdaler109\n",
      "11    jspence32208074\n",
      "12          thejareax\n",
      "13     pettyblackgirI\n",
      "14         woahhhhgan\n",
      "15       myaaadabraat\n",
      "16       PKMNTownsBot\n",
      "17      love_taylorr_\n",
      "18       UnsortedMent\n",
      "19     BfReflectionJM\n",
      "20           Mvnchman\n",
      "21    JunctionJunebug\n",
      "22       aquariancity\n",
      "23        Stephyyy_26\n",
      "24          a46786384\n",
      "25           o_a_khan\n",
      "26      BakedBeanAlex\n",
      "27             zoomin\n",
      "28        SexHealthEd\n",
      "29        Bunniestvau\n",
      "30          bonbonb0t\n",
      "31     _niggasAinSHXT\n",
      "32           SLIMYNIP\n",
      "33      PrincessCoyaa\n",
      "34             jazeua\n",
      "35         the_omegin\n",
      "36          frncn_rmc\n",
      "37         TELFARDOLL\n",
      "38          Ulann0327\n",
      "39         kokoro_eng\n",
      "40      CarrieSalikin\n",
      "41    ConsciousKween_\n",
      "42        BWarren1998\n",
      "43    gingerthemenace\n",
      "44        TRXLLSuprme\n",
      "45    eanthonycimasko\n",
      "46         BLUEBOYGEO\n",
      "47         FreeGPT_TW\n",
      "48        ShmonieWest\n",
      "49         breetree35\n",
      "50           BoWs1rJr\n",
      "Name: TwitterID, dtype: object\n"
     ]
    }
   ],
   "source": [
    "twitterid = TwitterId[10:51]\n",
    "print(twitterid)"
   ]
  },
  {
   "cell_type": "code",
   "execution_count": null,
   "id": "1570e03d",
   "metadata": {},
   "outputs": [
    {
     "name": "stdout",
     "output_type": "stream",
     "text": [
      "---Done NDG_a_0_parkdaler109.csv---\n",
      "---Done NDG_a_1_jspence32208074.csv---\n",
      "---Done NDG_a_2_thejareax.csv---\n",
      "---Done NDG_a_3_pettyblackgirI.csv---\n",
      "---Done NDG_a_4_woahhhhgan.csv---\n",
      "---Done NDG_a_5_myaaadabraat.csv---\n",
      "---Done NDG_a_6_PKMNTownsBot.csv---\n"
     ]
    }
   ],
   "source": [
    "TwitterId_Replace = twitterid\n",
    "\n",
    "\n",
    "for index,id in enumerate(TwitterId_Replace):\n",
    "    \n",
    "    NonDepressionGroupUserTweet = []\n",
    "\n",
    "    #search for user's data\n",
    "    for tweet in sntwitter.TwitterUserScraper(id).get_items():\n",
    "        NonDepressionGroupUserTweet.append({\"ActualTweet\":tweet.url, \"DateDepressionReported\":str(tweet.date.day)+\"-\"+str(tweet.date.month)+\"-\"+str(tweet.date.year),\"TweetContent\":tweet.rawContent})\n",
    "    \n",
    "    \n",
    "    NonDepressionGroupUserTweet_df = pd.DataFrame(NonDepressionGroupUserTweet, columns=[\"ActualTweet\", \"DateDepressionReported\",\"TweetContent\"])\n",
    "    UserTweetFileName = \"NDG_a_\" + str(index) + \"_\" + id +\".csv\"   \n",
    "    NonDepressionGroupUserTweet_df.to_csv(UserTweetFileName,index=False)  \n",
    "    print(\"---Done \"+ UserTweetFileName +\"---\")"
   ]
  },
  {
   "cell_type": "code",
   "execution_count": null,
   "id": "6ec4b473",
   "metadata": {},
   "outputs": [
    {
     "name": "stderr",
     "output_type": "stream",
     "text": [
      "Stopping after 20 empty pages\n"
     ]
    },
    {
     "name": "stdout",
     "output_type": "stream",
     "text": [
      "---Done NDG_a_7_Karzeuha.csv---\n",
      "---Done NDG_a_8_kf6spf.csv---\n",
      "---Done NDG_a_9_abelationsxo.csv---\n",
      "---Done NDG_a_10_parkdaler109.csv---\n",
      "---Done NDG_a_11_jspence32208074.csv---\n",
      "---Done NDG_a_12_thejareax.csv---\n",
      "---Done NDG_a_13_pettyblackgirI.csv---\n",
      "---Done NDG_a_14_woahhhhgan.csv---\n",
      "---Done NDG_a_15_myaaadabraat.csv---\n",
      "---Done NDG_a_16_PKMNTownsBot.csv---\n",
      "---Done NDG_a_17_love_taylorr_.csv---\n",
      "---Done NDG_a_18_UnsortedMent.csv---\n",
      "---Done NDG_a_19_BfReflectionJM.csv---\n",
      "---Done NDG_a_20_Mvnchman.csv---\n",
      "---Done NDG_a_21_JunctionJunebug.csv---\n",
      "---Done NDG_a_22_aquariancity.csv---\n",
      "---Done NDG_a_23_Stephyyy_26.csv---\n",
      "---Done NDG_a_24_a46786384.csv---\n"
     ]
    }
   ],
   "source": [
    "TwitterId_Replace = TwitterId[7:51]\n",
    "\n",
    "\n",
    "for index,id in enumerate(TwitterId_Replace):\n",
    "    \n",
    "    NonDepressionGroupUserTweet = []\n",
    "\n",
    "    #search for user's data\n",
    "    for tweet in sntwitter.TwitterUserScraper(id).get_items():\n",
    "        NonDepressionGroupUserTweet.append({\"ActualTweet\":tweet.url, \"DateDepressionReported\":str(tweet.date.day)+\"-\"+str(tweet.date.month)+\"-\"+str(tweet.date.year),\"TweetContent\":tweet.rawContent})\n",
    "    \n",
    "    \n",
    "    NonDepressionGroupUserTweet_df = pd.DataFrame(NonDepressionGroupUserTweet, columns=[\"ActualTweet\", \"DateDepressionReported\",\"TweetContent\"])\n",
    "    UserTweetFileName = \"NDG_a_\" + str(index+7) + \"_\" + id +\".csv\"   \n",
    "    NonDepressionGroupUserTweet_df.to_csv(UserTweetFileName,index=False)  \n",
    "    print(\"---Done \"+ UserTweetFileName +\"---\")"
   ]
  },
  {
   "cell_type": "code",
   "execution_count": null,
   "id": "c5d09a3c",
   "metadata": {},
   "outputs": [
    {
     "name": "stdout",
     "output_type": "stream",
     "text": [
      "---Done NDG_a_25_o_a_khan.csv---\n",
      "---Done NDG_a_26_BakedBeanAlex.csv---\n",
      "---Done NDG_a_27_zoomin.csv---\n",
      "---Done NDG_a_28_SexHealthEd.csv---\n",
      "---Done NDG_a_29_Bunniestvau.csv---\n",
      "---Done NDG_a_30_bonbonb0t.csv---\n",
      "---Done NDG_a_31__niggasAinSHXT.csv---\n"
     ]
    },
    {
     "name": "stderr",
     "output_type": "stream",
     "text": [
      "Unsupported unified_card type on tweet 1551807302688055296\n"
     ]
    },
    {
     "name": "stdout",
     "output_type": "stream",
     "text": [
      "---Done NDG_a_32_SLIMYNIP.csv---\n",
      "---Done NDG_a_33_PrincessCoyaa.csv---\n",
      "---Done NDG_a_34_jazeua.csv---\n",
      "---Done NDG_a_35_the_omegin.csv---\n",
      "---Done NDG_a_36_frncn_rmc.csv---\n",
      "---Done NDG_a_37_TELFARDOLL.csv---\n",
      "---Done NDG_a_38_Ulann0327.csv---\n"
     ]
    }
   ],
   "source": [
    "TwitterId_Replace = TwitterId[25:51]\n",
    "\n",
    "\n",
    "for index,id in enumerate(TwitterId_Replace):\n",
    "    \n",
    "    NonDepressionGroupUserTweet = []\n",
    "\n",
    "    #search for user's data\n",
    "    for tweet in sntwitter.TwitterUserScraper(id).get_items():\n",
    "        NonDepressionGroupUserTweet.append({\"ActualTweet\":tweet.url, \"DateDepressionReported\":str(tweet.date.day)+\"-\"+str(tweet.date.month)+\"-\"+str(tweet.date.year),\"TweetContent\":tweet.rawContent})\n",
    "    \n",
    "    \n",
    "    NonDepressionGroupUserTweet_df = pd.DataFrame(NonDepressionGroupUserTweet, columns=[\"ActualTweet\", \"DateDepressionReported\",\"TweetContent\"])\n",
    "    UserTweetFileName = \"NDG_a_\" + str(index+25) + \"_\" + id +\".csv\"   \n",
    "    NonDepressionGroupUserTweet_df.to_csv(UserTweetFileName,index=False)  \n",
    "    print(\"---Done \"+ UserTweetFileName +\"---\")"
   ]
  },
  {
   "cell_type": "markdown",
   "id": "a6c7d30c",
   "metadata": {},
   "source": [
    "AND"
   ]
  },
  {
   "cell_type": "code",
   "execution_count": null,
   "id": "0ca3c590",
   "metadata": {},
   "outputs": [
    {
     "name": "stdout",
     "output_type": "stream",
     "text": [
      "---Done NDG_and_12_fenamjim.csv---\n",
      "---Done NDG_and_13_MalarkeyCali.csv---\n",
      "---Done NDG_and_14_jon_flop_boat.csv---\n",
      "---Done NDG_and_15_TheAsthmaCures.csv---\n",
      "---Done NDG_and_16_Rev_DekeOMalley.csv---\n",
      "---Done NDG_and_17_Samalexmann.csv---\n"
     ]
    }
   ],
   "source": [
    "TwitterId_Replace = TwitterId[12:100]\n",
    "\n",
    "\n",
    "for index,id in enumerate(TwitterId_Replace):\n",
    "    \n",
    "    NonDepressionGroupUserTweet = []\n",
    "\n",
    "    #search for user's data\n",
    "    for tweet in sntwitter.TwitterUserScraper(id).get_items():\n",
    "        NonDepressionGroupUserTweet.append({\"ActualTweet\":tweet.url, \"DateDepressionReported\":str(tweet.date.day)+\"-\"+str(tweet.date.month)+\"-\"+str(tweet.date.year),\"TweetContent\":tweet.rawContent})\n",
    "    \n",
    "    \n",
    "    NonDepressionGroupUserTweet_df = pd.DataFrame(NonDepressionGroupUserTweet, columns=[\"ActualTweet\", \"DateDepressionReported\",\"TweetContent\"])\n",
    "    UserTweetFileName = \"NDG_and_\" + str(index+12) + \"_\" + id +\".csv\"   \n",
    "    NonDepressionGroupUserTweet_df.to_csv(UserTweetFileName,index=False)  \n",
    "    print(\"---Done \"+ UserTweetFileName +\"---\")"
   ]
  },
  {
   "cell_type": "code",
   "execution_count": null,
   "id": "29dee536",
   "metadata": {},
   "outputs": [
    {
     "name": "stdout",
     "output_type": "stream",
     "text": [
      "---Done NDG_and_18_FRAKT_Updates.csv---\n"
     ]
    }
   ],
   "source": [
    "TwitterId_Replace = TwitterId[18:100]\n",
    "\n",
    "\n",
    "for index,id in enumerate(TwitterId_Replace):\n",
    "    \n",
    "    NonDepressionGroupUserTweet = []\n",
    "\n",
    "    #search for user's data\n",
    "    for tweet in sntwitter.TwitterUserScraper(id).get_items():\n",
    "        NonDepressionGroupUserTweet.append({\"ActualTweet\":tweet.url, \"DateDepressionReported\":str(tweet.date.day)+\"-\"+str(tweet.date.month)+\"-\"+str(tweet.date.year),\"TweetContent\":tweet.rawContent})\n",
    "    \n",
    "    \n",
    "    NonDepressionGroupUserTweet_df = pd.DataFrame(NonDepressionGroupUserTweet, columns=[\"ActualTweet\", \"DateDepressionReported\",\"TweetContent\"])\n",
    "    UserTweetFileName = \"NDG_and_\" + str(index+18) + \"_\" + id +\".csv\"   \n",
    "    NonDepressionGroupUserTweet_df.to_csv(UserTweetFileName,index=False)  \n",
    "    print(\"---Done \"+ UserTweetFileName +\"---\")"
   ]
  },
  {
   "cell_type": "code",
   "execution_count": null,
   "id": "1e3550d3",
   "metadata": {},
   "outputs": [
    {
     "name": "stdout",
     "output_type": "stream",
     "text": [
      "---Done NDG_and_19_Birdy_saurus.csv---\n",
      "---Done NDG_and_20_fate_amani.csv---\n",
      "---Done NDG_and_21_SleepyAdam1.csv---\n",
      "---Done NDG_and_22_dtnn4lif33.csv---\n",
      "---Done NDG_and_23_ryanrossluvr05.csv---\n",
      "---Done NDG_and_24_Bkoxr.csv---\n",
      "---Done NDG_and_25_xojunxo1.csv---\n",
      "---Done NDG_and_26_ovoadryana1.csv---\n",
      "---Done NDG_and_27__HoesAndJordans.csv---\n",
      "---Done NDG_and_28_najsambul.csv---\n",
      "---Done NDG_and_29_mohdshehab10_.csv---\n"
     ]
    },
    {
     "name": "stderr",
     "output_type": "stream",
     "text": [
      "Tweet 1622778170280902657 contains an app icon medium key '4_1643587704121360386' on app 'android_app'/'com.happyelements.es2.en.gp', but the corresponding medium is missing; dropping\n",
      "Tweet 1622778170280902657 contains an app icon medium key '4_1643587704121360386' on app 'android_app'/'com.happyelements.es2.en.gp', but the corresponding medium is missing; dropping\n"
     ]
    },
    {
     "name": "stdout",
     "output_type": "stream",
     "text": [
      "---Done NDG_and_30_DeadBirain.csv---\n",
      "---Done NDG_and_31_KristopherHell4.csv---\n",
      "---Done NDG_and_32_PrahladSaw28.csv---\n",
      "---Done NDG_and_33_angiebelieber03.csv---\n",
      "---Done NDG_and_34_abikokatsunori.csv---\n"
     ]
    },
    {
     "name": "stderr",
     "output_type": "stream",
     "text": [
      "Stopping after 20 empty pages\n"
     ]
    },
    {
     "name": "stdout",
     "output_type": "stream",
     "text": [
      "---Done NDG_and_35_LaweyJr.csv---\n"
     ]
    }
   ],
   "source": [
    "TwitterId_Replace = TwitterId[19:100]\n",
    "\n",
    "\n",
    "for index,id in enumerate(TwitterId_Replace):\n",
    "    \n",
    "    NonDepressionGroupUserTweet = []\n",
    "\n",
    "    #search for user's data\n",
    "    for tweet in sntwitter.TwitterUserScraper(id).get_items():\n",
    "        NonDepressionGroupUserTweet.append({\"ActualTweet\":tweet.url, \"DateDepressionReported\":str(tweet.date.day)+\"-\"+str(tweet.date.month)+\"-\"+str(tweet.date.year),\"TweetContent\":tweet.rawContent})\n",
    "    \n",
    "    \n",
    "    NonDepressionGroupUserTweet_df = pd.DataFrame(NonDepressionGroupUserTweet, columns=[\"ActualTweet\", \"DateDepressionReported\",\"TweetContent\"])\n",
    "    UserTweetFileName = \"NDG_and_\" + str(index+19) + \"_\" + id +\".csv\"   \n",
    "    NonDepressionGroupUserTweet_df.to_csv(UserTweetFileName,index=False)  \n",
    "    print(\"---Done \"+ UserTweetFileName +\"---\")"
   ]
  },
  {
   "cell_type": "code",
   "execution_count": null,
   "id": "91534c6c",
   "metadata": {},
   "outputs": [
    {
     "name": "stdout",
     "output_type": "stream",
     "text": [
      "---Done NDG_and_36_dances.csv---\n",
      "---Done NDG_and_37_sulky80715248.csv---\n",
      "---Done NDG_and_38_jonginsinner.csv---\n",
      "---Done NDG_and_39_VaniBomb.csv---\n",
      "---Done NDG_and_40_ghostiicarus.csv---\n",
      "---Done NDG_and_41_megalodcn.csv---\n",
      "---Done NDG_and_42_Kulsumwindxmart.csv---\n",
      "---Done NDG_and_43_the_omegin.csv---\n",
      "---Done NDG_and_44_kingoftheswipe.csv---\n",
      "---Done NDG_and_45_fairlyoddoddly.csv---\n",
      "---Done NDG_and_46_mwrich87.csv---\n",
      "---Done NDG_and_47_jwyjls.csv---\n",
      "---Done NDG_and_48_francesgealon.csv---\n",
      "---Done NDG_and_49_Taradactdole.csv---\n",
      "---Done NDG_and_50_Xynezone.csv---\n",
      "---Done NDG_and_51_MuthisyaMwalimu.csv---\n"
     ]
    },
    {
     "name": "stderr",
     "output_type": "stream",
     "text": [
      "Stopping after 20 empty pages\n"
     ]
    },
    {
     "name": "stdout",
     "output_type": "stream",
     "text": [
      "---Done NDG_and_52_ashrooh890.csv---\n",
      "---Done NDG_and_53_J_B_Maguire.csv---\n",
      "---Done NDG_and_54_SRunningcloud.csv---\n",
      "---Done NDG_and_55_FFFfinanceblog.csv---\n",
      "---Done NDG_and_56_HeBlows_StiNaa.csv---\n",
      "---Done NDG_and_57_labiquack.csv---\n",
      "---Done NDG_and_58_Dangerman_1973.csv---\n",
      "---Done NDG_and_59_Ellelikethelttr.csv---\n",
      "---Done NDG_and_60_newzz4u.csv---\n",
      "---Done NDG_and_61_BrettForton.csv---\n",
      "---Done NDG_and_62_DREAMG0D_.csv---\n",
      "---Done NDG_and_63_MT_Kitsune.csv---\n",
      "---Done NDG_and_64_NgwanaSkolo.csv---\n",
      "---Done NDG_and_65_oobysnaccin.csv---\n",
      "---Done NDG_and_66_likejjongs.csv---\n",
      "---Done NDG_and_67_Aaron_4421.csv---\n",
      "---Done NDG_and_68_Clitortoise.csv---\n",
      "---Done NDG_and_69_LeMichael__.csv---\n",
      "---Done NDG_and_70_xratedchina.csv---\n",
      "---Done NDG_and_71_wulfqnq.csv---\n",
      "---Done NDG_and_72_DanielBenner1.csv---\n",
      "---Done NDG_and_73_Eggstickles.csv---\n",
      "---Done NDG_and_74_tessaspeaknow.csv---\n",
      "---Done NDG_and_75_mathslab2020.csv---\n",
      "---Done NDG_and_76_esterx01W.csv---\n",
      "---Done NDG_and_77_Infamouskelv.csv---\n"
     ]
    }
   ],
   "source": [
    "TwitterId_Replace = TwitterId[36:100]\n",
    "\n",
    "\n",
    "for index,id in enumerate(TwitterId_Replace):\n",
    "    \n",
    "    NonDepressionGroupUserTweet = []\n",
    "\n",
    "    #search for user's data\n",
    "    for tweet in sntwitter.TwitterUserScraper(id).get_items():\n",
    "        NonDepressionGroupUserTweet.append({\"ActualTweet\":tweet.url, \"DateDepressionReported\":str(tweet.date.day)+\"-\"+str(tweet.date.month)+\"-\"+str(tweet.date.year),\"TweetContent\":tweet.rawContent})\n",
    "    \n",
    "    \n",
    "    NonDepressionGroupUserTweet_df = pd.DataFrame(NonDepressionGroupUserTweet, columns=[\"ActualTweet\", \"DateDepressionReported\",\"TweetContent\"])\n",
    "    UserTweetFileName = \"NDG_and_\" + str(index+36) + \"_\" + id +\".csv\"   \n",
    "    NonDepressionGroupUserTweet_df.to_csv(UserTweetFileName,index=False)  \n",
    "    print(\"---Done \"+ UserTweetFileName +\"---\")"
   ]
  },
  {
   "cell_type": "markdown",
   "id": "2cf095a7",
   "metadata": {},
   "source": [
    "i"
   ]
  },
  {
   "cell_type": "code",
   "execution_count": null,
   "id": "26c769e3",
   "metadata": {},
   "outputs": [
    {
     "name": "stdout",
     "output_type": "stream",
     "text": [
      "---Done NDG_i_10_AadityaN_28.csv---\n",
      "---Done NDG_i_11_retromissa.csv---\n",
      "---Done NDG_i_12_myoongitrbl.csv---\n",
      "---Done NDG_i_13_PanchamKhaitan.csv---\n",
      "---Done NDG_i_14_Xindrooo.csv---\n",
      "---Done NDG_i_15_kathyweigertt.csv---\n",
      "---Done NDG_i_16_lufruit.csv---\n",
      "---Done NDG_i_17_anazmermaid.csv---\n",
      "---Done NDG_i_18_gotha3sdrew.csv---\n",
      "---Done NDG_i_19_BearyWobbly.csv---\n",
      "---Done NDG_i_20__Dadddy_.csv---\n",
      "---Done NDG_i_21_Zungiebungie.csv---\n",
      "---Done NDG_i_22_derekarnellx.csv---\n",
      "---Done NDG_i_23_ctognotti.csv---\n",
      "---Done NDG_i_24_bibillyhilljoon.csv---\n",
      "---Done NDG_i_25_Mari3dom.csv---\n",
      "---Done NDG_i_26_KruseYouri.csv---\n",
      "---Done NDG_i_27_ruebenjisha.csv---\n",
      "---Done NDG_i_28_seowonliker.csv---\n",
      "---Done NDG_i_29_shivering_gold.csv---\n",
      "---Done NDG_i_30_NikkiOnVegas.csv---\n",
      "---Done NDG_i_31_13OZZZ.csv---\n",
      "---Done NDG_i_32_pcrtmanelle.csv---\n",
      "---Done NDG_i_33_brucerogers666.csv---\n",
      "---Done NDG_i_34_jademinnie7.csv---\n",
      "---Done NDG_i_35_tiaa__mariee.csv---\n",
      "---Done NDG_i_36_shiverybones.csv---\n"
     ]
    }
   ],
   "source": [
    "TwitterId_Replace = TwitterId[10:100]\n",
    "\n",
    "\n",
    "for index,id in enumerate(TwitterId_Replace):\n",
    "    \n",
    "    NonDepressionGroupUserTweet = []\n",
    "\n",
    "    #search for user's data\n",
    "    for tweet in sntwitter.TwitterUserScraper(id).get_items():\n",
    "        NonDepressionGroupUserTweet.append({\"ActualTweet\":tweet.url, \"DateDepressionReported\":str(tweet.date.day)+\"-\"+str(tweet.date.month)+\"-\"+str(tweet.date.year),\"TweetContent\":tweet.rawContent})\n",
    "    \n",
    "    \n",
    "    NonDepressionGroupUserTweet_df = pd.DataFrame(NonDepressionGroupUserTweet, columns=[\"ActualTweet\", \"DateDepressionReported\",\"TweetContent\"])\n",
    "    UserTweetFileName = \"NDG_i_\" + str(index+10) + \"_\" + id +\".csv\"   \n",
    "    NonDepressionGroupUserTweet_df.to_csv(UserTweetFileName,index=False)  \n",
    "    print(\"---Done \"+ UserTweetFileName +\"---\")"
   ]
  },
  {
   "cell_type": "code",
   "execution_count": null,
   "id": "656dcf75",
   "metadata": {},
   "outputs": [
    {
     "name": "stderr",
     "output_type": "stream",
     "text": [
      "Could not translate t.co card URL on tweet 1433611596803108896\n",
      "Could not translate t.co card URL on tweet 1420668560725012483\n"
     ]
    },
    {
     "name": "stdout",
     "output_type": "stream",
     "text": [
      "---Done NDG_i_37_RPWORLDFESS.csv---\n"
     ]
    }
   ],
   "source": [
    "TwitterId_Replace = TwitterId[37:100]\n",
    "\n",
    "\n",
    "for index,id in enumerate(TwitterId_Replace):\n",
    "    \n",
    "    NonDepressionGroupUserTweet = []\n",
    "\n",
    "    #search for user's data\n",
    "    for tweet in sntwitter.TwitterUserScraper(id).get_items():\n",
    "        NonDepressionGroupUserTweet.append({\"ActualTweet\":tweet.url, \"DateDepressionReported\":str(tweet.date.day)+\"-\"+str(tweet.date.month)+\"-\"+str(tweet.date.year),\"TweetContent\":tweet.rawContent})\n",
    "    \n",
    "    \n",
    "    NonDepressionGroupUserTweet_df = pd.DataFrame(NonDepressionGroupUserTweet, columns=[\"ActualTweet\", \"DateDepressionReported\",\"TweetContent\"])\n",
    "    UserTweetFileName = \"NDG_i_\" + str(index+37) + \"_\" + id +\".csv\"   \n",
    "    NonDepressionGroupUserTweet_df.to_csv(UserTweetFileName,index=False)  \n",
    "    print(\"---Done \"+ UserTweetFileName +\"---\")"
   ]
  },
  {
   "cell_type": "code",
   "execution_count": null,
   "id": "bb692e64",
   "metadata": {},
   "outputs": [
    {
     "name": "stdout",
     "output_type": "stream",
     "text": [
      "---Done NDG_i_38_may_gun.csv---\n",
      "---Done NDG_i_39_mahotorakochan.csv---\n",
      "---Done NDG_i_40_ZEN_SANITY.csv---\n",
      "---Done NDG_i_41_Ilyvonn1.csv---\n",
      "---Done NDG_i_42_issasuperman.csv---\n",
      "---Done NDG_i_43_vyctorian.csv---\n",
      "---Done NDG_i_44_DlaminiLopes.csv---\n",
      "---Done NDG_i_45_spvnishshawwty.csv---\n",
      "---Done NDG_i_46_AMessyTonTon.csv---\n"
     ]
    }
   ],
   "source": [
    "TwitterId_Replace = TwitterId[38:100]\n",
    "\n",
    "\n",
    "for index,id in enumerate(TwitterId_Replace):\n",
    "    \n",
    "    NonDepressionGroupUserTweet = []\n",
    "\n",
    "    #search for user's data\n",
    "    for tweet in sntwitter.TwitterUserScraper(id).get_items():\n",
    "        NonDepressionGroupUserTweet.append({\"ActualTweet\":tweet.url, \"DateDepressionReported\":str(tweet.date.day)+\"-\"+str(tweet.date.month)+\"-\"+str(tweet.date.year),\"TweetContent\":tweet.rawContent})\n",
    "    \n",
    "    \n",
    "    NonDepressionGroupUserTweet_df = pd.DataFrame(NonDepressionGroupUserTweet, columns=[\"ActualTweet\", \"DateDepressionReported\",\"TweetContent\"])\n",
    "    UserTweetFileName = \"NDG_i_\" + str(index+38) + \"_\" + id +\".csv\"   \n",
    "    NonDepressionGroupUserTweet_df.to_csv(UserTweetFileName,index=False)  \n",
    "    print(\"---Done \"+ UserTweetFileName +\"---\")"
   ]
  },
  {
   "cell_type": "code",
   "execution_count": null,
   "id": "b049eb94",
   "metadata": {},
   "outputs": [
    {
     "name": "stdout",
     "output_type": "stream",
     "text": [
      "---Done NDG_i_46_AMessyTonTon.csv---\n",
      "---Done NDG_i_47_lexhooper.csv---\n",
      "---Done NDG_i_48_TylerOfAmerica.csv---\n",
      "---Done NDG_i_49_GeorgeAduda5.csv---\n",
      "---Done NDG_i_50_yoonglossm.csv---\n",
      "---Done NDG_i_51_samjones_ugc.csv---\n",
      "---Done NDG_i_52_Ing_Agri.csv---\n",
      "---Done NDG_i_53_TapestryofScarz.csv---\n",
      "---Done NDG_i_54_Bruhhchu.csv---\n",
      "---Done NDG_i_55_pjkate.csv---\n",
      "---Done NDG_i_56_Loraxpro.csv---\n",
      "---Done NDG_i_57_verviticus.csv---\n",
      "---Done NDG_i_58_so_dessy.csv---\n",
      "---Done NDG_i_59_jimins_flurry.csv---\n",
      "---Done NDG_i_60_Nayaa1x.csv---\n",
      "---Done NDG_i_61_OrayBullionss.csv---\n",
      "---Done NDG_i_62_producktions12.csv---\n",
      "---Done NDG_i_63_abbageI.csv---\n",
      "---Done NDG_i_64_brembobil.csv---\n",
      "---Done NDG_i_65_hobiswe.csv---\n",
      "---Done NDG_i_66_vfxwluv.csv---\n",
      "---Done NDG_i_67_filmskyrie.csv---\n",
      "---Done NDG_i_68_juantawns.csv---\n",
      "---Done NDG_i_69_SumonaApsaParii.csv---\n",
      "---Done NDG_i_70_aj_zavala.csv---\n",
      "---Done NDG_i_71_dahyunbear.csv---\n",
      "---Done NDG_i_72_shmily_pp.csv---\n",
      "---Done NDG_i_73_JacobBrown_007.csv---\n",
      "---Done NDG_i_74_wonderchestrs.csv---\n",
      "---Done NDG_i_75_cirroxyz.csv---\n",
      "---Done NDG_i_76_valleyofmummies.csv---\n"
     ]
    },
    {
     "name": "stderr",
     "output_type": "stream",
     "text": [
      "Stopping after 20 empty pages\n"
     ]
    },
    {
     "name": "stdout",
     "output_type": "stream",
     "text": [
      "---Done NDG_i_77_hayleeddababy.csv---\n",
      "---Done NDG_i_78_kayykiraa.csv---\n",
      "---Done NDG_i_79_xosworld.csv---\n",
      "---Done NDG_i_80___KeeSlim.csv---\n",
      "---Done NDG_i_81_xGodofMe.csv---\n"
     ]
    }
   ],
   "source": [
    "TwitterId_Replace = TwitterId[46:100]\n",
    "\n",
    "\n",
    "for index,id in enumerate(TwitterId_Replace):\n",
    "    \n",
    "    NonDepressionGroupUserTweet = []\n",
    "\n",
    "    #search for user's data\n",
    "    for tweet in sntwitter.TwitterUserScraper(id).get_items():\n",
    "        NonDepressionGroupUserTweet.append({\"ActualTweet\":tweet.url, \"DateDepressionReported\":str(tweet.date.day)+\"-\"+str(tweet.date.month)+\"-\"+str(tweet.date.year),\"TweetContent\":tweet.rawContent})\n",
    "    \n",
    "    \n",
    "    NonDepressionGroupUserTweet_df = pd.DataFrame(NonDepressionGroupUserTweet, columns=[\"ActualTweet\", \"DateDepressionReported\",\"TweetContent\"])\n",
    "    UserTweetFileName = \"NDG_i_\" + str(index+46) + \"_\" + id +\".csv\"   \n",
    "    NonDepressionGroupUserTweet_df.to_csv(UserTweetFileName,index=False)  \n",
    "    print(\"---Done \"+ UserTweetFileName +\"---\")"
   ]
  },
  {
   "cell_type": "markdown",
   "id": "e0277bd4",
   "metadata": {},
   "source": [
    "IN"
   ]
  },
  {
   "cell_type": "code",
   "execution_count": null,
   "id": "f134a321",
   "metadata": {},
   "outputs": [
    {
     "name": "stdout",
     "output_type": "stream",
     "text": [
      "---Done NDG_in_10_Cardisinal.csv---\n",
      "---Done NDG_in_11_seyi_oso.csv---\n",
      "---Done NDG_in_12_ShopSJSHockey.csv---\n",
      "---Done NDG_in_13_PP9985.csv---\n",
      "---Done NDG_in_14_MaduOnuorah.csv---\n",
      "---Done NDG_in_15_jeon_bora_tae.csv---\n",
      "---Done NDG_in_16_Kasungwa_.csv---\n",
      "---Done NDG_in_17_RAMmagazineOz.csv---\n",
      "---Done NDG_in_18_DostiFM98.csv---\n",
      "---Done NDG_in_19_gabriellamadd.csv---\n",
      "---Done NDG_in_20_peach_season.csv---\n",
      "---Done NDG_in_21_fishy_chick.csv---\n",
      "---Done NDG_in_22_pilabuda.csv---\n"
     ]
    },
    {
     "name": "stderr",
     "output_type": "stream",
     "text": [
      "Stopping after 20 empty pages\n"
     ]
    },
    {
     "name": "stdout",
     "output_type": "stream",
     "text": [
      "---Done NDG_in_23_sandybaca156.csv---\n",
      "---Done NDG_in_24_Anavaleriaxo.csv---\n",
      "---Done NDG_in_25_ransonfamilypix.csv---\n",
      "---Done NDG_in_26_naveen_banka.csv---\n",
      "---Done NDG_in_27_abdullahiyaro15.csv---\n",
      "---Done NDG_in_28_boboyout1.csv---\n",
      "---Done NDG_in_29_billhero.csv---\n",
      "---Done NDG_in_30_DonaldMJones6.csv---\n",
      "---Done NDG_in_31_GSWMI_HealingSc.csv---\n"
     ]
    }
   ],
   "source": [
    "TwitterId_Replace = TwitterId[10:100]\n",
    "\n",
    "\n",
    "for index,id in enumerate(TwitterId_Replace):\n",
    "    \n",
    "    NonDepressionGroupUserTweet = []\n",
    "\n",
    "    #search for user's data\n",
    "    for tweet in sntwitter.TwitterUserScraper(id).get_items():\n",
    "        NonDepressionGroupUserTweet.append({\"ActualTweet\":tweet.url, \"DateDepressionReported\":str(tweet.date.day)+\"-\"+str(tweet.date.month)+\"-\"+str(tweet.date.year),\"TweetContent\":tweet.rawContent})\n",
    "    \n",
    "    \n",
    "    NonDepressionGroupUserTweet_df = pd.DataFrame(NonDepressionGroupUserTweet, columns=[\"ActualTweet\", \"DateDepressionReported\",\"TweetContent\"])\n",
    "    UserTweetFileName = \"NDG_in_\" + str(index+10) + \"_\" + id +\".csv\"   \n",
    "    NonDepressionGroupUserTweet_df.to_csv(UserTweetFileName,index=False)  \n",
    "    print(\"---Done \"+ UserTweetFileName +\"---\")"
   ]
  },
  {
   "cell_type": "code",
   "execution_count": null,
   "id": "69388e71",
   "metadata": {},
   "outputs": [
    {
     "name": "stdout",
     "output_type": "stream",
     "text": [
      "---Done NDG_in_32_livemint.csv---\n",
      "---Done NDG_in_33_ShirmirArt.csv---\n",
      "---Done NDG_in_34_farhan_hossain9.csv---\n",
      "---Done NDG_in_35_thmazing.csv---\n"
     ]
    },
    {
     "name": "stderr",
     "output_type": "stream",
     "text": [
      "Stopping after 20 empty pages\n"
     ]
    },
    {
     "name": "stdout",
     "output_type": "stream",
     "text": [
      "---Done NDG_in_36_1t_cartier.csv---\n",
      "---Done NDG_in_37_MichaelJAvery.csv---\n",
      "---Done NDG_in_38_H19827182Hudson.csv---\n",
      "---Done NDG_in_39_thefamedpj.csv---\n",
      "---Done NDG_in_40_BossyUgandan.csv---\n"
     ]
    }
   ],
   "source": [
    "TwitterId_Replace = TwitterId[32:100]\n",
    "\n",
    "\n",
    "for index,id in enumerate(TwitterId_Replace):\n",
    "    \n",
    "    NonDepressionGroupUserTweet = []\n",
    "\n",
    "    #search for user's data\n",
    "    for tweet in sntwitter.TwitterUserScraper(id).get_items():\n",
    "        NonDepressionGroupUserTweet.append({\"ActualTweet\":tweet.url, \"DateDepressionReported\":str(tweet.date.day)+\"-\"+str(tweet.date.month)+\"-\"+str(tweet.date.year),\"TweetContent\":tweet.rawContent})\n",
    "    \n",
    "    \n",
    "    NonDepressionGroupUserTweet_df = pd.DataFrame(NonDepressionGroupUserTweet, columns=[\"ActualTweet\", \"DateDepressionReported\",\"TweetContent\"])\n",
    "    UserTweetFileName = \"NDG_in_\" + str(index+32) + \"_\" + id +\".csv\"   \n",
    "    NonDepressionGroupUserTweet_df.to_csv(UserTweetFileName,index=False)  \n",
    "    print(\"---Done \"+ UserTweetFileName +\"---\")"
   ]
  },
  {
   "cell_type": "code",
   "execution_count": null,
   "id": "c8f0fcf5",
   "metadata": {},
   "outputs": [
    {
     "name": "stdout",
     "output_type": "stream",
     "text": [
      "---Done NDG_in_41_humblebeauty.csv---\n",
      "---Done NDG_in_42_miisteraa.csv---\n",
      "---Done NDG_in_43_ArthurBenta.csv---\n",
      "---Done NDG_in_44_GailDianne1.csv---\n",
      "---Done NDG_in_45_AliceMukamutesi.csv---\n",
      "---Done NDG_in_46_mandar2404.csv---\n",
      "---Done NDG_in_47_lovcminho.csv---\n"
     ]
    }
   ],
   "source": [
    "TwitterId_Replace = TwitterId[41:100]\n",
    "\n",
    "\n",
    "for index,id in enumerate(TwitterId_Replace):\n",
    "    \n",
    "    NonDepressionGroupUserTweet = []\n",
    "\n",
    "    #search for user's data\n",
    "    for tweet in sntwitter.TwitterUserScraper(id).get_items():\n",
    "        NonDepressionGroupUserTweet.append({\"ActualTweet\":tweet.url, \"DateDepressionReported\":str(tweet.date.day)+\"-\"+str(tweet.date.month)+\"-\"+str(tweet.date.year),\"TweetContent\":tweet.rawContent})\n",
    "    \n",
    "    \n",
    "    NonDepressionGroupUserTweet_df = pd.DataFrame(NonDepressionGroupUserTweet, columns=[\"ActualTweet\", \"DateDepressionReported\",\"TweetContent\"])\n",
    "    UserTweetFileName = \"NDG_in_\" + str(index+41) + \"_\" + id +\".csv\"   \n",
    "    NonDepressionGroupUserTweet_df.to_csv(UserTweetFileName,index=False)  \n",
    "    print(\"---Done \"+ UserTweetFileName +\"---\")"
   ]
  },
  {
   "cell_type": "code",
   "execution_count": null,
   "id": "4004a3ec",
   "metadata": {},
   "outputs": [
    {
     "name": "stdout",
     "output_type": "stream",
     "text": [
      "---Done NDG_in_48_IXVIVS.csv---\n",
      "---Done NDG_in_49_PSArekt.csv---\n",
      "---Done NDG_in_50_Zachary83188969.csv---\n",
      "---Done NDG_in_51_radionewshub.csv---\n",
      "---Done NDG_in_52_lib_trigger.csv---\n",
      "---Done NDG_in_53_Wavvy_Fish56.csv---\n",
      "---Done NDG_in_54_Tengaasi.csv---\n",
      "---Done NDG_in_55_Theucnreject_72.csv---\n",
      "---Done NDG_in_56_blsp_india.csv---\n",
      "---Done NDG_in_57_jadsfc.csv---\n",
      "---Done NDG_in_58_EzamaCirha.csv---\n",
      "---Done NDG_in_59_AlexaJasinski.csv---\n",
      "---Done NDG_in_60_Favouredchudi.csv---\n",
      "---Done NDG_in_61_FrankiesTwoLoud.csv---\n",
      "---Done NDG_in_62_yazzerOsman.csv---\n",
      "---Done NDG_in_63_ulfhammarstrom.csv---\n",
      "---Done NDG_in_64_IloveJesus1975.csv---\n",
      "---Done NDG_in_65_Polly_Obscurum.csv---\n",
      "---Done NDG_in_66_willows1234.csv---\n",
      "---Done NDG_in_67_spookyxfiles.csv---\n",
      "---Done NDG_in_68_zendayasblazer.csv---\n",
      "---Done NDG_in_69_deadlygeminii.csv---\n",
      "---Done NDG_in_70_blackbill1991.csv---\n",
      "---Done NDG_in_71_netheritecola.csv---\n",
      "---Done NDG_in_72_JEXUXEJ.csv---\n",
      "---Done NDG_in_73_oscarkimbauman.csv---\n",
      "---Done NDG_in_74_sanisnani.csv---\n",
      "---Done NDG_in_75_snowyaaaa.csv---\n",
      "---Done NDG_in_76_happiehao.csv---\n",
      "---Done NDG_in_77__allyelilly.csv---\n",
      "---Done NDG_in_78_akhil_tweetz.csv---\n",
      "---Done NDG_in_79_RavenKnight333.csv---\n",
      "---Done NDG_in_80_rebel_sham.csv---\n",
      "---Done NDG_in_81_SatomiBOT.csv---\n",
      "---Done NDG_in_82_AylesburyMeths.csv---\n",
      "---Done NDG_in_83_Sani_Sy__.csv---\n",
      "---Done NDG_in_84_Shehrya04929514.csv---\n",
      "---Done NDG_in_85_SoBoldOfYou.csv---\n",
      "---Done NDG_in_86_JafferyAcademy.csv---\n"
     ]
    }
   ],
   "source": [
    "TwitterId_Replace = TwitterId[48:100]\n",
    "\n",
    "\n",
    "for index,id in enumerate(TwitterId_Replace):\n",
    "    \n",
    "    NonDepressionGroupUserTweet = []\n",
    "\n",
    "    #search for user's data\n",
    "    for tweet in sntwitter.TwitterUserScraper(id).get_items():\n",
    "        NonDepressionGroupUserTweet.append({\"ActualTweet\":tweet.url, \"DateDepressionReported\":str(tweet.date.day)+\"-\"+str(tweet.date.month)+\"-\"+str(tweet.date.year),\"TweetContent\":tweet.rawContent})\n",
    "    \n",
    "    \n",
    "    NonDepressionGroupUserTweet_df = pd.DataFrame(NonDepressionGroupUserTweet, columns=[\"ActualTweet\", \"DateDepressionReported\",\"TweetContent\"])\n",
    "    UserTweetFileName = \"NDG_in_\" + str(index+48) + \"_\" + id +\".csv\"   \n",
    "    NonDepressionGroupUserTweet_df.to_csv(UserTweetFileName,index=False)  \n",
    "    print(\"---Done \"+ UserTweetFileName +\"---\")"
   ]
  },
  {
   "cell_type": "markdown",
   "id": "c9441bb4",
   "metadata": {},
   "source": [
    "is"
   ]
  },
  {
   "cell_type": "code",
   "execution_count": null,
   "id": "840ceac6",
   "metadata": {},
   "outputs": [
    {
     "name": "stdout",
     "output_type": "stream",
     "text": [
      "---Done NDG_is_10_ClaytonnManning.csv---\n"
     ]
    },
    {
     "name": "stderr",
     "output_type": "stream",
     "text": [
      "Tweet 1315532897193922563 contains an app icon medium key '4_1645296448290926592' on app 'iphone_app'/'1497257119', but the corresponding medium is missing; dropping\n",
      "Tweet 1315532897193922563 contains an app icon medium key '4_1645296448290926592' on app 'ipad_app'/'1497257119', but the corresponding medium is missing; dropping\n"
     ]
    },
    {
     "name": "stdout",
     "output_type": "stream",
     "text": [
      "---Done NDG_is_11_amarjeet_del.csv---\n",
      "---Done NDG_is_12_uptourismgov.csv---\n",
      "---Done NDG_is_13_DeeOneAyekooto.csv---\n"
     ]
    },
    {
     "name": "stderr",
     "output_type": "stream",
     "text": [
      "Tweet 1111354799663005696 contains an app icon medium key '4_1645575226997063680' on app 'iphone_app'/'656971078', but the corresponding medium is missing; dropping\n",
      "Tweet 1111354799663005696 contains an app icon medium key '4_1645410021369344000' on app 'android_app'/'com.episodeinteractive.android.catalog', but the corresponding medium is missing; dropping\n",
      "Tweet 1111354799663005696 contains an app icon medium key '4_1645575226997063680' on app 'ipad_app'/'656971078', but the corresponding medium is missing; dropping\n"
     ]
    },
    {
     "name": "stdout",
     "output_type": "stream",
     "text": [
      "---Done NDG_is_14_SassyandGeeky.csv---\n",
      "---Done NDG_is_15_BarrazaNiven.csv---\n",
      "---Done NDG_is_16_imnatecorddry.csv---\n",
      "---Done NDG_is_17_rizzacoloma13.csv---\n"
     ]
    }
   ],
   "source": [
    "TwitterId_Replace = TwitterId[10:100]\n",
    "\n",
    "\n",
    "for index,id in enumerate(TwitterId_Replace):\n",
    "    \n",
    "    NonDepressionGroupUserTweet = []\n",
    "\n",
    "    #search for user's data\n",
    "    for tweet in sntwitter.TwitterUserScraper(id).get_items():\n",
    "        NonDepressionGroupUserTweet.append({\"ActualTweet\":tweet.url, \"DateDepressionReported\":str(tweet.date.day)+\"-\"+str(tweet.date.month)+\"-\"+str(tweet.date.year),\"TweetContent\":tweet.rawContent})\n",
    "    \n",
    "    \n",
    "    NonDepressionGroupUserTweet_df = pd.DataFrame(NonDepressionGroupUserTweet, columns=[\"ActualTweet\", \"DateDepressionReported\",\"TweetContent\"])\n",
    "    UserTweetFileName = \"NDG_is_\" + str(index+10) + \"_\" + id +\".csv\"   \n",
    "    NonDepressionGroupUserTweet_df.to_csv(UserTweetFileName,index=False)  \n",
    "    print(\"---Done \"+ UserTweetFileName +\"---\")"
   ]
  },
  {
   "cell_type": "code",
   "execution_count": null,
   "id": "d7e10eb8",
   "metadata": {},
   "outputs": [
    {
     "name": "stdout",
     "output_type": "stream",
     "text": [
      "---Done NDG_is_18_novelle_pv.csv---\n",
      "---Done NDG_is_19_lacedwitdee.csv---\n",
      "---Done NDG_is_20_SakuMulti.csv---\n",
      "---Done NDG_is_21_LuthoMatiwane3.csv---\n"
     ]
    },
    {
     "name": "stderr",
     "output_type": "stream",
     "text": [
      "Tweet 1623834131464323074 contains an app icon medium key '4_1645493000745934849' on app 'android_app'/'com.chamberlain.android.liftmaster.myq', but the corresponding medium is missing; dropping\n"
     ]
    },
    {
     "name": "stdout",
     "output_type": "stream",
     "text": [
      "---Done NDG_is_22_mrjeffknox.csv---\n",
      "---Done NDG_is_23_ezeky_shaw.csv---\n",
      "---Done NDG_is_24_zetaesper.csv---\n",
      "---Done NDG_is_25_LiselotFontene1.csv---\n",
      "---Done NDG_is_26_if_onlly.csv---\n",
      "---Done NDG_is_27_lizalovesbo.csv---\n",
      "---Done NDG_is_28_dias_chriss.csv---\n",
      "---Done NDG_is_29_hussain1968.csv---\n",
      "---Done NDG_is_30_AlienMacKitty.csv---\n",
      "---Done NDG_is_31_G8Zaid.csv---\n",
      "---Done NDG_is_32_RobertoyawBrako.csv---\n",
      "---Done NDG_is_33_MountMoriahSeed.csv---\n",
      "---Done NDG_is_34_dianajsalamanca.csv---\n",
      "---Done NDG_is_35_LouthMoriah.csv---\n",
      "---Done NDG_is_36_anyamariedobson.csv---\n"
     ]
    },
    {
     "name": "stderr",
     "output_type": "stream",
     "text": [
      "Stopping after 20 empty pages\n"
     ]
    },
    {
     "name": "stdout",
     "output_type": "stream",
     "text": [
      "---Done NDG_is_37_cansfordaysmate.csv---\n",
      "---Done NDG_is_38_ScriptJojo.csv---\n",
      "---Done NDG_is_39_Spotlight_Abby.csv---\n",
      "---Done NDG_is_40_MummaLovesBTS.csv---\n"
     ]
    }
   ],
   "source": [
    "TwitterId_Replace = TwitterId[18:100]\n",
    "\n",
    "\n",
    "for index,id in enumerate(TwitterId_Replace):\n",
    "    \n",
    "    NonDepressionGroupUserTweet = []\n",
    "\n",
    "    #search for user's data\n",
    "    for tweet in sntwitter.TwitterUserScraper(id).get_items():\n",
    "        NonDepressionGroupUserTweet.append({\"ActualTweet\":tweet.url, \"DateDepressionReported\":str(tweet.date.day)+\"-\"+str(tweet.date.month)+\"-\"+str(tweet.date.year),\"TweetContent\":tweet.rawContent})\n",
    "    \n",
    "    \n",
    "    NonDepressionGroupUserTweet_df = pd.DataFrame(NonDepressionGroupUserTweet, columns=[\"ActualTweet\", \"DateDepressionReported\",\"TweetContent\"])\n",
    "    UserTweetFileName = \"NDG_is_\" + str(index+18) + \"_\" + id +\".csv\"   \n",
    "    NonDepressionGroupUserTweet_df.to_csv(UserTweetFileName,index=False)  \n",
    "    print(\"---Done \"+ UserTweetFileName +\"---\")"
   ]
  },
  {
   "cell_type": "code",
   "execution_count": null,
   "id": "e6bc30f8",
   "metadata": {},
   "outputs": [
    {
     "name": "stdout",
     "output_type": "stream",
     "text": [
      "---Done NDG_is_41_newsfet777.csv---\n",
      "---Done NDG_is_42_Jamiyaaa01.csv---\n"
     ]
    },
    {
     "name": "stderr",
     "output_type": "stream",
     "text": [
      "Stopping after 20 empty pages\n"
     ]
    },
    {
     "name": "stdout",
     "output_type": "stream",
     "text": [
      "---Done NDG_is_43_xoshamieh.csv---\n",
      "---Done NDG_is_44_grizzgoatsports.csv---\n",
      "---Done NDG_is_45_itsbumblebear.csv---\n",
      "---Done NDG_is_46_vigilantLEO.csv---\n",
      "---Done NDG_is_47_escomiller.csv---\n",
      "---Done NDG_is_48_catherinesclaws.csv---\n",
      "---Done NDG_is_49_NotPotBol.csv---\n",
      "---Done NDG_is_50_WashSox2021.csv---\n",
      "---Done NDG_is_51_PrettyYoungJay_.csv---\n",
      "---Done NDG_is_52_m_shutterbug.csv---\n",
      "---Done NDG_is_53_BeautifulLEXX_.csv---\n",
      "---Done NDG_is_54_BillShanks.csv---\n",
      "---Done NDG_is_55_lilioflu.csv---\n",
      "---Done NDG_is_56_EverydayMile.csv---\n",
      "---Done NDG_is_57_blatherat.csv---\n",
      "---Done NDG_is_58_SovranMonk_4th.csv---\n",
      "---Done NDG_is_59_Clergi_M.csv---\n",
      "---Done NDG_is_60_asmakibatain.csv---\n",
      "---Done NDG_is_61_Shaizeen12.csv---\n",
      "---Done NDG_is_62_NovePlusNove.csv---\n",
      "---Done NDG_is_63_Sorandom_nece.csv---\n",
      "---Done NDG_is_64_SydneyNicolex_.csv---\n"
     ]
    }
   ],
   "source": [
    "TwitterId_Replace = TwitterId[41:100]\n",
    "\n",
    "\n",
    "for index,id in enumerate(TwitterId_Replace):\n",
    "    \n",
    "    NonDepressionGroupUserTweet = []\n",
    "\n",
    "    #search for user's data\n",
    "    for tweet in sntwitter.TwitterUserScraper(id).get_items():\n",
    "        NonDepressionGroupUserTweet.append({\"ActualTweet\":tweet.url, \"DateDepressionReported\":str(tweet.date.day)+\"-\"+str(tweet.date.month)+\"-\"+str(tweet.date.year),\"TweetContent\":tweet.rawContent})\n",
    "    \n",
    "    \n",
    "    NonDepressionGroupUserTweet_df = pd.DataFrame(NonDepressionGroupUserTweet, columns=[\"ActualTweet\", \"DateDepressionReported\",\"TweetContent\"])\n",
    "    UserTweetFileName = \"NDG_is_\" + str(index+41) + \"_\" + id +\".csv\"   \n",
    "    NonDepressionGroupUserTweet_df.to_csv(UserTweetFileName,index=False)  \n",
    "    print(\"---Done \"+ UserTweetFileName +\"---\")"
   ]
  },
  {
   "cell_type": "code",
   "execution_count": null,
   "id": "12cfd7a0",
   "metadata": {},
   "outputs": [
    {
     "name": "stdout",
     "output_type": "stream",
     "text": [
      "---Done NDG_is_65_venustoner.csv---\n"
     ]
    },
    {
     "name": "stderr",
     "output_type": "stream",
     "text": [
      "Stopping after 20 empty pages\n"
     ]
    },
    {
     "name": "stdout",
     "output_type": "stream",
     "text": [
      "---Done NDG_is_66_ordcomputer.csv---\n"
     ]
    }
   ],
   "source": [
    "TwitterId_Replace = TwitterId[65:100]\n",
    "\n",
    "\n",
    "for index,id in enumerate(TwitterId_Replace):\n",
    "    \n",
    "    NonDepressionGroupUserTweet = []\n",
    "\n",
    "    #search for user's data\n",
    "    for tweet in sntwitter.TwitterUserScraper(id).get_items():\n",
    "        NonDepressionGroupUserTweet.append({\"ActualTweet\":tweet.url, \"DateDepressionReported\":str(tweet.date.day)+\"-\"+str(tweet.date.month)+\"-\"+str(tweet.date.year),\"TweetContent\":tweet.rawContent})\n",
    "    \n",
    "    \n",
    "    NonDepressionGroupUserTweet_df = pd.DataFrame(NonDepressionGroupUserTweet, columns=[\"ActualTweet\", \"DateDepressionReported\",\"TweetContent\"])\n",
    "    UserTweetFileName = \"NDG_is_\" + str(index+65) + \"_\" + id +\".csv\"   \n",
    "    NonDepressionGroupUserTweet_df.to_csv(UserTweetFileName,index=False)  \n",
    "    print(\"---Done \"+ UserTweetFileName +\"---\")"
   ]
  },
  {
   "cell_type": "code",
   "execution_count": null,
   "id": "1c3f12b6",
   "metadata": {},
   "outputs": [
    {
     "name": "stdout",
     "output_type": "stream",
     "text": [
      "---Done NDG_is_67_Mundohasaknife.csv---\n",
      "---Done NDG_is_68_KemptenSafaris.csv---\n"
     ]
    }
   ],
   "source": [
    "TwitterId_Replace = TwitterId[67:100]\n",
    "\n",
    "\n",
    "for index,id in enumerate(TwitterId_Replace):\n",
    "    \n",
    "    NonDepressionGroupUserTweet = []\n",
    "\n",
    "    #search for user's data\n",
    "    for tweet in sntwitter.TwitterUserScraper(id).get_items():\n",
    "        NonDepressionGroupUserTweet.append({\"ActualTweet\":tweet.url, \"DateDepressionReported\":str(tweet.date.day)+\"-\"+str(tweet.date.month)+\"-\"+str(tweet.date.year),\"TweetContent\":tweet.rawContent})\n",
    "    \n",
    "    \n",
    "    NonDepressionGroupUserTweet_df = pd.DataFrame(NonDepressionGroupUserTweet, columns=[\"ActualTweet\", \"DateDepressionReported\",\"TweetContent\"])\n",
    "    UserTweetFileName = \"NDG_is_\" + str(index+67) + \"_\" + id +\".csv\"   \n",
    "    NonDepressionGroupUserTweet_df.to_csv(UserTweetFileName,index=False)  \n",
    "    print(\"---Done \"+ UserTweetFileName +\"---\")"
   ]
  },
  {
   "cell_type": "code",
   "execution_count": null,
   "id": "b441406d",
   "metadata": {},
   "outputs": [
    {
     "name": "stdout",
     "output_type": "stream",
     "text": [
      "---Done NDG_is_69_starryjimini.csv---\n",
      "---Done NDG_is_70_phtechy.csv---\n",
      "---Done NDG_is_71_dedygober.csv---\n",
      "---Done NDG_is_72_AddelHeersink.csv---\n",
      "---Done NDG_is_73_NotJobob.csv---\n",
      "---Done NDG_is_74_karryontravel.csv---\n",
      "---Done NDG_is_75_sxcialite.csv---\n"
     ]
    },
    {
     "name": "stderr",
     "output_type": "stream",
     "text": [
      "Stopping after 20 empty pages\n"
     ]
    },
    {
     "name": "stdout",
     "output_type": "stream",
     "text": [
      "---Done NDG_is_76_Richard51499225.csv---\n",
      "---Done NDG_is_77_reallildebbie2.csv---\n",
      "---Done NDG_is_78_angelscorneryt.csv---\n",
      "---Done NDG_is_79_rohit_pradhan.csv---\n",
      "---Done NDG_is_80_aestheticmessme.csv---\n",
      "---Done NDG_is_81_thefamedpj.csv---\n",
      "---Done NDG_is_82_xoxoo_de.csv---\n",
      "---Done NDG_is_83_Attentive_Being.csv---\n"
     ]
    }
   ],
   "source": [
    "TwitterId_Replace = TwitterId[69:100]\n",
    "\n",
    "\n",
    "for index,id in enumerate(TwitterId_Replace):\n",
    "    \n",
    "    NonDepressionGroupUserTweet = []\n",
    "\n",
    "    #search for user's data\n",
    "    for tweet in sntwitter.TwitterUserScraper(id).get_items():\n",
    "        NonDepressionGroupUserTweet.append({\"ActualTweet\":tweet.url, \"DateDepressionReported\":str(tweet.date.day)+\"-\"+str(tweet.date.month)+\"-\"+str(tweet.date.year),\"TweetContent\":tweet.rawContent})\n",
    "    \n",
    "    \n",
    "    NonDepressionGroupUserTweet_df = pd.DataFrame(NonDepressionGroupUserTweet, columns=[\"ActualTweet\", \"DateDepressionReported\",\"TweetContent\"])\n",
    "    UserTweetFileName = \"NDG_is_\" + str(index+69) + \"_\" + id +\".csv\"   \n",
    "    NonDepressionGroupUserTweet_df.to_csv(UserTweetFileName,index=False)  \n",
    "    print(\"---Done \"+ UserTweetFileName +\"---\")"
   ]
  },
  {
   "cell_type": "markdown",
   "id": "9819b72a",
   "metadata": {},
   "source": [
    "IT"
   ]
  },
  {
   "cell_type": "code",
   "execution_count": null,
   "id": "923d2a42",
   "metadata": {},
   "outputs": [
    {
     "name": "stdout",
     "output_type": "stream",
     "text": [
      "---Done NDG_it_10_EmbersAbsolve.csv---\n",
      "---Done NDG_it_11_daninotacroc.csv---\n",
      "---Done NDG_it_12_adebayo_merit.csv---\n",
      "---Done NDG_it_13_NusaibahOnline.csv---\n",
      "---Done NDG_it_14_matrix100jaguar.csv---\n",
      "---Done NDG_it_15_bnuuyes.csv---\n",
      "---Done NDG_it_16_GodsOwns004.csv---\n"
     ]
    }
   ],
   "source": [
    "TwitterId_Replace = TwitterId[10:100]\n",
    "\n",
    "\n",
    "for index,id in enumerate(TwitterId_Replace):\n",
    "    \n",
    "    NonDepressionGroupUserTweet = []\n",
    "\n",
    "    #search for user's data\n",
    "    for tweet in sntwitter.TwitterUserScraper(id).get_items():\n",
    "        NonDepressionGroupUserTweet.append({\"ActualTweet\":tweet.url, \"DateDepressionReported\":str(tweet.date.day)+\"-\"+str(tweet.date.month)+\"-\"+str(tweet.date.year),\"TweetContent\":tweet.rawContent})\n",
    "    \n",
    "    \n",
    "    NonDepressionGroupUserTweet_df = pd.DataFrame(NonDepressionGroupUserTweet, columns=[\"ActualTweet\", \"DateDepressionReported\",\"TweetContent\"])\n",
    "    UserTweetFileName = \"NDG_it_\" + str(index+10) + \"_\" + id +\".csv\"   \n",
    "    NonDepressionGroupUserTweet_df.to_csv(UserTweetFileName,index=False)  \n",
    "    print(\"---Done \"+ UserTweetFileName +\"---\")"
   ]
  },
  {
   "cell_type": "code",
   "execution_count": null,
   "id": "f457e965",
   "metadata": {},
   "outputs": [
    {
     "name": "stdout",
     "output_type": "stream",
     "text": [
      "---Done NDG_it_17_gamechunktv.csv---\n",
      "---Done NDG_it_18_finalneedle.csv---\n",
      "---Done NDG_it_19_AshengrottoBot.csv---\n",
      "---Done NDG_it_20_OKAYYYWOWWW.csv---\n",
      "---Done NDG_it_21_sadbitch107.csv---\n",
      "---Done NDG_it_22_AyndaMthimkhulu.csv---\n",
      "---Done NDG_it_23_callmedonvilla.csv---\n"
     ]
    }
   ],
   "source": [
    "TwitterId_Replace = TwitterId[17:100]\n",
    "\n",
    "\n",
    "for index,id in enumerate(TwitterId_Replace):\n",
    "    \n",
    "    NonDepressionGroupUserTweet = []\n",
    "\n",
    "    #search for user's data\n",
    "    for tweet in sntwitter.TwitterUserScraper(id).get_items():\n",
    "        NonDepressionGroupUserTweet.append({\"ActualTweet\":tweet.url, \"DateDepressionReported\":str(tweet.date.day)+\"-\"+str(tweet.date.month)+\"-\"+str(tweet.date.year),\"TweetContent\":tweet.rawContent})\n",
    "    \n",
    "    \n",
    "    NonDepressionGroupUserTweet_df = pd.DataFrame(NonDepressionGroupUserTweet, columns=[\"ActualTweet\", \"DateDepressionReported\",\"TweetContent\"])\n",
    "    UserTweetFileName = \"NDG_it_\" + str(index+17) + \"_\" + id +\".csv\"   \n",
    "    NonDepressionGroupUserTweet_df.to_csv(UserTweetFileName,index=False)  \n",
    "    print(\"---Done \"+ UserTweetFileName +\"---\")"
   ]
  },
  {
   "cell_type": "code",
   "execution_count": null,
   "id": "5ecb3ae1",
   "metadata": {},
   "outputs": [
    {
     "name": "stdout",
     "output_type": "stream",
     "text": [
      "---Done NDG_it_24_T02dd1.csv---\n",
      "---Done NDG_it_25_dogboyification.csv---\n",
      "---Done NDG_it_26_Y01M1Y4Z.csv---\n",
      "---Done NDG_it_27_BasedSupoko.csv---\n",
      "---Done NDG_it_28_MyaaHendrixx.csv---\n",
      "---Done NDG_it_29_ririe20674754.csv---\n",
      "---Done NDG_it_30_mangitolai.csv---\n",
      "---Done NDG_it_31_Therealkee____.csv---\n",
      "---Done NDG_it_32_DevlinSyo.csv---\n",
      "---Done NDG_it_33_LiSzaSzn.csv---\n",
      "---Done NDG_it_34_teyloh1.csv---\n",
      "---Done NDG_it_35_WOLVESCL0AK.csv---\n",
      "---Done NDG_it_36_AnthonyJeff6.csv---\n",
      "---Done NDG_it_37_lvxmin.csv---\n",
      "---Done NDG_it_38_KirbyTVLK.csv---\n",
      "---Done NDG_it_39_KayRoss4.csv---\n",
      "---Done NDG_it_40_StayCeeS.csv---\n",
      "---Done NDG_it_41_asterwsh.csv---\n",
      "---Done NDG_it_42_angelodenico.csv---\n",
      "---Done NDG_it_43_leoslyricbot.csv---\n",
      "---Done NDG_it_44_blindllxll.csv---\n",
      "---Done NDG_it_45_urfavoritejamie.csv---\n"
     ]
    }
   ],
   "source": [
    "TwitterId_Replace = TwitterId[24:100]\n",
    "\n",
    "\n",
    "for index,id in enumerate(TwitterId_Replace):\n",
    "    \n",
    "    NonDepressionGroupUserTweet = []\n",
    "\n",
    "    #search for user's data\n",
    "    for tweet in sntwitter.TwitterUserScraper(id).get_items():\n",
    "        NonDepressionGroupUserTweet.append({\"ActualTweet\":tweet.url, \"DateDepressionReported\":str(tweet.date.day)+\"-\"+str(tweet.date.month)+\"-\"+str(tweet.date.year),\"TweetContent\":tweet.rawContent})\n",
    "    \n",
    "    \n",
    "    NonDepressionGroupUserTweet_df = pd.DataFrame(NonDepressionGroupUserTweet, columns=[\"ActualTweet\", \"DateDepressionReported\",\"TweetContent\"])\n",
    "    UserTweetFileName = \"NDG_it_\" + str(index+24) + \"_\" + id +\".csv\"   \n",
    "    NonDepressionGroupUserTweet_df.to_csv(UserTweetFileName,index=False)  \n",
    "    print(\"---Done \"+ UserTweetFileName +\"---\")"
   ]
  },
  {
   "cell_type": "markdown",
   "id": "7947c251",
   "metadata": {},
   "source": [
    "OF"
   ]
  },
  {
   "cell_type": "code",
   "execution_count": 2,
   "id": "011bb042",
   "metadata": {},
   "outputs": [
    {
     "name": "stdout",
     "output_type": "stream",
     "text": [
      "---Done NDG_of_10_XFaure.csv---\n",
      "---Done NDG_of_11_nickolson_terry.csv---\n",
      "---Done NDG_of_12_7NEWSCentWest.csv---\n",
      "---Done NDG_of_13_FinAmourBot.csv---\n",
      "---Done NDG_of_14_CrockersMarquee.csv---\n",
      "---Done NDG_of_15_ItsKieranDrew.csv---\n",
      "---Done NDG_of_16_adrenaline_mask.csv---\n",
      "---Done NDG_of_17_yvestumorbot.csv---\n",
      "---Done NDG_of_18_CONSTAN70659172.csv---\n",
      "---Done NDG_of_19_Digitalmaarifa_.csv---\n",
      "---Done NDG_of_20_PatrioticOn22.csv---\n",
      "---Done NDG_of_21_Knight_of_Disks.csv---\n",
      "---Done NDG_of_22_davidparry100.csv---\n",
      "---Done NDG_of_23_Eddie_Gore1.csv---\n",
      "---Done NDG_of_24_gialloesque.csv---\n",
      "---Done NDG_of_25_wessaquotes.csv---\n",
      "---Done NDG_of_26_kuebanlynk.csv---\n",
      "---Done NDG_of_27_hourlyhnk.csv---\n",
      "---Done NDG_of_28_SFredabel.csv---\n",
      "---Done NDG_of_29_rexuIti.csv---\n",
      "---Done NDG_of_30_SolomonGrayTTV.csv---\n",
      "---Done NDG_of_31_blvckledge.csv---\n",
      "---Done NDG_of_32_yubyubcommandr.csv---\n",
      "---Done NDG_of_33_ashvinmalviya10.csv---\n",
      "---Done NDG_of_34_malachitebot.csv---\n",
      "---Done NDG_of_35_NOLANGRAYSONBOT.csv---\n"
     ]
    },
    {
     "name": "stderr",
     "output_type": "stream",
     "text": [
      "Error retrieving https://api.twitter.com/2/search/adaptive.json?include_profile_interstitial_type=1&include_blocking=1&include_blocked_by=1&include_followed_by=1&include_want_retweets=1&include_mute_edge=1&include_can_dm=1&include_can_media_tag=1&include_ext_has_nft_avatar=1&include_ext_is_blue_verified=1&include_ext_verified_type=1&skip_status=1&cards_platform=Web-12&include_cards=1&include_ext_alt_text=true&include_ext_limited_action_results=false&include_quote_count=true&include_reply_count=1&tweet_mode=extended&include_ext_collab_control=true&include_ext_views=true&include_entities=true&include_user_entities=true&include_ext_media_color=true&include_ext_media_availability=true&include_ext_sensitive_media_warning=true&include_ext_trusted_friends_metadata=true&send_error_codes=true&simple_quoted_tweet=true&q=from%3AJUST_KWANDA&tweet_search_mode=live&count=20&query_source=spelling_expansion_revert_click&cursor=scroll%3AthGAVUV0VFVBaCgLftu4P7ih8WgICzqczIwdwtEnEVlJJoFYCJehgHREVGQVVMVDUBFewLFQAA&pc=1&spelling_corrections=1&include_ext_edit_control=true&ext=mediaStats%2ChighlightedLabel%2ChasNftAvatar%2CvoiceInfo%2Cenrichments%2CsuperFollowMetadata%2CunmentionInfo%2CeditControl%2Ccollab_control%2Cvibe: blocked (404)\n",
      "4 requests to https://api.twitter.com/2/search/adaptive.json?include_profile_interstitial_type=1&include_blocking=1&include_blocked_by=1&include_followed_by=1&include_want_retweets=1&include_mute_edge=1&include_can_dm=1&include_can_media_tag=1&include_ext_has_nft_avatar=1&include_ext_is_blue_verified=1&include_ext_verified_type=1&skip_status=1&cards_platform=Web-12&include_cards=1&include_ext_alt_text=true&include_ext_limited_action_results=false&include_quote_count=true&include_reply_count=1&tweet_mode=extended&include_ext_collab_control=true&include_ext_views=true&include_entities=true&include_user_entities=true&include_ext_media_color=true&include_ext_media_availability=true&include_ext_sensitive_media_warning=true&include_ext_trusted_friends_metadata=true&send_error_codes=true&simple_quoted_tweet=true&q=from%3AJUST_KWANDA&tweet_search_mode=live&count=20&query_source=spelling_expansion_revert_click&cursor=scroll%3AthGAVUV0VFVBaCgLftu4P7ih8WgICzqczIwdwtEnEVlJJoFYCJehgHREVGQVVMVDUBFewLFQAA&pc=1&spelling_corrections=1&include_ext_edit_control=true&ext=mediaStats%2ChighlightedLabel%2ChasNftAvatar%2CvoiceInfo%2Cenrichments%2CsuperFollowMetadata%2CunmentionInfo%2CeditControl%2Ccollab_control%2Cvibe failed, giving up.\n",
      "Errors: blocked (404), blocked (404), blocked (404), blocked (404)\n"
     ]
    },
    {
     "ename": "ScraperException",
     "evalue": "4 requests to https://api.twitter.com/2/search/adaptive.json?include_profile_interstitial_type=1&include_blocking=1&include_blocked_by=1&include_followed_by=1&include_want_retweets=1&include_mute_edge=1&include_can_dm=1&include_can_media_tag=1&include_ext_has_nft_avatar=1&include_ext_is_blue_verified=1&include_ext_verified_type=1&skip_status=1&cards_platform=Web-12&include_cards=1&include_ext_alt_text=true&include_ext_limited_action_results=false&include_quote_count=true&include_reply_count=1&tweet_mode=extended&include_ext_collab_control=true&include_ext_views=true&include_entities=true&include_user_entities=true&include_ext_media_color=true&include_ext_media_availability=true&include_ext_sensitive_media_warning=true&include_ext_trusted_friends_metadata=true&send_error_codes=true&simple_quoted_tweet=true&q=from%3AJUST_KWANDA&tweet_search_mode=live&count=20&query_source=spelling_expansion_revert_click&cursor=scroll%3AthGAVUV0VFVBaCgLftu4P7ih8WgICzqczIwdwtEnEVlJJoFYCJehgHREVGQVVMVDUBFewLFQAA&pc=1&spelling_corrections=1&include_ext_edit_control=true&ext=mediaStats%2ChighlightedLabel%2ChasNftAvatar%2CvoiceInfo%2Cenrichments%2CsuperFollowMetadata%2CunmentionInfo%2CeditControl%2Ccollab_control%2Cvibe failed, giving up.",
     "output_type": "error",
     "traceback": [
      "\u001b[1;31m---------------------------------------------------------------------------\u001b[0m",
      "\u001b[1;31mScraperException\u001b[0m                          Traceback (most recent call last)",
      "\u001b[1;32m~\\AppData\\Local\\Temp/ipykernel_8064/2367294059.py\u001b[0m in \u001b[0;36m<module>\u001b[1;34m\u001b[0m\n\u001b[0;32m      7\u001b[0m \u001b[1;33m\u001b[0m\u001b[0m\n\u001b[0;32m      8\u001b[0m     \u001b[1;31m#search for user's data\u001b[0m\u001b[1;33m\u001b[0m\u001b[1;33m\u001b[0m\u001b[0m\n\u001b[1;32m----> 9\u001b[1;33m     \u001b[1;32mfor\u001b[0m \u001b[0mtweet\u001b[0m \u001b[1;32min\u001b[0m \u001b[0msntwitter\u001b[0m\u001b[1;33m.\u001b[0m\u001b[0mTwitterUserScraper\u001b[0m\u001b[1;33m(\u001b[0m\u001b[0mid\u001b[0m\u001b[1;33m)\u001b[0m\u001b[1;33m.\u001b[0m\u001b[0mget_items\u001b[0m\u001b[1;33m(\u001b[0m\u001b[1;33m)\u001b[0m\u001b[1;33m:\u001b[0m\u001b[1;33m\u001b[0m\u001b[1;33m\u001b[0m\u001b[0m\n\u001b[0m\u001b[0;32m     10\u001b[0m         \u001b[0mNonDepressionGroupUserTweet\u001b[0m\u001b[1;33m.\u001b[0m\u001b[0mappend\u001b[0m\u001b[1;33m(\u001b[0m\u001b[1;33m{\u001b[0m\u001b[1;34m\"ActualTweet\"\u001b[0m\u001b[1;33m:\u001b[0m\u001b[0mtweet\u001b[0m\u001b[1;33m.\u001b[0m\u001b[0murl\u001b[0m\u001b[1;33m,\u001b[0m \u001b[1;34m\"DateDepressionReported\"\u001b[0m\u001b[1;33m:\u001b[0m\u001b[0mstr\u001b[0m\u001b[1;33m(\u001b[0m\u001b[0mtweet\u001b[0m\u001b[1;33m.\u001b[0m\u001b[0mdate\u001b[0m\u001b[1;33m.\u001b[0m\u001b[0mday\u001b[0m\u001b[1;33m)\u001b[0m\u001b[1;33m+\u001b[0m\u001b[1;34m\"-\"\u001b[0m\u001b[1;33m+\u001b[0m\u001b[0mstr\u001b[0m\u001b[1;33m(\u001b[0m\u001b[0mtweet\u001b[0m\u001b[1;33m.\u001b[0m\u001b[0mdate\u001b[0m\u001b[1;33m.\u001b[0m\u001b[0mmonth\u001b[0m\u001b[1;33m)\u001b[0m\u001b[1;33m+\u001b[0m\u001b[1;34m\"-\"\u001b[0m\u001b[1;33m+\u001b[0m\u001b[0mstr\u001b[0m\u001b[1;33m(\u001b[0m\u001b[0mtweet\u001b[0m\u001b[1;33m.\u001b[0m\u001b[0mdate\u001b[0m\u001b[1;33m.\u001b[0m\u001b[0myear\u001b[0m\u001b[1;33m)\u001b[0m\u001b[1;33m,\u001b[0m\u001b[1;34m\"TweetContent\"\u001b[0m\u001b[1;33m:\u001b[0m\u001b[0mtweet\u001b[0m\u001b[1;33m.\u001b[0m\u001b[0mrawContent\u001b[0m\u001b[1;33m}\u001b[0m\u001b[1;33m)\u001b[0m\u001b[1;33m\u001b[0m\u001b[1;33m\u001b[0m\u001b[0m\n\u001b[0;32m     11\u001b[0m \u001b[1;33m\u001b[0m\u001b[0m\n",
      "\u001b[1;32m~\\Documents\\Anaconda\\lib\\site-packages\\snscrape\\modules\\twitter.py\u001b[0m in \u001b[0;36mget_items\u001b[1;34m(self)\u001b[0m\n\u001b[0;32m   1753\u001b[0m                         \u001b[0mself\u001b[0m\u001b[1;33m.\u001b[0m\u001b[0m_isUserId\u001b[0m \u001b[1;33m=\u001b[0m \u001b[1;32mFalse\u001b[0m\u001b[1;33m\u001b[0m\u001b[1;33m\u001b[0m\u001b[0m\n\u001b[0;32m   1754\u001b[0m                         \u001b[0mself\u001b[0m\u001b[1;33m.\u001b[0m\u001b[0m_query\u001b[0m \u001b[1;33m=\u001b[0m \u001b[1;34mf'from:{self._user}'\u001b[0m\u001b[1;33m\u001b[0m\u001b[1;33m\u001b[0m\u001b[0m\n\u001b[1;32m-> 1755\u001b[1;33m                 \u001b[1;32myield\u001b[0m \u001b[1;32mfrom\u001b[0m \u001b[0msuper\u001b[0m\u001b[1;33m(\u001b[0m\u001b[1;33m)\u001b[0m\u001b[1;33m.\u001b[0m\u001b[0mget_items\u001b[0m\u001b[1;33m(\u001b[0m\u001b[1;33m)\u001b[0m\u001b[1;33m\u001b[0m\u001b[1;33m\u001b[0m\u001b[0m\n\u001b[0m\u001b[0;32m   1756\u001b[0m \u001b[1;33m\u001b[0m\u001b[0m\n\u001b[0;32m   1757\u001b[0m         \u001b[1;33m@\u001b[0m\u001b[0mstaticmethod\u001b[0m\u001b[1;33m\u001b[0m\u001b[1;33m\u001b[0m\u001b[0m\n",
      "\u001b[1;32m~\\Documents\\Anaconda\\lib\\site-packages\\snscrape\\modules\\twitter.py\u001b[0m in \u001b[0;36mget_items\u001b[1;34m(self)\u001b[0m\n\u001b[0;32m   1659\u001b[0m                 \u001b[1;32mdel\u001b[0m \u001b[0mparams\u001b[0m\u001b[1;33m[\u001b[0m\u001b[1;34m'cursor'\u001b[0m\u001b[1;33m]\u001b[0m\u001b[1;33m\u001b[0m\u001b[1;33m\u001b[0m\u001b[0m\n\u001b[0;32m   1660\u001b[0m \u001b[1;33m\u001b[0m\u001b[0m\n\u001b[1;32m-> 1661\u001b[1;33m                 \u001b[1;32mfor\u001b[0m \u001b[0mobj\u001b[0m \u001b[1;32min\u001b[0m \u001b[0mself\u001b[0m\u001b[1;33m.\u001b[0m\u001b[0m_iter_api_data\u001b[0m\u001b[1;33m(\u001b[0m\u001b[1;34m'https://api.twitter.com/2/search/adaptive.json'\u001b[0m\u001b[1;33m,\u001b[0m \u001b[0m_TwitterAPIType\u001b[0m\u001b[1;33m.\u001b[0m\u001b[0mV2\u001b[0m\u001b[1;33m,\u001b[0m \u001b[0mparams\u001b[0m\u001b[1;33m,\u001b[0m \u001b[0mpaginationParams\u001b[0m\u001b[1;33m,\u001b[0m \u001b[0mcursor\u001b[0m \u001b[1;33m=\u001b[0m \u001b[0mself\u001b[0m\u001b[1;33m.\u001b[0m\u001b[0m_cursor\u001b[0m\u001b[1;33m)\u001b[0m\u001b[1;33m:\u001b[0m\u001b[1;33m\u001b[0m\u001b[1;33m\u001b[0m\u001b[0m\n\u001b[0m\u001b[0;32m   1662\u001b[0m                         \u001b[1;32myield\u001b[0m \u001b[1;32mfrom\u001b[0m \u001b[0mself\u001b[0m\u001b[1;33m.\u001b[0m\u001b[0m_v2_timeline_instructions_to_tweets_or_users\u001b[0m\u001b[1;33m(\u001b[0m\u001b[0mobj\u001b[0m\u001b[1;33m)\u001b[0m\u001b[1;33m\u001b[0m\u001b[1;33m\u001b[0m\u001b[0m\n\u001b[0;32m   1663\u001b[0m \u001b[1;33m\u001b[0m\u001b[0m\n",
      "\u001b[1;32m~\\Documents\\Anaconda\\lib\\site-packages\\snscrape\\modules\\twitter.py\u001b[0m in \u001b[0;36m_iter_api_data\u001b[1;34m(self, endpoint, apiType, params, paginationParams, cursor, direction)\u001b[0m\n\u001b[0;32m    759\u001b[0m                 \u001b[1;32mwhile\u001b[0m \u001b[1;32mTrue\u001b[0m\u001b[1;33m:\u001b[0m\u001b[1;33m\u001b[0m\u001b[1;33m\u001b[0m\u001b[0m\n\u001b[0;32m    760\u001b[0m                         \u001b[0m_logger\u001b[0m\u001b[1;33m.\u001b[0m\u001b[0minfo\u001b[0m\u001b[1;33m(\u001b[0m\u001b[1;34mf'Retrieving scroll page {cursor}'\u001b[0m\u001b[1;33m)\u001b[0m\u001b[1;33m\u001b[0m\u001b[1;33m\u001b[0m\u001b[0m\n\u001b[1;32m--> 761\u001b[1;33m                         \u001b[0mobj\u001b[0m \u001b[1;33m=\u001b[0m \u001b[0mself\u001b[0m\u001b[1;33m.\u001b[0m\u001b[0m_get_api_data\u001b[0m\u001b[1;33m(\u001b[0m\u001b[0mendpoint\u001b[0m\u001b[1;33m,\u001b[0m \u001b[0mapiType\u001b[0m\u001b[1;33m,\u001b[0m \u001b[0mreqParams\u001b[0m\u001b[1;33m)\u001b[0m\u001b[1;33m\u001b[0m\u001b[1;33m\u001b[0m\u001b[0m\n\u001b[0m\u001b[0;32m    762\u001b[0m                         \u001b[1;32myield\u001b[0m \u001b[0mobj\u001b[0m\u001b[1;33m\u001b[0m\u001b[1;33m\u001b[0m\u001b[0m\n\u001b[0;32m    763\u001b[0m \u001b[1;33m\u001b[0m\u001b[0m\n",
      "\u001b[1;32m~\\Documents\\Anaconda\\lib\\site-packages\\snscrape\\modules\\twitter.py\u001b[0m in \u001b[0;36m_get_api_data\u001b[1;34m(self, endpoint, apiType, params)\u001b[0m\n\u001b[0;32m    725\u001b[0m                 \u001b[1;32mif\u001b[0m \u001b[0mapiType\u001b[0m \u001b[1;32mis\u001b[0m \u001b[0m_TwitterAPIType\u001b[0m\u001b[1;33m.\u001b[0m\u001b[0mGRAPHQL\u001b[0m\u001b[1;33m:\u001b[0m\u001b[1;33m\u001b[0m\u001b[1;33m\u001b[0m\u001b[0m\n\u001b[0;32m    726\u001b[0m                         \u001b[0mparams\u001b[0m \u001b[1;33m=\u001b[0m \u001b[0murllib\u001b[0m\u001b[1;33m.\u001b[0m\u001b[0mparse\u001b[0m\u001b[1;33m.\u001b[0m\u001b[0murlencode\u001b[0m\u001b[1;33m(\u001b[0m\u001b[1;33m{\u001b[0m\u001b[0mk\u001b[0m\u001b[1;33m:\u001b[0m \u001b[0mjson\u001b[0m\u001b[1;33m.\u001b[0m\u001b[0mdumps\u001b[0m\u001b[1;33m(\u001b[0m\u001b[0mv\u001b[0m\u001b[1;33m,\u001b[0m \u001b[0mseparators\u001b[0m \u001b[1;33m=\u001b[0m \u001b[1;33m(\u001b[0m\u001b[1;34m','\u001b[0m\u001b[1;33m,\u001b[0m \u001b[1;34m':'\u001b[0m\u001b[1;33m)\u001b[0m\u001b[1;33m)\u001b[0m \u001b[1;32mfor\u001b[0m \u001b[0mk\u001b[0m\u001b[1;33m,\u001b[0m \u001b[0mv\u001b[0m \u001b[1;32min\u001b[0m \u001b[0mparams\u001b[0m\u001b[1;33m.\u001b[0m\u001b[0mitems\u001b[0m\u001b[1;33m(\u001b[0m\u001b[1;33m)\u001b[0m\u001b[1;33m}\u001b[0m\u001b[1;33m,\u001b[0m \u001b[0mquote_via\u001b[0m \u001b[1;33m=\u001b[0m \u001b[0murllib\u001b[0m\u001b[1;33m.\u001b[0m\u001b[0mparse\u001b[0m\u001b[1;33m.\u001b[0m\u001b[0mquote\u001b[0m\u001b[1;33m)\u001b[0m\u001b[1;33m\u001b[0m\u001b[1;33m\u001b[0m\u001b[0m\n\u001b[1;32m--> 727\u001b[1;33m                 \u001b[0mr\u001b[0m \u001b[1;33m=\u001b[0m \u001b[0mself\u001b[0m\u001b[1;33m.\u001b[0m\u001b[0m_get\u001b[0m\u001b[1;33m(\u001b[0m\u001b[0mendpoint\u001b[0m\u001b[1;33m,\u001b[0m \u001b[0mparams\u001b[0m \u001b[1;33m=\u001b[0m \u001b[0mparams\u001b[0m\u001b[1;33m,\u001b[0m \u001b[0mheaders\u001b[0m \u001b[1;33m=\u001b[0m \u001b[0mself\u001b[0m\u001b[1;33m.\u001b[0m\u001b[0m_apiHeaders\u001b[0m\u001b[1;33m,\u001b[0m \u001b[0mresponseOkCallback\u001b[0m \u001b[1;33m=\u001b[0m \u001b[0mself\u001b[0m\u001b[1;33m.\u001b[0m\u001b[0m_check_api_response\u001b[0m\u001b[1;33m)\u001b[0m\u001b[1;33m\u001b[0m\u001b[1;33m\u001b[0m\u001b[0m\n\u001b[0m\u001b[0;32m    728\u001b[0m                 \u001b[1;32mtry\u001b[0m\u001b[1;33m:\u001b[0m\u001b[1;33m\u001b[0m\u001b[1;33m\u001b[0m\u001b[0m\n\u001b[0;32m    729\u001b[0m                         \u001b[0mobj\u001b[0m \u001b[1;33m=\u001b[0m \u001b[0mr\u001b[0m\u001b[1;33m.\u001b[0m\u001b[0mjson\u001b[0m\u001b[1;33m(\u001b[0m\u001b[1;33m)\u001b[0m\u001b[1;33m\u001b[0m\u001b[1;33m\u001b[0m\u001b[0m\n",
      "\u001b[1;32m~\\Documents\\Anaconda\\lib\\site-packages\\snscrape\\base.py\u001b[0m in \u001b[0;36m_get\u001b[1;34m(self, *args, **kwargs)\u001b[0m\n\u001b[0;32m    249\u001b[0m \u001b[1;33m\u001b[0m\u001b[0m\n\u001b[0;32m    250\u001b[0m         \u001b[1;32mdef\u001b[0m \u001b[0m_get\u001b[0m\u001b[1;33m(\u001b[0m\u001b[0mself\u001b[0m\u001b[1;33m,\u001b[0m \u001b[1;33m*\u001b[0m\u001b[0margs\u001b[0m\u001b[1;33m,\u001b[0m \u001b[1;33m**\u001b[0m\u001b[0mkwargs\u001b[0m\u001b[1;33m)\u001b[0m\u001b[1;33m:\u001b[0m\u001b[1;33m\u001b[0m\u001b[1;33m\u001b[0m\u001b[0m\n\u001b[1;32m--> 251\u001b[1;33m                 \u001b[1;32mreturn\u001b[0m \u001b[0mself\u001b[0m\u001b[1;33m.\u001b[0m\u001b[0m_request\u001b[0m\u001b[1;33m(\u001b[0m\u001b[1;34m'GET'\u001b[0m\u001b[1;33m,\u001b[0m \u001b[1;33m*\u001b[0m\u001b[0margs\u001b[0m\u001b[1;33m,\u001b[0m \u001b[1;33m**\u001b[0m\u001b[0mkwargs\u001b[0m\u001b[1;33m)\u001b[0m\u001b[1;33m\u001b[0m\u001b[1;33m\u001b[0m\u001b[0m\n\u001b[0m\u001b[0;32m    252\u001b[0m \u001b[1;33m\u001b[0m\u001b[0m\n\u001b[0;32m    253\u001b[0m         \u001b[1;32mdef\u001b[0m \u001b[0m_post\u001b[0m\u001b[1;33m(\u001b[0m\u001b[0mself\u001b[0m\u001b[1;33m,\u001b[0m \u001b[1;33m*\u001b[0m\u001b[0margs\u001b[0m\u001b[1;33m,\u001b[0m \u001b[1;33m**\u001b[0m\u001b[0mkwargs\u001b[0m\u001b[1;33m)\u001b[0m\u001b[1;33m:\u001b[0m\u001b[1;33m\u001b[0m\u001b[1;33m\u001b[0m\u001b[0m\n",
      "\u001b[1;32m~\\Documents\\Anaconda\\lib\\site-packages\\snscrape\\base.py\u001b[0m in \u001b[0;36m_request\u001b[1;34m(self, method, url, params, data, headers, timeout, responseOkCallback, allowRedirects, proxies)\u001b[0m\n\u001b[0;32m    245\u001b[0m                         \u001b[0m_logger\u001b[0m\u001b[1;33m.\u001b[0m\u001b[0mfatal\u001b[0m\u001b[1;33m(\u001b[0m\u001b[0mmsg\u001b[0m\u001b[1;33m)\u001b[0m\u001b[1;33m\u001b[0m\u001b[1;33m\u001b[0m\u001b[0m\n\u001b[0;32m    246\u001b[0m                         \u001b[0m_logger\u001b[0m\u001b[1;33m.\u001b[0m\u001b[0mfatal\u001b[0m\u001b[1;33m(\u001b[0m\u001b[1;34mf'Errors: {\", \".join(errors)}'\u001b[0m\u001b[1;33m)\u001b[0m\u001b[1;33m\u001b[0m\u001b[1;33m\u001b[0m\u001b[0m\n\u001b[1;32m--> 247\u001b[1;33m                         \u001b[1;32mraise\u001b[0m \u001b[0mScraperException\u001b[0m\u001b[1;33m(\u001b[0m\u001b[0mmsg\u001b[0m\u001b[1;33m)\u001b[0m\u001b[1;33m\u001b[0m\u001b[1;33m\u001b[0m\u001b[0m\n\u001b[0m\u001b[0;32m    248\u001b[0m                 \u001b[1;32mraise\u001b[0m \u001b[0mRuntimeError\u001b[0m\u001b[1;33m(\u001b[0m\u001b[1;34m'Reached unreachable code'\u001b[0m\u001b[1;33m)\u001b[0m\u001b[1;33m\u001b[0m\u001b[1;33m\u001b[0m\u001b[0m\n\u001b[0;32m    249\u001b[0m \u001b[1;33m\u001b[0m\u001b[0m\n",
      "\u001b[1;31mScraperException\u001b[0m: 4 requests to https://api.twitter.com/2/search/adaptive.json?include_profile_interstitial_type=1&include_blocking=1&include_blocked_by=1&include_followed_by=1&include_want_retweets=1&include_mute_edge=1&include_can_dm=1&include_can_media_tag=1&include_ext_has_nft_avatar=1&include_ext_is_blue_verified=1&include_ext_verified_type=1&skip_status=1&cards_platform=Web-12&include_cards=1&include_ext_alt_text=true&include_ext_limited_action_results=false&include_quote_count=true&include_reply_count=1&tweet_mode=extended&include_ext_collab_control=true&include_ext_views=true&include_entities=true&include_user_entities=true&include_ext_media_color=true&include_ext_media_availability=true&include_ext_sensitive_media_warning=true&include_ext_trusted_friends_metadata=true&send_error_codes=true&simple_quoted_tweet=true&q=from%3AJUST_KWANDA&tweet_search_mode=live&count=20&query_source=spelling_expansion_revert_click&cursor=scroll%3AthGAVUV0VFVBaCgLftu4P7ih8WgICzqczIwdwtEnEVlJJoFYCJehgHREVGQVVMVDUBFewLFQAA&pc=1&spelling_corrections=1&include_ext_edit_control=true&ext=mediaStats%2ChighlightedLabel%2ChasNftAvatar%2CvoiceInfo%2Cenrichments%2CsuperFollowMetadata%2CunmentionInfo%2CeditControl%2Ccollab_control%2Cvibe failed, giving up."
     ]
    }
   ],
   "source": [
    "TwitterId_Replace = TwitterId[10:100]\n",
    "\n",
    "\n",
    "for index,id in enumerate(TwitterId_Replace):\n",
    "    \n",
    "    NonDepressionGroupUserTweet = []\n",
    "\n",
    "    #search for user's data\n",
    "    for tweet in sntwitter.TwitterUserScraper(id).get_items():\n",
    "        NonDepressionGroupUserTweet.append({\"ActualTweet\":tweet.url, \"DateDepressionReported\":str(tweet.date.day)+\"-\"+str(tweet.date.month)+\"-\"+str(tweet.date.year),\"TweetContent\":tweet.rawContent})\n",
    "    \n",
    "    \n",
    "    NonDepressionGroupUserTweet_df = pd.DataFrame(NonDepressionGroupUserTweet, columns=[\"ActualTweet\", \"DateDepressionReported\",\"TweetContent\"])\n",
    "    UserTweetFileName = \"NDG_of_\" + str(index+10) + \"_\" + id +\".csv\"   \n",
    "    NonDepressionGroupUserTweet_df.to_csv(UserTweetFileName,index=False)  \n",
    "    print(\"---Done \"+ UserTweetFileName +\"---\")"
   ]
  },
  {
   "cell_type": "code",
   "execution_count": null,
   "id": "3b11d05f",
   "metadata": {},
   "outputs": [
    {
     "name": "stdout",
     "output_type": "stream",
     "text": [
      "---Done NDG_of_36_JUST_KWANDA.csv---\n",
      "---Done NDG_of_37_WhoPotterVian.csv---\n",
      "---Done NDG_of_38_grealyeo.csv---\n",
      "---Done NDG_of_39_melafela.csv---\n",
      "---Done NDG_of_40_loverboybot.csv---\n",
      "---Done NDG_of_41_JSchuks.csv---\n",
      "---Done NDG_of_42_SaiyaNull.csv---\n",
      "---Done NDG_of_43_tslyricb0t.csv---\n",
      "---Done NDG_of_44_tpwk4eva112302.csv---\n",
      "---Done NDG_of_45_Shugharbeautye1.csv---\n",
      "---Done NDG_of_46_doIlbehavior.csv---\n"
     ]
    }
   ],
   "source": [
    "TwitterId_Replace = TwitterId[36:100]\n",
    "\n",
    "\n",
    "for index,id in enumerate(TwitterId_Replace):\n",
    "    \n",
    "    NonDepressionGroupUserTweet = []\n",
    "\n",
    "    #search for user's data\n",
    "    for tweet in sntwitter.TwitterUserScraper(id).get_items():\n",
    "        NonDepressionGroupUserTweet.append({\"ActualTweet\":tweet.url, \"DateDepressionReported\":str(tweet.date.day)+\"-\"+str(tweet.date.month)+\"-\"+str(tweet.date.year),\"TweetContent\":tweet.rawContent})\n",
    "    \n",
    "    \n",
    "    NonDepressionGroupUserTweet_df = pd.DataFrame(NonDepressionGroupUserTweet, columns=[\"ActualTweet\", \"DateDepressionReported\",\"TweetContent\"])\n",
    "    UserTweetFileName = \"NDG_of_\" + str(index+36) + \"_\" + id +\".csv\"   \n",
    "    NonDepressionGroupUserTweet_df.to_csv(UserTweetFileName,index=False)  \n",
    "    print(\"---Done \"+ UserTweetFileName +\"---\")"
   ]
  },
  {
   "cell_type": "markdown",
   "id": "67aa3579",
   "metadata": {},
   "source": [
    "THE"
   ]
  },
  {
   "cell_type": "code",
   "execution_count": null,
   "id": "60cba24c",
   "metadata": {},
   "outputs": [
    {
     "name": "stdout",
     "output_type": "stream",
     "text": [
      "---Done NDG_the_10_LiveRocks1.csv---\n",
      "---Done NDG_the_11_sdfifty2.csv---\n",
      "---Done NDG_the_12_p3psidadbod.csv---\n",
      "---Done NDG_the_13_TAN1AAA.csv---\n",
      "---Done NDG_the_14_WCVB.csv---\n",
      "---Done NDG_the_15_Joslynm.csv---\n",
      "---Done NDG_the_16_KoyiguriKumar.csv---\n",
      "---Done NDG_the_17_owil71.csv---\n",
      "---Done NDG_the_18_Boredandtiredok.csv---\n",
      "---Done NDG_the_19_Rajeshw91787904.csv---\n",
      "---Done NDG_the_20_scrump_1.csv---\n",
      "---Done NDG_the_21_glasneronfilm.csv---\n"
     ]
    }
   ],
   "source": [
    "TwitterId_Replace = TwitterId[10:100]\n",
    "\n",
    "\n",
    "for index,id in enumerate(TwitterId_Replace):\n",
    "    \n",
    "    NonDepressionGroupUserTweet = []\n",
    "\n",
    "    #search for user's data\n",
    "    for tweet in sntwitter.TwitterUserScraper(id).get_items():\n",
    "        NonDepressionGroupUserTweet.append({\"ActualTweet\":tweet.url, \"DateDepressionReported\":str(tweet.date.day)+\"-\"+str(tweet.date.month)+\"-\"+str(tweet.date.year),\"TweetContent\":tweet.rawContent})\n",
    "    \n",
    "    \n",
    "    NonDepressionGroupUserTweet_df = pd.DataFrame(NonDepressionGroupUserTweet, columns=[\"ActualTweet\", \"DateDepressionReported\",\"TweetContent\"])\n",
    "    UserTweetFileName = \"NDG_the_\" + str(index+10) + \"_\" + id +\".csv\"   \n",
    "    NonDepressionGroupUserTweet_df.to_csv(UserTweetFileName,index=False)  \n",
    "    print(\"---Done \"+ UserTweetFileName +\"---\")"
   ]
  },
  {
   "cell_type": "code",
   "execution_count": null,
   "id": "64e0bce2",
   "metadata": {},
   "outputs": [
    {
     "name": "stdout",
     "output_type": "stream",
     "text": [
      "---Done NDG_the_22_DVDJXX.csv---\n",
      "---Done NDG_the_23_Grigthrall.csv---\n",
      "---Done NDG_the_24_kelli_linn15.csv---\n"
     ]
    }
   ],
   "source": [
    "TwitterId_Replace = TwitterId[22:100]\n",
    "\n",
    "\n",
    "for index,id in enumerate(TwitterId_Replace):\n",
    "    \n",
    "    NonDepressionGroupUserTweet = []\n",
    "\n",
    "    #search for user's data\n",
    "    for tweet in sntwitter.TwitterUserScraper(id).get_items():\n",
    "        NonDepressionGroupUserTweet.append({\"ActualTweet\":tweet.url, \"DateDepressionReported\":str(tweet.date.day)+\"-\"+str(tweet.date.month)+\"-\"+str(tweet.date.year),\"TweetContent\":tweet.rawContent})\n",
    "    \n",
    "    \n",
    "    NonDepressionGroupUserTweet_df = pd.DataFrame(NonDepressionGroupUserTweet, columns=[\"ActualTweet\", \"DateDepressionReported\",\"TweetContent\"])\n",
    "    UserTweetFileName = \"NDG_the_\" + str(index+22) + \"_\" + id +\".csv\"   \n",
    "    NonDepressionGroupUserTweet_df.to_csv(UserTweetFileName,index=False)  \n",
    "    print(\"---Done \"+ UserTweetFileName +\"---\")"
   ]
  },
  {
   "cell_type": "code",
   "execution_count": null,
   "id": "fdb56788",
   "metadata": {},
   "outputs": [
    {
     "name": "stdout",
     "output_type": "stream",
     "text": [
      "---Done NDG_the_25_WERANowPlaying.csv---\n",
      "---Done NDG_the_26_hofmeyr_.csv---\n",
      "---Done NDG_the_27_spiritandseoul.csv---\n",
      "---Done NDG_the_28_exfundyfeminist.csv---\n",
      "---Done NDG_the_29_joedawson.csv---\n"
     ]
    },
    {
     "name": "stderr",
     "output_type": "stream",
     "text": [
      "Tweet 1493886141338062851 contains an app icon medium key '4_1648018826800275467' on app 'android_app'/'com.zhiliaoapp.musically', but the corresponding medium is missing; dropping\n"
     ]
    },
    {
     "name": "stdout",
     "output_type": "stream",
     "text": [
      "---Done NDG_the_30_alannalaprima.csv---\n",
      "---Done NDG_the_31__pizzahutbuffet.csv---\n",
      "---Done NDG_the_32_Trabeees.csv---\n"
     ]
    }
   ],
   "source": [
    "TwitterId_Replace = TwitterId[25:100]\n",
    "\n",
    "\n",
    "for index,id in enumerate(TwitterId_Replace):\n",
    "    \n",
    "    NonDepressionGroupUserTweet = []\n",
    "\n",
    "    #search for user's data\n",
    "    for tweet in sntwitter.TwitterUserScraper(id).get_items():\n",
    "        NonDepressionGroupUserTweet.append({\"ActualTweet\":tweet.url, \"DateDepressionReported\":str(tweet.date.day)+\"-\"+str(tweet.date.month)+\"-\"+str(tweet.date.year),\"TweetContent\":tweet.rawContent})\n",
    "    \n",
    "    \n",
    "    NonDepressionGroupUserTweet_df = pd.DataFrame(NonDepressionGroupUserTweet, columns=[\"ActualTweet\", \"DateDepressionReported\",\"TweetContent\"])\n",
    "    UserTweetFileName = \"NDG_the_\" + str(index+25) + \"_\" + id +\".csv\"   \n",
    "    NonDepressionGroupUserTweet_df.to_csv(UserTweetFileName,index=False)  \n",
    "    print(\"---Done \"+ UserTweetFileName +\"---\")"
   ]
  },
  {
   "cell_type": "code",
   "execution_count": null,
   "id": "b2c1df0f",
   "metadata": {},
   "outputs": [
    {
     "name": "stdout",
     "output_type": "stream",
     "text": [
      "---Done NDG_the_33_paoacflores.csv---\n",
      "---Done NDG_the_34_rhiannonkatrin.csv---\n",
      "---Done NDG_the_35_WillHollon14.csv---\n",
      "---Done NDG_the_36_TheSopranbro.csv---\n",
      "---Done NDG_the_37_allmurf.csv---\n",
      "---Done NDG_the_38_IDKWhatPut_.csv---\n",
      "---Done NDG_the_39_FreedomFinLB.csv---\n",
      "---Done NDG_the_40_bowtiedkobra.csv---\n",
      "---Done NDG_the_41_abragailb.csv---\n",
      "---Done NDG_the_42_Paddy_Stash.csv---\n",
      "---Done NDG_the_43_FloydGonda.csv---\n",
      "---Done NDG_the_44_GMhysterix.csv---\n",
      "---Done NDG_the_45_polksaladcinema.csv---\n",
      "---Done NDG_the_46_depechebigmood.csv---\n",
      "---Done NDG_the_47_BL00DANDEMPIRE.csv---\n",
      "---Done NDG_the_48_IAmSkweetis.csv---\n",
      "---Done NDG_the_49_itsnathrdzz.csv---\n",
      "---Done NDG_the_50_AmandaSteinbru1.csv---\n",
      "---Done NDG_the_51__TheBenn.csv---\n",
      "---Done NDG_the_52_TKDisco8.csv---\n",
      "---Done NDG_the_53_TheCineBoiz.csv---\n",
      "---Done NDG_the_54_Boss3366.csv---\n"
     ]
    },
    {
     "name": "stderr",
     "output_type": "stream",
     "text": [
      "Tweet 1604636740362256384 contains an app icon medium key '4_1648552066942488576' on app 'android_app'/'com.aniplex.twst.en', but the corresponding medium is missing; dropping\n",
      "Tweet 1604636740362256384 contains an app icon medium key '4_1648535749422202884' on app 'iphone_app'/'1578628213', but the corresponding medium is missing; dropping\n",
      "Tweet 1604636740362256384 contains an app icon medium key '4_1648535749422202884' on app 'ipad_app'/'1578628213', but the corresponding medium is missing; dropping\n"
     ]
    },
    {
     "name": "stdout",
     "output_type": "stream",
     "text": [
      "---Done NDG_the_55_fairlyoddoddly.csv---\n",
      "---Done NDG_the_56_nflstreamtv89.csv---\n",
      "---Done NDG_the_57_bloddy_snow.csv---\n"
     ]
    },
    {
     "name": "stderr",
     "output_type": "stream",
     "text": [
      "Tweet 1358271648659431424 contains an app icon medium key '4_1648327746932682757' on app 'android_app'/'com.topgamesinc.zeus', but the corresponding medium is missing; dropping\n",
      "Tweet 1179044371481714688 contains an app icon medium key '4_1648403700962975752' on app 'iphone_app'/'1052238659', but the corresponding medium is missing; dropping\n",
      "Tweet 1179044371481714688 contains an app icon medium key '4_1648538251349708801' on app 'android_app'/'co.uk.getmondo', but the corresponding medium is missing; dropping\n",
      "Tweet 1179044371481714688 contains an app icon medium key '4_1648403700962975752' on app 'ipad_app'/'1052238659', but the corresponding medium is missing; dropping\n"
     ]
    },
    {
     "name": "stdout",
     "output_type": "stream",
     "text": [
      "---Done NDG_the_58_JAMvsJAM.csv---\n",
      "---Done NDG_the_59_EvilAriLennox.csv---\n",
      "---Done NDG_the_60_7errenceli.csv---\n",
      "---Done NDG_the_61_1Mexico5.csv---\n",
      "---Done NDG_the_62_canenocandy.csv---\n",
      "---Done NDG_the_63_ReavesTheGoat.csv---\n",
      "---Done NDG_the_64_watermeIonsvgar.csv---\n",
      "---Done NDG_the_65_danyialashunn_.csv---\n",
      "---Done NDG_the_66_godisaduda.csv---\n",
      "---Done NDG_the_67_mirohpink.csv---\n",
      "---Done NDG_the_68_alltherowbots.csv---\n",
      "---Done NDG_the_69_sakurablossomx2.csv---\n"
     ]
    }
   ],
   "source": [
    "TwitterId_Replace = TwitterId[33:100]\n",
    "\n",
    "\n",
    "for index,id in enumerate(TwitterId_Replace):\n",
    "    \n",
    "    NonDepressionGroupUserTweet = []\n",
    "\n",
    "    #search for user's data\n",
    "    for tweet in sntwitter.TwitterUserScraper(id).get_items():\n",
    "        NonDepressionGroupUserTweet.append({\"ActualTweet\":tweet.url, \"DateDepressionReported\":str(tweet.date.day)+\"-\"+str(tweet.date.month)+\"-\"+str(tweet.date.year),\"TweetContent\":tweet.rawContent})\n",
    "    \n",
    "    \n",
    "    NonDepressionGroupUserTweet_df = pd.DataFrame(NonDepressionGroupUserTweet, columns=[\"ActualTweet\", \"DateDepressionReported\",\"TweetContent\"])\n",
    "    UserTweetFileName = \"NDG_the_\" + str(index+33) + \"_\" + id +\".csv\"   \n",
    "    NonDepressionGroupUserTweet_df.to_csv(UserTweetFileName,index=False)  \n",
    "    print(\"---Done \"+ UserTweetFileName +\"---\")"
   ]
  },
  {
   "cell_type": "markdown",
   "id": "ce8d38fa",
   "metadata": {},
   "source": [
    "TO"
   ]
  },
  {
   "cell_type": "code",
   "execution_count": 2,
   "id": "265cab70",
   "metadata": {},
   "outputs": [
    {
     "name": "stdout",
     "output_type": "stream",
     "text": [
      "---Done NDG_to_10_whoissegun.csv---\n",
      "---Done NDG_to_11_devon_nrg.csv---\n",
      "---Done NDG_to_12_Harley_Karley.csv---\n",
      "---Done NDG_to_13_themeteor.csv---\n",
      "---Done NDG_to_14_JithinJohn_98.csv---\n",
      "---Done NDG_to_15_DASH_Skating.csv---\n",
      "---Done NDG_to_16_AimsDigitalNet.csv---\n",
      "---Done NDG_to_17_yifasurd.csv---\n",
      "---Done NDG_to_18_huja331.csv---\n",
      "---Done NDG_to_19__Otienolizz.csv---\n",
      "---Done NDG_to_20_itohanspace.csv---\n",
      "---Done NDG_to_21_maliacrider.csv---\n",
      "---Done NDG_to_22_gleaningway.csv---\n",
      "---Done NDG_to_23_kitsch444.csv---\n",
      "---Done NDG_to_24_baynegibby.csv---\n",
      "---Done NDG_to_25_lserver362.csv---\n",
      "---Done NDG_to_26_CryptUwU.csv---\n",
      "---Done NDG_to_27_ChrishantiniAn2.csv---\n",
      "---Done NDG_to_28_sapphic_ship.csv---\n",
      "---Done NDG_to_29_betheevo.csv---\n",
      "---Done NDG_to_30_Billando.csv---\n",
      "---Done NDG_to_31_ThatProgrammer.csv---\n",
      "---Done NDG_to_32_maeisafraid.csv---\n",
      "---Done NDG_to_33_Tonicky123.csv---\n",
      "---Done NDG_to_34_IHindirapuram.csv---\n",
      "---Done NDG_to_35_dpyo_.csv---\n",
      "---Done NDG_to_36_Rohit_Bond007.csv---\n",
      "---Done NDG_to_37_summerelaine.csv---\n"
     ]
    },
    {
     "name": "stderr",
     "output_type": "stream",
     "text": [
      "Error retrieving https://api.twitter.com/2/search/adaptive.json?include_profile_interstitial_type=1&include_blocking=1&include_blocked_by=1&include_followed_by=1&include_want_retweets=1&include_mute_edge=1&include_can_dm=1&include_can_media_tag=1&include_ext_has_nft_avatar=1&include_ext_is_blue_verified=1&include_ext_verified_type=1&skip_status=1&cards_platform=Web-12&include_cards=1&include_ext_alt_text=true&include_ext_limited_action_results=false&include_quote_count=true&include_reply_count=1&tweet_mode=extended&include_ext_collab_control=true&include_ext_views=true&include_entities=true&include_user_entities=true&include_ext_media_color=true&include_ext_media_availability=true&include_ext_sensitive_media_warning=true&include_ext_trusted_friends_metadata=true&send_error_codes=true&simple_quoted_tweet=true&q=from%3AJoonLuvrXD&tweet_search_mode=live&count=20&query_source=spelling_expansion_revert_click&cursor=scroll%3AthGAVUV0VFVBaAwLi5yYGwsioWgoCxqYPlhuItEnEVgJlzFYCJehgNREVHUkFERURfTU9ERTUBFbQEFQAA&pc=1&spelling_corrections=1&include_ext_edit_control=true&ext=mediaStats%2ChighlightedLabel%2ChasNftAvatar%2CvoiceInfo%2Cenrichments%2CsuperFollowMetadata%2CunmentionInfo%2CeditControl%2Ccollab_control%2Cvibe: non-200 status code (401)\n",
      "4 requests to https://api.twitter.com/2/search/adaptive.json?include_profile_interstitial_type=1&include_blocking=1&include_blocked_by=1&include_followed_by=1&include_want_retweets=1&include_mute_edge=1&include_can_dm=1&include_can_media_tag=1&include_ext_has_nft_avatar=1&include_ext_is_blue_verified=1&include_ext_verified_type=1&skip_status=1&cards_platform=Web-12&include_cards=1&include_ext_alt_text=true&include_ext_limited_action_results=false&include_quote_count=true&include_reply_count=1&tweet_mode=extended&include_ext_collab_control=true&include_ext_views=true&include_entities=true&include_user_entities=true&include_ext_media_color=true&include_ext_media_availability=true&include_ext_sensitive_media_warning=true&include_ext_trusted_friends_metadata=true&send_error_codes=true&simple_quoted_tweet=true&q=from%3AJoonLuvrXD&tweet_search_mode=live&count=20&query_source=spelling_expansion_revert_click&cursor=scroll%3AthGAVUV0VFVBaAwLi5yYGwsioWgoCxqYPlhuItEnEVgJlzFYCJehgNREVHUkFERURfTU9ERTUBFbQEFQAA&pc=1&spelling_corrections=1&include_ext_edit_control=true&ext=mediaStats%2ChighlightedLabel%2ChasNftAvatar%2CvoiceInfo%2Cenrichments%2CsuperFollowMetadata%2CunmentionInfo%2CeditControl%2Ccollab_control%2Cvibe failed, giving up.\n",
      "Errors: non-200 status code (401), non-200 status code (401), non-200 status code (401), non-200 status code (401)\n"
     ]
    },
    {
     "ename": "ScraperException",
     "evalue": "4 requests to https://api.twitter.com/2/search/adaptive.json?include_profile_interstitial_type=1&include_blocking=1&include_blocked_by=1&include_followed_by=1&include_want_retweets=1&include_mute_edge=1&include_can_dm=1&include_can_media_tag=1&include_ext_has_nft_avatar=1&include_ext_is_blue_verified=1&include_ext_verified_type=1&skip_status=1&cards_platform=Web-12&include_cards=1&include_ext_alt_text=true&include_ext_limited_action_results=false&include_quote_count=true&include_reply_count=1&tweet_mode=extended&include_ext_collab_control=true&include_ext_views=true&include_entities=true&include_user_entities=true&include_ext_media_color=true&include_ext_media_availability=true&include_ext_sensitive_media_warning=true&include_ext_trusted_friends_metadata=true&send_error_codes=true&simple_quoted_tweet=true&q=from%3AJoonLuvrXD&tweet_search_mode=live&count=20&query_source=spelling_expansion_revert_click&cursor=scroll%3AthGAVUV0VFVBaAwLi5yYGwsioWgoCxqYPlhuItEnEVgJlzFYCJehgNREVHUkFERURfTU9ERTUBFbQEFQAA&pc=1&spelling_corrections=1&include_ext_edit_control=true&ext=mediaStats%2ChighlightedLabel%2ChasNftAvatar%2CvoiceInfo%2Cenrichments%2CsuperFollowMetadata%2CunmentionInfo%2CeditControl%2Ccollab_control%2Cvibe failed, giving up.",
     "output_type": "error",
     "traceback": [
      "\u001b[1;31m---------------------------------------------------------------------------\u001b[0m",
      "\u001b[1;31mScraperException\u001b[0m                          Traceback (most recent call last)",
      "\u001b[1;32m~\\AppData\\Local\\Temp/ipykernel_4868/3530522349.py\u001b[0m in \u001b[0;36m<module>\u001b[1;34m\u001b[0m\n\u001b[0;32m      7\u001b[0m \u001b[1;33m\u001b[0m\u001b[0m\n\u001b[0;32m      8\u001b[0m     \u001b[1;31m#search for user's data\u001b[0m\u001b[1;33m\u001b[0m\u001b[1;33m\u001b[0m\u001b[0m\n\u001b[1;32m----> 9\u001b[1;33m     \u001b[1;32mfor\u001b[0m \u001b[0mtweet\u001b[0m \u001b[1;32min\u001b[0m \u001b[0msntwitter\u001b[0m\u001b[1;33m.\u001b[0m\u001b[0mTwitterUserScraper\u001b[0m\u001b[1;33m(\u001b[0m\u001b[0mid\u001b[0m\u001b[1;33m)\u001b[0m\u001b[1;33m.\u001b[0m\u001b[0mget_items\u001b[0m\u001b[1;33m(\u001b[0m\u001b[1;33m)\u001b[0m\u001b[1;33m:\u001b[0m\u001b[1;33m\u001b[0m\u001b[1;33m\u001b[0m\u001b[0m\n\u001b[0m\u001b[0;32m     10\u001b[0m         \u001b[0mNonDepressionGroupUserTweet\u001b[0m\u001b[1;33m.\u001b[0m\u001b[0mappend\u001b[0m\u001b[1;33m(\u001b[0m\u001b[1;33m{\u001b[0m\u001b[1;34m\"ActualTweet\"\u001b[0m\u001b[1;33m:\u001b[0m\u001b[0mtweet\u001b[0m\u001b[1;33m.\u001b[0m\u001b[0murl\u001b[0m\u001b[1;33m,\u001b[0m \u001b[1;34m\"DateDepressionReported\"\u001b[0m\u001b[1;33m:\u001b[0m\u001b[0mstr\u001b[0m\u001b[1;33m(\u001b[0m\u001b[0mtweet\u001b[0m\u001b[1;33m.\u001b[0m\u001b[0mdate\u001b[0m\u001b[1;33m.\u001b[0m\u001b[0mday\u001b[0m\u001b[1;33m)\u001b[0m\u001b[1;33m+\u001b[0m\u001b[1;34m\"-\"\u001b[0m\u001b[1;33m+\u001b[0m\u001b[0mstr\u001b[0m\u001b[1;33m(\u001b[0m\u001b[0mtweet\u001b[0m\u001b[1;33m.\u001b[0m\u001b[0mdate\u001b[0m\u001b[1;33m.\u001b[0m\u001b[0mmonth\u001b[0m\u001b[1;33m)\u001b[0m\u001b[1;33m+\u001b[0m\u001b[1;34m\"-\"\u001b[0m\u001b[1;33m+\u001b[0m\u001b[0mstr\u001b[0m\u001b[1;33m(\u001b[0m\u001b[0mtweet\u001b[0m\u001b[1;33m.\u001b[0m\u001b[0mdate\u001b[0m\u001b[1;33m.\u001b[0m\u001b[0myear\u001b[0m\u001b[1;33m)\u001b[0m\u001b[1;33m,\u001b[0m\u001b[1;34m\"TweetContent\"\u001b[0m\u001b[1;33m:\u001b[0m\u001b[0mtweet\u001b[0m\u001b[1;33m.\u001b[0m\u001b[0mrawContent\u001b[0m\u001b[1;33m}\u001b[0m\u001b[1;33m)\u001b[0m\u001b[1;33m\u001b[0m\u001b[1;33m\u001b[0m\u001b[0m\n\u001b[0;32m     11\u001b[0m \u001b[1;33m\u001b[0m\u001b[0m\n",
      "\u001b[1;32m~\\Documents\\Anaconda\\lib\\site-packages\\snscrape\\modules\\twitter.py\u001b[0m in \u001b[0;36mget_items\u001b[1;34m(self)\u001b[0m\n\u001b[0;32m   1753\u001b[0m                         \u001b[0mself\u001b[0m\u001b[1;33m.\u001b[0m\u001b[0m_isUserId\u001b[0m \u001b[1;33m=\u001b[0m \u001b[1;32mFalse\u001b[0m\u001b[1;33m\u001b[0m\u001b[1;33m\u001b[0m\u001b[0m\n\u001b[0;32m   1754\u001b[0m                         \u001b[0mself\u001b[0m\u001b[1;33m.\u001b[0m\u001b[0m_query\u001b[0m \u001b[1;33m=\u001b[0m \u001b[1;34mf'from:{self._user}'\u001b[0m\u001b[1;33m\u001b[0m\u001b[1;33m\u001b[0m\u001b[0m\n\u001b[1;32m-> 1755\u001b[1;33m                 \u001b[1;32myield\u001b[0m \u001b[1;32mfrom\u001b[0m \u001b[0msuper\u001b[0m\u001b[1;33m(\u001b[0m\u001b[1;33m)\u001b[0m\u001b[1;33m.\u001b[0m\u001b[0mget_items\u001b[0m\u001b[1;33m(\u001b[0m\u001b[1;33m)\u001b[0m\u001b[1;33m\u001b[0m\u001b[1;33m\u001b[0m\u001b[0m\n\u001b[0m\u001b[0;32m   1756\u001b[0m \u001b[1;33m\u001b[0m\u001b[0m\n\u001b[0;32m   1757\u001b[0m         \u001b[1;33m@\u001b[0m\u001b[0mstaticmethod\u001b[0m\u001b[1;33m\u001b[0m\u001b[1;33m\u001b[0m\u001b[0m\n",
      "\u001b[1;32m~\\Documents\\Anaconda\\lib\\site-packages\\snscrape\\modules\\twitter.py\u001b[0m in \u001b[0;36mget_items\u001b[1;34m(self)\u001b[0m\n\u001b[0;32m   1659\u001b[0m                 \u001b[1;32mdel\u001b[0m \u001b[0mparams\u001b[0m\u001b[1;33m[\u001b[0m\u001b[1;34m'cursor'\u001b[0m\u001b[1;33m]\u001b[0m\u001b[1;33m\u001b[0m\u001b[1;33m\u001b[0m\u001b[0m\n\u001b[0;32m   1660\u001b[0m \u001b[1;33m\u001b[0m\u001b[0m\n\u001b[1;32m-> 1661\u001b[1;33m                 \u001b[1;32mfor\u001b[0m \u001b[0mobj\u001b[0m \u001b[1;32min\u001b[0m \u001b[0mself\u001b[0m\u001b[1;33m.\u001b[0m\u001b[0m_iter_api_data\u001b[0m\u001b[1;33m(\u001b[0m\u001b[1;34m'https://api.twitter.com/2/search/adaptive.json'\u001b[0m\u001b[1;33m,\u001b[0m \u001b[0m_TwitterAPIType\u001b[0m\u001b[1;33m.\u001b[0m\u001b[0mV2\u001b[0m\u001b[1;33m,\u001b[0m \u001b[0mparams\u001b[0m\u001b[1;33m,\u001b[0m \u001b[0mpaginationParams\u001b[0m\u001b[1;33m,\u001b[0m \u001b[0mcursor\u001b[0m \u001b[1;33m=\u001b[0m \u001b[0mself\u001b[0m\u001b[1;33m.\u001b[0m\u001b[0m_cursor\u001b[0m\u001b[1;33m)\u001b[0m\u001b[1;33m:\u001b[0m\u001b[1;33m\u001b[0m\u001b[1;33m\u001b[0m\u001b[0m\n\u001b[0m\u001b[0;32m   1662\u001b[0m                         \u001b[1;32myield\u001b[0m \u001b[1;32mfrom\u001b[0m \u001b[0mself\u001b[0m\u001b[1;33m.\u001b[0m\u001b[0m_v2_timeline_instructions_to_tweets_or_users\u001b[0m\u001b[1;33m(\u001b[0m\u001b[0mobj\u001b[0m\u001b[1;33m)\u001b[0m\u001b[1;33m\u001b[0m\u001b[1;33m\u001b[0m\u001b[0m\n\u001b[0;32m   1663\u001b[0m \u001b[1;33m\u001b[0m\u001b[0m\n",
      "\u001b[1;32m~\\Documents\\Anaconda\\lib\\site-packages\\snscrape\\modules\\twitter.py\u001b[0m in \u001b[0;36m_iter_api_data\u001b[1;34m(self, endpoint, apiType, params, paginationParams, cursor, direction)\u001b[0m\n\u001b[0;32m    759\u001b[0m                 \u001b[1;32mwhile\u001b[0m \u001b[1;32mTrue\u001b[0m\u001b[1;33m:\u001b[0m\u001b[1;33m\u001b[0m\u001b[1;33m\u001b[0m\u001b[0m\n\u001b[0;32m    760\u001b[0m                         \u001b[0m_logger\u001b[0m\u001b[1;33m.\u001b[0m\u001b[0minfo\u001b[0m\u001b[1;33m(\u001b[0m\u001b[1;34mf'Retrieving scroll page {cursor}'\u001b[0m\u001b[1;33m)\u001b[0m\u001b[1;33m\u001b[0m\u001b[1;33m\u001b[0m\u001b[0m\n\u001b[1;32m--> 761\u001b[1;33m                         \u001b[0mobj\u001b[0m \u001b[1;33m=\u001b[0m \u001b[0mself\u001b[0m\u001b[1;33m.\u001b[0m\u001b[0m_get_api_data\u001b[0m\u001b[1;33m(\u001b[0m\u001b[0mendpoint\u001b[0m\u001b[1;33m,\u001b[0m \u001b[0mapiType\u001b[0m\u001b[1;33m,\u001b[0m \u001b[0mreqParams\u001b[0m\u001b[1;33m)\u001b[0m\u001b[1;33m\u001b[0m\u001b[1;33m\u001b[0m\u001b[0m\n\u001b[0m\u001b[0;32m    762\u001b[0m                         \u001b[1;32myield\u001b[0m \u001b[0mobj\u001b[0m\u001b[1;33m\u001b[0m\u001b[1;33m\u001b[0m\u001b[0m\n\u001b[0;32m    763\u001b[0m \u001b[1;33m\u001b[0m\u001b[0m\n",
      "\u001b[1;32m~\\Documents\\Anaconda\\lib\\site-packages\\snscrape\\modules\\twitter.py\u001b[0m in \u001b[0;36m_get_api_data\u001b[1;34m(self, endpoint, apiType, params)\u001b[0m\n\u001b[0;32m    725\u001b[0m                 \u001b[1;32mif\u001b[0m \u001b[0mapiType\u001b[0m \u001b[1;32mis\u001b[0m \u001b[0m_TwitterAPIType\u001b[0m\u001b[1;33m.\u001b[0m\u001b[0mGRAPHQL\u001b[0m\u001b[1;33m:\u001b[0m\u001b[1;33m\u001b[0m\u001b[1;33m\u001b[0m\u001b[0m\n\u001b[0;32m    726\u001b[0m                         \u001b[0mparams\u001b[0m \u001b[1;33m=\u001b[0m \u001b[0murllib\u001b[0m\u001b[1;33m.\u001b[0m\u001b[0mparse\u001b[0m\u001b[1;33m.\u001b[0m\u001b[0murlencode\u001b[0m\u001b[1;33m(\u001b[0m\u001b[1;33m{\u001b[0m\u001b[0mk\u001b[0m\u001b[1;33m:\u001b[0m \u001b[0mjson\u001b[0m\u001b[1;33m.\u001b[0m\u001b[0mdumps\u001b[0m\u001b[1;33m(\u001b[0m\u001b[0mv\u001b[0m\u001b[1;33m,\u001b[0m \u001b[0mseparators\u001b[0m \u001b[1;33m=\u001b[0m \u001b[1;33m(\u001b[0m\u001b[1;34m','\u001b[0m\u001b[1;33m,\u001b[0m \u001b[1;34m':'\u001b[0m\u001b[1;33m)\u001b[0m\u001b[1;33m)\u001b[0m \u001b[1;32mfor\u001b[0m \u001b[0mk\u001b[0m\u001b[1;33m,\u001b[0m \u001b[0mv\u001b[0m \u001b[1;32min\u001b[0m \u001b[0mparams\u001b[0m\u001b[1;33m.\u001b[0m\u001b[0mitems\u001b[0m\u001b[1;33m(\u001b[0m\u001b[1;33m)\u001b[0m\u001b[1;33m}\u001b[0m\u001b[1;33m,\u001b[0m \u001b[0mquote_via\u001b[0m \u001b[1;33m=\u001b[0m \u001b[0murllib\u001b[0m\u001b[1;33m.\u001b[0m\u001b[0mparse\u001b[0m\u001b[1;33m.\u001b[0m\u001b[0mquote\u001b[0m\u001b[1;33m)\u001b[0m\u001b[1;33m\u001b[0m\u001b[1;33m\u001b[0m\u001b[0m\n\u001b[1;32m--> 727\u001b[1;33m                 \u001b[0mr\u001b[0m \u001b[1;33m=\u001b[0m \u001b[0mself\u001b[0m\u001b[1;33m.\u001b[0m\u001b[0m_get\u001b[0m\u001b[1;33m(\u001b[0m\u001b[0mendpoint\u001b[0m\u001b[1;33m,\u001b[0m \u001b[0mparams\u001b[0m \u001b[1;33m=\u001b[0m \u001b[0mparams\u001b[0m\u001b[1;33m,\u001b[0m \u001b[0mheaders\u001b[0m \u001b[1;33m=\u001b[0m \u001b[0mself\u001b[0m\u001b[1;33m.\u001b[0m\u001b[0m_apiHeaders\u001b[0m\u001b[1;33m,\u001b[0m \u001b[0mresponseOkCallback\u001b[0m \u001b[1;33m=\u001b[0m \u001b[0mself\u001b[0m\u001b[1;33m.\u001b[0m\u001b[0m_check_api_response\u001b[0m\u001b[1;33m)\u001b[0m\u001b[1;33m\u001b[0m\u001b[1;33m\u001b[0m\u001b[0m\n\u001b[0m\u001b[0;32m    728\u001b[0m                 \u001b[1;32mtry\u001b[0m\u001b[1;33m:\u001b[0m\u001b[1;33m\u001b[0m\u001b[1;33m\u001b[0m\u001b[0m\n\u001b[0;32m    729\u001b[0m                         \u001b[0mobj\u001b[0m \u001b[1;33m=\u001b[0m \u001b[0mr\u001b[0m\u001b[1;33m.\u001b[0m\u001b[0mjson\u001b[0m\u001b[1;33m(\u001b[0m\u001b[1;33m)\u001b[0m\u001b[1;33m\u001b[0m\u001b[1;33m\u001b[0m\u001b[0m\n",
      "\u001b[1;32m~\\Documents\\Anaconda\\lib\\site-packages\\snscrape\\base.py\u001b[0m in \u001b[0;36m_get\u001b[1;34m(self, *args, **kwargs)\u001b[0m\n\u001b[0;32m    249\u001b[0m \u001b[1;33m\u001b[0m\u001b[0m\n\u001b[0;32m    250\u001b[0m         \u001b[1;32mdef\u001b[0m \u001b[0m_get\u001b[0m\u001b[1;33m(\u001b[0m\u001b[0mself\u001b[0m\u001b[1;33m,\u001b[0m \u001b[1;33m*\u001b[0m\u001b[0margs\u001b[0m\u001b[1;33m,\u001b[0m \u001b[1;33m**\u001b[0m\u001b[0mkwargs\u001b[0m\u001b[1;33m)\u001b[0m\u001b[1;33m:\u001b[0m\u001b[1;33m\u001b[0m\u001b[1;33m\u001b[0m\u001b[0m\n\u001b[1;32m--> 251\u001b[1;33m                 \u001b[1;32mreturn\u001b[0m \u001b[0mself\u001b[0m\u001b[1;33m.\u001b[0m\u001b[0m_request\u001b[0m\u001b[1;33m(\u001b[0m\u001b[1;34m'GET'\u001b[0m\u001b[1;33m,\u001b[0m \u001b[1;33m*\u001b[0m\u001b[0margs\u001b[0m\u001b[1;33m,\u001b[0m \u001b[1;33m**\u001b[0m\u001b[0mkwargs\u001b[0m\u001b[1;33m)\u001b[0m\u001b[1;33m\u001b[0m\u001b[1;33m\u001b[0m\u001b[0m\n\u001b[0m\u001b[0;32m    252\u001b[0m \u001b[1;33m\u001b[0m\u001b[0m\n\u001b[0;32m    253\u001b[0m         \u001b[1;32mdef\u001b[0m \u001b[0m_post\u001b[0m\u001b[1;33m(\u001b[0m\u001b[0mself\u001b[0m\u001b[1;33m,\u001b[0m \u001b[1;33m*\u001b[0m\u001b[0margs\u001b[0m\u001b[1;33m,\u001b[0m \u001b[1;33m**\u001b[0m\u001b[0mkwargs\u001b[0m\u001b[1;33m)\u001b[0m\u001b[1;33m:\u001b[0m\u001b[1;33m\u001b[0m\u001b[1;33m\u001b[0m\u001b[0m\n",
      "\u001b[1;32m~\\Documents\\Anaconda\\lib\\site-packages\\snscrape\\base.py\u001b[0m in \u001b[0;36m_request\u001b[1;34m(self, method, url, params, data, headers, timeout, responseOkCallback, allowRedirects, proxies)\u001b[0m\n\u001b[0;32m    245\u001b[0m                         \u001b[0m_logger\u001b[0m\u001b[1;33m.\u001b[0m\u001b[0mfatal\u001b[0m\u001b[1;33m(\u001b[0m\u001b[0mmsg\u001b[0m\u001b[1;33m)\u001b[0m\u001b[1;33m\u001b[0m\u001b[1;33m\u001b[0m\u001b[0m\n\u001b[0;32m    246\u001b[0m                         \u001b[0m_logger\u001b[0m\u001b[1;33m.\u001b[0m\u001b[0mfatal\u001b[0m\u001b[1;33m(\u001b[0m\u001b[1;34mf'Errors: {\", \".join(errors)}'\u001b[0m\u001b[1;33m)\u001b[0m\u001b[1;33m\u001b[0m\u001b[1;33m\u001b[0m\u001b[0m\n\u001b[1;32m--> 247\u001b[1;33m                         \u001b[1;32mraise\u001b[0m \u001b[0mScraperException\u001b[0m\u001b[1;33m(\u001b[0m\u001b[0mmsg\u001b[0m\u001b[1;33m)\u001b[0m\u001b[1;33m\u001b[0m\u001b[1;33m\u001b[0m\u001b[0m\n\u001b[0m\u001b[0;32m    248\u001b[0m                 \u001b[1;32mraise\u001b[0m \u001b[0mRuntimeError\u001b[0m\u001b[1;33m(\u001b[0m\u001b[1;34m'Reached unreachable code'\u001b[0m\u001b[1;33m)\u001b[0m\u001b[1;33m\u001b[0m\u001b[1;33m\u001b[0m\u001b[0m\n\u001b[0;32m    249\u001b[0m \u001b[1;33m\u001b[0m\u001b[0m\n",
      "\u001b[1;31mScraperException\u001b[0m: 4 requests to https://api.twitter.com/2/search/adaptive.json?include_profile_interstitial_type=1&include_blocking=1&include_blocked_by=1&include_followed_by=1&include_want_retweets=1&include_mute_edge=1&include_can_dm=1&include_can_media_tag=1&include_ext_has_nft_avatar=1&include_ext_is_blue_verified=1&include_ext_verified_type=1&skip_status=1&cards_platform=Web-12&include_cards=1&include_ext_alt_text=true&include_ext_limited_action_results=false&include_quote_count=true&include_reply_count=1&tweet_mode=extended&include_ext_collab_control=true&include_ext_views=true&include_entities=true&include_user_entities=true&include_ext_media_color=true&include_ext_media_availability=true&include_ext_sensitive_media_warning=true&include_ext_trusted_friends_metadata=true&send_error_codes=true&simple_quoted_tweet=true&q=from%3AJoonLuvrXD&tweet_search_mode=live&count=20&query_source=spelling_expansion_revert_click&cursor=scroll%3AthGAVUV0VFVBaAwLi5yYGwsioWgoCxqYPlhuItEnEVgJlzFYCJehgNREVHUkFERURfTU9ERTUBFbQEFQAA&pc=1&spelling_corrections=1&include_ext_edit_control=true&ext=mediaStats%2ChighlightedLabel%2ChasNftAvatar%2CvoiceInfo%2Cenrichments%2CsuperFollowMetadata%2CunmentionInfo%2CeditControl%2Ccollab_control%2Cvibe failed, giving up."
     ]
    }
   ],
   "source": [
    "TwitterId_Replace = TwitterId[10:100]\n",
    "\n",
    "\n",
    "for index,id in enumerate(TwitterId_Replace):\n",
    "    \n",
    "    NonDepressionGroupUserTweet = []\n",
    "\n",
    "    #search for user's data\n",
    "    for tweet in sntwitter.TwitterUserScraper(id).get_items():\n",
    "        NonDepressionGroupUserTweet.append({\"ActualTweet\":tweet.url, \"DateDepressionReported\":str(tweet.date.day)+\"-\"+str(tweet.date.month)+\"-\"+str(tweet.date.year),\"TweetContent\":tweet.rawContent})\n",
    "    \n",
    "    \n",
    "    NonDepressionGroupUserTweet_df = pd.DataFrame(NonDepressionGroupUserTweet, columns=[\"ActualTweet\", \"DateDepressionReported\",\"TweetContent\"])\n",
    "    UserTweetFileName = \"NDG_to_\" + str(index+10) + \"_\" + id +\".csv\"   \n",
    "    NonDepressionGroupUserTweet_df.to_csv(UserTweetFileName,index=False)  \n",
    "    print(\"---Done \"+ UserTweetFileName +\"---\")"
   ]
  },
  {
   "cell_type": "markdown",
   "id": "35539e44",
   "metadata": {},
   "source": [
    "YOU"
   ]
  },
  {
   "cell_type": "code",
   "execution_count": 3,
   "id": "07639e16",
   "metadata": {},
   "outputs": [
    {
     "name": "stderr",
     "output_type": "stream",
     "text": [
      "Error retrieving https://api.twitter.com/2/search/adaptive.json?include_profile_interstitial_type=1&include_blocking=1&include_blocked_by=1&include_followed_by=1&include_want_retweets=1&include_mute_edge=1&include_can_dm=1&include_can_media_tag=1&include_ext_has_nft_avatar=1&include_ext_is_blue_verified=1&include_ext_verified_type=1&skip_status=1&cards_platform=Web-12&include_cards=1&include_ext_alt_text=true&include_ext_limited_action_results=false&include_quote_count=true&include_reply_count=1&tweet_mode=extended&include_ext_collab_control=true&include_ext_views=true&include_entities=true&include_user_entities=true&include_ext_media_color=true&include_ext_media_availability=true&include_ext_sensitive_media_warning=true&include_ext_trusted_friends_metadata=true&send_error_codes=true&simple_quoted_tweet=true&q=from%3AHyukasFragrance&tweet_search_mode=live&count=20&query_source=spelling_expansion_revert_click&pc=1&spelling_corrections=1&include_ext_edit_control=true&ext=mediaStats%2ChighlightedLabel%2ChasNftAvatar%2CvoiceInfo%2Cenrichments%2CsuperFollowMetadata%2CunmentionInfo%2CeditControl%2Ccollab_control%2Cvibe: blocked (403)\n",
      "4 requests to https://api.twitter.com/2/search/adaptive.json?include_profile_interstitial_type=1&include_blocking=1&include_blocked_by=1&include_followed_by=1&include_want_retweets=1&include_mute_edge=1&include_can_dm=1&include_can_media_tag=1&include_ext_has_nft_avatar=1&include_ext_is_blue_verified=1&include_ext_verified_type=1&skip_status=1&cards_platform=Web-12&include_cards=1&include_ext_alt_text=true&include_ext_limited_action_results=false&include_quote_count=true&include_reply_count=1&tweet_mode=extended&include_ext_collab_control=true&include_ext_views=true&include_entities=true&include_user_entities=true&include_ext_media_color=true&include_ext_media_availability=true&include_ext_sensitive_media_warning=true&include_ext_trusted_friends_metadata=true&send_error_codes=true&simple_quoted_tweet=true&q=from%3AHyukasFragrance&tweet_search_mode=live&count=20&query_source=spelling_expansion_revert_click&pc=1&spelling_corrections=1&include_ext_edit_control=true&ext=mediaStats%2ChighlightedLabel%2ChasNftAvatar%2CvoiceInfo%2Cenrichments%2CsuperFollowMetadata%2CunmentionInfo%2CeditControl%2Ccollab_control%2Cvibe failed, giving up.\n",
      "Errors: blocked (403), blocked (403), blocked (403), blocked (403)\n"
     ]
    },
    {
     "ename": "ScraperException",
     "evalue": "4 requests to https://api.twitter.com/2/search/adaptive.json?include_profile_interstitial_type=1&include_blocking=1&include_blocked_by=1&include_followed_by=1&include_want_retweets=1&include_mute_edge=1&include_can_dm=1&include_can_media_tag=1&include_ext_has_nft_avatar=1&include_ext_is_blue_verified=1&include_ext_verified_type=1&skip_status=1&cards_platform=Web-12&include_cards=1&include_ext_alt_text=true&include_ext_limited_action_results=false&include_quote_count=true&include_reply_count=1&tweet_mode=extended&include_ext_collab_control=true&include_ext_views=true&include_entities=true&include_user_entities=true&include_ext_media_color=true&include_ext_media_availability=true&include_ext_sensitive_media_warning=true&include_ext_trusted_friends_metadata=true&send_error_codes=true&simple_quoted_tweet=true&q=from%3AHyukasFragrance&tweet_search_mode=live&count=20&query_source=spelling_expansion_revert_click&pc=1&spelling_corrections=1&include_ext_edit_control=true&ext=mediaStats%2ChighlightedLabel%2ChasNftAvatar%2CvoiceInfo%2Cenrichments%2CsuperFollowMetadata%2CunmentionInfo%2CeditControl%2Ccollab_control%2Cvibe failed, giving up.",
     "output_type": "error",
     "traceback": [
      "\u001b[1;31m---------------------------------------------------------------------------\u001b[0m",
      "\u001b[1;31mScraperException\u001b[0m                          Traceback (most recent call last)",
      "\u001b[1;32m~\\AppData\\Local\\Temp/ipykernel_18944/2686597690.py\u001b[0m in \u001b[0;36m<module>\u001b[1;34m\u001b[0m\n\u001b[0;32m      7\u001b[0m \u001b[1;33m\u001b[0m\u001b[0m\n\u001b[0;32m      8\u001b[0m     \u001b[1;31m#search for user's data\u001b[0m\u001b[1;33m\u001b[0m\u001b[1;33m\u001b[0m\u001b[0m\n\u001b[1;32m----> 9\u001b[1;33m     \u001b[1;32mfor\u001b[0m \u001b[0mtweet\u001b[0m \u001b[1;32min\u001b[0m \u001b[0msntwitter\u001b[0m\u001b[1;33m.\u001b[0m\u001b[0mTwitterUserScraper\u001b[0m\u001b[1;33m(\u001b[0m\u001b[0mid\u001b[0m\u001b[1;33m)\u001b[0m\u001b[1;33m.\u001b[0m\u001b[0mget_items\u001b[0m\u001b[1;33m(\u001b[0m\u001b[1;33m)\u001b[0m\u001b[1;33m:\u001b[0m\u001b[1;33m\u001b[0m\u001b[1;33m\u001b[0m\u001b[0m\n\u001b[0m\u001b[0;32m     10\u001b[0m         \u001b[0mNonDepressionGroupUserTweet\u001b[0m\u001b[1;33m.\u001b[0m\u001b[0mappend\u001b[0m\u001b[1;33m(\u001b[0m\u001b[1;33m{\u001b[0m\u001b[1;34m\"ActualTweet\"\u001b[0m\u001b[1;33m:\u001b[0m\u001b[0mtweet\u001b[0m\u001b[1;33m.\u001b[0m\u001b[0murl\u001b[0m\u001b[1;33m,\u001b[0m \u001b[1;34m\"DateDepressionReported\"\u001b[0m\u001b[1;33m:\u001b[0m\u001b[0mstr\u001b[0m\u001b[1;33m(\u001b[0m\u001b[0mtweet\u001b[0m\u001b[1;33m.\u001b[0m\u001b[0mdate\u001b[0m\u001b[1;33m.\u001b[0m\u001b[0mday\u001b[0m\u001b[1;33m)\u001b[0m\u001b[1;33m+\u001b[0m\u001b[1;34m\"-\"\u001b[0m\u001b[1;33m+\u001b[0m\u001b[0mstr\u001b[0m\u001b[1;33m(\u001b[0m\u001b[0mtweet\u001b[0m\u001b[1;33m.\u001b[0m\u001b[0mdate\u001b[0m\u001b[1;33m.\u001b[0m\u001b[0mmonth\u001b[0m\u001b[1;33m)\u001b[0m\u001b[1;33m+\u001b[0m\u001b[1;34m\"-\"\u001b[0m\u001b[1;33m+\u001b[0m\u001b[0mstr\u001b[0m\u001b[1;33m(\u001b[0m\u001b[0mtweet\u001b[0m\u001b[1;33m.\u001b[0m\u001b[0mdate\u001b[0m\u001b[1;33m.\u001b[0m\u001b[0myear\u001b[0m\u001b[1;33m)\u001b[0m\u001b[1;33m,\u001b[0m\u001b[1;34m\"TweetContent\"\u001b[0m\u001b[1;33m:\u001b[0m\u001b[0mtweet\u001b[0m\u001b[1;33m.\u001b[0m\u001b[0mrawContent\u001b[0m\u001b[1;33m}\u001b[0m\u001b[1;33m)\u001b[0m\u001b[1;33m\u001b[0m\u001b[1;33m\u001b[0m\u001b[0m\n\u001b[0;32m     11\u001b[0m \u001b[1;33m\u001b[0m\u001b[0m\n",
      "\u001b[1;32m~\\Documents\\Anaconda\\lib\\site-packages\\snscrape\\modules\\twitter.py\u001b[0m in \u001b[0;36mget_items\u001b[1;34m(self)\u001b[0m\n\u001b[0;32m   1753\u001b[0m                         \u001b[0mself\u001b[0m\u001b[1;33m.\u001b[0m\u001b[0m_isUserId\u001b[0m \u001b[1;33m=\u001b[0m \u001b[1;32mFalse\u001b[0m\u001b[1;33m\u001b[0m\u001b[1;33m\u001b[0m\u001b[0m\n\u001b[0;32m   1754\u001b[0m                         \u001b[0mself\u001b[0m\u001b[1;33m.\u001b[0m\u001b[0m_query\u001b[0m \u001b[1;33m=\u001b[0m \u001b[1;34mf'from:{self._user}'\u001b[0m\u001b[1;33m\u001b[0m\u001b[1;33m\u001b[0m\u001b[0m\n\u001b[1;32m-> 1755\u001b[1;33m                 \u001b[1;32myield\u001b[0m \u001b[1;32mfrom\u001b[0m \u001b[0msuper\u001b[0m\u001b[1;33m(\u001b[0m\u001b[1;33m)\u001b[0m\u001b[1;33m.\u001b[0m\u001b[0mget_items\u001b[0m\u001b[1;33m(\u001b[0m\u001b[1;33m)\u001b[0m\u001b[1;33m\u001b[0m\u001b[1;33m\u001b[0m\u001b[0m\n\u001b[0m\u001b[0;32m   1756\u001b[0m \u001b[1;33m\u001b[0m\u001b[0m\n\u001b[0;32m   1757\u001b[0m         \u001b[1;33m@\u001b[0m\u001b[0mstaticmethod\u001b[0m\u001b[1;33m\u001b[0m\u001b[1;33m\u001b[0m\u001b[0m\n",
      "\u001b[1;32m~\\Documents\\Anaconda\\lib\\site-packages\\snscrape\\modules\\twitter.py\u001b[0m in \u001b[0;36mget_items\u001b[1;34m(self)\u001b[0m\n\u001b[0;32m   1659\u001b[0m                 \u001b[1;32mdel\u001b[0m \u001b[0mparams\u001b[0m\u001b[1;33m[\u001b[0m\u001b[1;34m'cursor'\u001b[0m\u001b[1;33m]\u001b[0m\u001b[1;33m\u001b[0m\u001b[1;33m\u001b[0m\u001b[0m\n\u001b[0;32m   1660\u001b[0m \u001b[1;33m\u001b[0m\u001b[0m\n\u001b[1;32m-> 1661\u001b[1;33m                 \u001b[1;32mfor\u001b[0m \u001b[0mobj\u001b[0m \u001b[1;32min\u001b[0m \u001b[0mself\u001b[0m\u001b[1;33m.\u001b[0m\u001b[0m_iter_api_data\u001b[0m\u001b[1;33m(\u001b[0m\u001b[1;34m'https://api.twitter.com/2/search/adaptive.json'\u001b[0m\u001b[1;33m,\u001b[0m \u001b[0m_TwitterAPIType\u001b[0m\u001b[1;33m.\u001b[0m\u001b[0mV2\u001b[0m\u001b[1;33m,\u001b[0m \u001b[0mparams\u001b[0m\u001b[1;33m,\u001b[0m \u001b[0mpaginationParams\u001b[0m\u001b[1;33m,\u001b[0m \u001b[0mcursor\u001b[0m \u001b[1;33m=\u001b[0m \u001b[0mself\u001b[0m\u001b[1;33m.\u001b[0m\u001b[0m_cursor\u001b[0m\u001b[1;33m)\u001b[0m\u001b[1;33m:\u001b[0m\u001b[1;33m\u001b[0m\u001b[1;33m\u001b[0m\u001b[0m\n\u001b[0m\u001b[0;32m   1662\u001b[0m                         \u001b[1;32myield\u001b[0m \u001b[1;32mfrom\u001b[0m \u001b[0mself\u001b[0m\u001b[1;33m.\u001b[0m\u001b[0m_v2_timeline_instructions_to_tweets_or_users\u001b[0m\u001b[1;33m(\u001b[0m\u001b[0mobj\u001b[0m\u001b[1;33m)\u001b[0m\u001b[1;33m\u001b[0m\u001b[1;33m\u001b[0m\u001b[0m\n\u001b[0;32m   1663\u001b[0m \u001b[1;33m\u001b[0m\u001b[0m\n",
      "\u001b[1;32m~\\Documents\\Anaconda\\lib\\site-packages\\snscrape\\modules\\twitter.py\u001b[0m in \u001b[0;36m_iter_api_data\u001b[1;34m(self, endpoint, apiType, params, paginationParams, cursor, direction)\u001b[0m\n\u001b[0;32m    759\u001b[0m                 \u001b[1;32mwhile\u001b[0m \u001b[1;32mTrue\u001b[0m\u001b[1;33m:\u001b[0m\u001b[1;33m\u001b[0m\u001b[1;33m\u001b[0m\u001b[0m\n\u001b[0;32m    760\u001b[0m                         \u001b[0m_logger\u001b[0m\u001b[1;33m.\u001b[0m\u001b[0minfo\u001b[0m\u001b[1;33m(\u001b[0m\u001b[1;34mf'Retrieving scroll page {cursor}'\u001b[0m\u001b[1;33m)\u001b[0m\u001b[1;33m\u001b[0m\u001b[1;33m\u001b[0m\u001b[0m\n\u001b[1;32m--> 761\u001b[1;33m                         \u001b[0mobj\u001b[0m \u001b[1;33m=\u001b[0m \u001b[0mself\u001b[0m\u001b[1;33m.\u001b[0m\u001b[0m_get_api_data\u001b[0m\u001b[1;33m(\u001b[0m\u001b[0mendpoint\u001b[0m\u001b[1;33m,\u001b[0m \u001b[0mapiType\u001b[0m\u001b[1;33m,\u001b[0m \u001b[0mreqParams\u001b[0m\u001b[1;33m)\u001b[0m\u001b[1;33m\u001b[0m\u001b[1;33m\u001b[0m\u001b[0m\n\u001b[0m\u001b[0;32m    762\u001b[0m                         \u001b[1;32myield\u001b[0m \u001b[0mobj\u001b[0m\u001b[1;33m\u001b[0m\u001b[1;33m\u001b[0m\u001b[0m\n\u001b[0;32m    763\u001b[0m \u001b[1;33m\u001b[0m\u001b[0m\n",
      "\u001b[1;32m~\\Documents\\Anaconda\\lib\\site-packages\\snscrape\\modules\\twitter.py\u001b[0m in \u001b[0;36m_get_api_data\u001b[1;34m(self, endpoint, apiType, params)\u001b[0m\n\u001b[0;32m    725\u001b[0m                 \u001b[1;32mif\u001b[0m \u001b[0mapiType\u001b[0m \u001b[1;32mis\u001b[0m \u001b[0m_TwitterAPIType\u001b[0m\u001b[1;33m.\u001b[0m\u001b[0mGRAPHQL\u001b[0m\u001b[1;33m:\u001b[0m\u001b[1;33m\u001b[0m\u001b[1;33m\u001b[0m\u001b[0m\n\u001b[0;32m    726\u001b[0m                         \u001b[0mparams\u001b[0m \u001b[1;33m=\u001b[0m \u001b[0murllib\u001b[0m\u001b[1;33m.\u001b[0m\u001b[0mparse\u001b[0m\u001b[1;33m.\u001b[0m\u001b[0murlencode\u001b[0m\u001b[1;33m(\u001b[0m\u001b[1;33m{\u001b[0m\u001b[0mk\u001b[0m\u001b[1;33m:\u001b[0m \u001b[0mjson\u001b[0m\u001b[1;33m.\u001b[0m\u001b[0mdumps\u001b[0m\u001b[1;33m(\u001b[0m\u001b[0mv\u001b[0m\u001b[1;33m,\u001b[0m \u001b[0mseparators\u001b[0m \u001b[1;33m=\u001b[0m \u001b[1;33m(\u001b[0m\u001b[1;34m','\u001b[0m\u001b[1;33m,\u001b[0m \u001b[1;34m':'\u001b[0m\u001b[1;33m)\u001b[0m\u001b[1;33m)\u001b[0m \u001b[1;32mfor\u001b[0m \u001b[0mk\u001b[0m\u001b[1;33m,\u001b[0m \u001b[0mv\u001b[0m \u001b[1;32min\u001b[0m \u001b[0mparams\u001b[0m\u001b[1;33m.\u001b[0m\u001b[0mitems\u001b[0m\u001b[1;33m(\u001b[0m\u001b[1;33m)\u001b[0m\u001b[1;33m}\u001b[0m\u001b[1;33m,\u001b[0m \u001b[0mquote_via\u001b[0m \u001b[1;33m=\u001b[0m \u001b[0murllib\u001b[0m\u001b[1;33m.\u001b[0m\u001b[0mparse\u001b[0m\u001b[1;33m.\u001b[0m\u001b[0mquote\u001b[0m\u001b[1;33m)\u001b[0m\u001b[1;33m\u001b[0m\u001b[1;33m\u001b[0m\u001b[0m\n\u001b[1;32m--> 727\u001b[1;33m                 \u001b[0mr\u001b[0m \u001b[1;33m=\u001b[0m \u001b[0mself\u001b[0m\u001b[1;33m.\u001b[0m\u001b[0m_get\u001b[0m\u001b[1;33m(\u001b[0m\u001b[0mendpoint\u001b[0m\u001b[1;33m,\u001b[0m \u001b[0mparams\u001b[0m \u001b[1;33m=\u001b[0m \u001b[0mparams\u001b[0m\u001b[1;33m,\u001b[0m \u001b[0mheaders\u001b[0m \u001b[1;33m=\u001b[0m \u001b[0mself\u001b[0m\u001b[1;33m.\u001b[0m\u001b[0m_apiHeaders\u001b[0m\u001b[1;33m,\u001b[0m \u001b[0mresponseOkCallback\u001b[0m \u001b[1;33m=\u001b[0m \u001b[0mself\u001b[0m\u001b[1;33m.\u001b[0m\u001b[0m_check_api_response\u001b[0m\u001b[1;33m)\u001b[0m\u001b[1;33m\u001b[0m\u001b[1;33m\u001b[0m\u001b[0m\n\u001b[0m\u001b[0;32m    728\u001b[0m                 \u001b[1;32mtry\u001b[0m\u001b[1;33m:\u001b[0m\u001b[1;33m\u001b[0m\u001b[1;33m\u001b[0m\u001b[0m\n\u001b[0;32m    729\u001b[0m                         \u001b[0mobj\u001b[0m \u001b[1;33m=\u001b[0m \u001b[0mr\u001b[0m\u001b[1;33m.\u001b[0m\u001b[0mjson\u001b[0m\u001b[1;33m(\u001b[0m\u001b[1;33m)\u001b[0m\u001b[1;33m\u001b[0m\u001b[1;33m\u001b[0m\u001b[0m\n",
      "\u001b[1;32m~\\Documents\\Anaconda\\lib\\site-packages\\snscrape\\base.py\u001b[0m in \u001b[0;36m_get\u001b[1;34m(self, *args, **kwargs)\u001b[0m\n\u001b[0;32m    249\u001b[0m \u001b[1;33m\u001b[0m\u001b[0m\n\u001b[0;32m    250\u001b[0m         \u001b[1;32mdef\u001b[0m \u001b[0m_get\u001b[0m\u001b[1;33m(\u001b[0m\u001b[0mself\u001b[0m\u001b[1;33m,\u001b[0m \u001b[1;33m*\u001b[0m\u001b[0margs\u001b[0m\u001b[1;33m,\u001b[0m \u001b[1;33m**\u001b[0m\u001b[0mkwargs\u001b[0m\u001b[1;33m)\u001b[0m\u001b[1;33m:\u001b[0m\u001b[1;33m\u001b[0m\u001b[1;33m\u001b[0m\u001b[0m\n\u001b[1;32m--> 251\u001b[1;33m                 \u001b[1;32mreturn\u001b[0m \u001b[0mself\u001b[0m\u001b[1;33m.\u001b[0m\u001b[0m_request\u001b[0m\u001b[1;33m(\u001b[0m\u001b[1;34m'GET'\u001b[0m\u001b[1;33m,\u001b[0m \u001b[1;33m*\u001b[0m\u001b[0margs\u001b[0m\u001b[1;33m,\u001b[0m \u001b[1;33m**\u001b[0m\u001b[0mkwargs\u001b[0m\u001b[1;33m)\u001b[0m\u001b[1;33m\u001b[0m\u001b[1;33m\u001b[0m\u001b[0m\n\u001b[0m\u001b[0;32m    252\u001b[0m \u001b[1;33m\u001b[0m\u001b[0m\n\u001b[0;32m    253\u001b[0m         \u001b[1;32mdef\u001b[0m \u001b[0m_post\u001b[0m\u001b[1;33m(\u001b[0m\u001b[0mself\u001b[0m\u001b[1;33m,\u001b[0m \u001b[1;33m*\u001b[0m\u001b[0margs\u001b[0m\u001b[1;33m,\u001b[0m \u001b[1;33m**\u001b[0m\u001b[0mkwargs\u001b[0m\u001b[1;33m)\u001b[0m\u001b[1;33m:\u001b[0m\u001b[1;33m\u001b[0m\u001b[1;33m\u001b[0m\u001b[0m\n",
      "\u001b[1;32m~\\Documents\\Anaconda\\lib\\site-packages\\snscrape\\base.py\u001b[0m in \u001b[0;36m_request\u001b[1;34m(self, method, url, params, data, headers, timeout, responseOkCallback, allowRedirects, proxies)\u001b[0m\n\u001b[0;32m    245\u001b[0m                         \u001b[0m_logger\u001b[0m\u001b[1;33m.\u001b[0m\u001b[0mfatal\u001b[0m\u001b[1;33m(\u001b[0m\u001b[0mmsg\u001b[0m\u001b[1;33m)\u001b[0m\u001b[1;33m\u001b[0m\u001b[1;33m\u001b[0m\u001b[0m\n\u001b[0;32m    246\u001b[0m                         \u001b[0m_logger\u001b[0m\u001b[1;33m.\u001b[0m\u001b[0mfatal\u001b[0m\u001b[1;33m(\u001b[0m\u001b[1;34mf'Errors: {\", \".join(errors)}'\u001b[0m\u001b[1;33m)\u001b[0m\u001b[1;33m\u001b[0m\u001b[1;33m\u001b[0m\u001b[0m\n\u001b[1;32m--> 247\u001b[1;33m                         \u001b[1;32mraise\u001b[0m \u001b[0mScraperException\u001b[0m\u001b[1;33m(\u001b[0m\u001b[0mmsg\u001b[0m\u001b[1;33m)\u001b[0m\u001b[1;33m\u001b[0m\u001b[1;33m\u001b[0m\u001b[0m\n\u001b[0m\u001b[0;32m    248\u001b[0m                 \u001b[1;32mraise\u001b[0m \u001b[0mRuntimeError\u001b[0m\u001b[1;33m(\u001b[0m\u001b[1;34m'Reached unreachable code'\u001b[0m\u001b[1;33m)\u001b[0m\u001b[1;33m\u001b[0m\u001b[1;33m\u001b[0m\u001b[0m\n\u001b[0;32m    249\u001b[0m \u001b[1;33m\u001b[0m\u001b[0m\n",
      "\u001b[1;31mScraperException\u001b[0m: 4 requests to https://api.twitter.com/2/search/adaptive.json?include_profile_interstitial_type=1&include_blocking=1&include_blocked_by=1&include_followed_by=1&include_want_retweets=1&include_mute_edge=1&include_can_dm=1&include_can_media_tag=1&include_ext_has_nft_avatar=1&include_ext_is_blue_verified=1&include_ext_verified_type=1&skip_status=1&cards_platform=Web-12&include_cards=1&include_ext_alt_text=true&include_ext_limited_action_results=false&include_quote_count=true&include_reply_count=1&tweet_mode=extended&include_ext_collab_control=true&include_ext_views=true&include_entities=true&include_user_entities=true&include_ext_media_color=true&include_ext_media_availability=true&include_ext_sensitive_media_warning=true&include_ext_trusted_friends_metadata=true&send_error_codes=true&simple_quoted_tweet=true&q=from%3AHyukasFragrance&tweet_search_mode=live&count=20&query_source=spelling_expansion_revert_click&pc=1&spelling_corrections=1&include_ext_edit_control=true&ext=mediaStats%2ChighlightedLabel%2ChasNftAvatar%2CvoiceInfo%2Cenrichments%2CsuperFollowMetadata%2CunmentionInfo%2CeditControl%2Ccollab_control%2Cvibe failed, giving up."
     ]
    }
   ],
   "source": [
    "TwitterId_Replace = TwitterId[10:100]\n",
    "\n",
    "\n",
    "for index,id in enumerate(TwitterId_Replace):\n",
    "    \n",
    "    NonDepressionGroupUserTweet = []\n",
    "\n",
    "    #search for user's data\n",
    "    for tweet in sntwitter.TwitterUserScraper(id).get_items():\n",
    "        NonDepressionGroupUserTweet.append({\"ActualTweet\":tweet.url, \"DateDepressionReported\":str(tweet.date.day)+\"-\"+str(tweet.date.month)+\"-\"+str(tweet.date.year),\"TweetContent\":tweet.rawContent})\n",
    "    \n",
    "    \n",
    "    NonDepressionGroupUserTweet_df = pd.DataFrame(NonDepressionGroupUserTweet, columns=[\"ActualTweet\", \"DateDepressionReported\",\"TweetContent\"])\n",
    "    UserTweetFileName = \"NDG_you_\" + str(index+10) + \"_\" + id +\".csv\"   \n",
    "    NonDepressionGroupUserTweet_df.to_csv(UserTweetFileName,index=False)  \n",
    "    print(\"---Done \"+ UserTweetFileName +\"---\")"
   ]
  },
  {
   "cell_type": "code",
   "execution_count": null,
   "id": "86273a3b",
   "metadata": {},
   "outputs": [],
   "source": []
  }
 ],
 "metadata": {
  "kernelspec": {
   "display_name": "Python 3 (ipykernel)",
   "language": "python",
   "name": "python3"
  },
  "language_info": {
   "codemirror_mode": {
    "name": "ipython",
    "version": 3
   },
   "file_extension": ".py",
   "mimetype": "text/x-python",
   "name": "python",
   "nbconvert_exporter": "python",
   "pygments_lexer": "ipython3",
   "version": "3.9.7"
  }
 },
 "nbformat": 4,
 "nbformat_minor": 5
}
